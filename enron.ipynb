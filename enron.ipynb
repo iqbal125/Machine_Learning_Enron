{
 "cells": [
  {
   "cell_type": "code",
   "execution_count": 117,
   "metadata": {
    "collapsed": false
   },
   "outputs": [],
   "source": [
    "#!/usr/bin/python\n",
    "%matplotlib inline\n",
    "\n",
    "import sys\n",
    "import pickle\n",
    "import pandas as pd\n",
    "sys.path.append(\"../tools/\")\n",
    "import matplotlib.pyplot as plt\n",
    "from tester import test_classifier\n",
    "from feature_format import featureFormat, targetFeatureSplit\n",
    "from tester import dump_classifier_and_data\n",
    "from sklearn.cross_validation import train_test_split\n",
    "from sklearn.naive_bayes import GaussianNB\n",
    "from sklearn import svm\n",
    "from sklearn import tree\n",
    "from sklearn.metrics import accuracy_score\n",
    "from sklearn.model_selection import GridSearchCV\n",
    "import numpy as np\n",
    "\n",
    "### Load the dictionary containing the dataset\n",
    "with open(\"final_project_dataset.pkl\", \"r\") as data_file:\n",
    "    data_dict = pickle.load(data_file)"
   ]
  },
  {
   "cell_type": "markdown",
   "metadata": {},
   "source": [
    "<h3> Basic Analysis </h3>"
   ]
  },
  {
   "cell_type": "code",
   "execution_count": 118,
   "metadata": {
    "collapsed": false
   },
   "outputs": [],
   "source": [
    "dataset = data_dict"
   ]
  },
  {
   "cell_type": "code",
   "execution_count": 119,
   "metadata": {
    "collapsed": false
   },
   "outputs": [
    {
     "data": {
      "text/plain": [
       "146"
      ]
     },
     "execution_count": 119,
     "metadata": {},
     "output_type": "execute_result"
    }
   ],
   "source": [
    "#There are 146 total people in the dataset\n",
    "len(dataset)"
   ]
  },
  {
   "cell_type": "code",
   "execution_count": 120,
   "metadata": {
    "collapsed": false
   },
   "outputs": [
    {
     "name": "stdout",
     "output_type": "stream",
     "text": [
      "{'salary': 1072321, 'to_messages': 4273, 'deferral_payments': 202911, 'total_payments': 103559793, 'exercised_stock_options': 34348384, 'bonus': 7000000, 'restricted_stock': 14761694, 'shared_receipt_with_poi': 2411, 'restricted_stock_deferred': 'NaN', 'total_stock_value': 49110078, 'expenses': 99832, 'loan_advances': 81525000, 'from_messages': 36, 'other': 10359729, 'from_this_person_to_poi': 16, 'poi': True, 'director_fees': 'NaN', 'deferred_income': -300000, 'long_term_incentive': 3600000, 'email_address': 'kenneth.lay@enron.com', 'from_poi_to_this_person': 123}\n"
     ]
    }
   ],
   "source": [
    "#Famous Enron poi\n",
    "print dataset['LAY KENNETH L']"
   ]
  },
  {
   "cell_type": "code",
   "execution_count": 121,
   "metadata": {
    "collapsed": false
   },
   "outputs": [
    {
     "name": "stdout",
     "output_type": "stream",
     "text": [
      "{'salary': 365788, 'to_messages': 807, 'deferral_payments': 'NaN', 'total_payments': 1061827, 'exercised_stock_options': 'NaN', 'bonus': 600000, 'restricted_stock': 585062, 'shared_receipt_with_poi': 702, 'restricted_stock_deferred': 'NaN', 'total_stock_value': 585062, 'expenses': 94299, 'loan_advances': 'NaN', 'from_messages': 29, 'other': 1740, 'from_this_person_to_poi': 1, 'poi': False, 'director_fees': 'NaN', 'deferred_income': 'NaN', 'long_term_incentive': 'NaN', 'email_address': 'mark.metts@enron.com', 'from_poi_to_this_person': 38}\n"
     ]
    }
   ],
   "source": [
    "#Compared to average employee\n",
    "print dataset['METTS MARK']"
   ]
  },
  {
   "cell_type": "code",
   "execution_count": 122,
   "metadata": {
    "collapsed": true
   },
   "outputs": [],
   "source": [
    "#As a starting point we will include all of the features in our list\n",
    "features_list = ['poi', 'bonus', 'deferred_income', 'director_fees',\n",
    " 'exercised_stock_options', 'expenses', 'from_messages',\n",
    " 'from_poi_to_this_person', 'from_this_person_to_poi', 'loan_advances',\n",
    " 'long_term_incentive', 'other', 'restricted_stock',\n",
    " 'restricted_stock_deferred', 'salary', 'shared_receipt_with_poi', 'to_messages',\n",
    "'total_payments', 'total_stock_value']"
   ]
  },
  {
   "cell_type": "code",
   "execution_count": 123,
   "metadata": {
    "collapsed": false
   },
   "outputs": [],
   "source": [
    "#Here we convert our data to a pandas dataframe, which makes it wasier ot work with\n",
    "enron_data = pd.DataFrame(dataset)\n",
    "\n",
    "#Transpose our data to turn names of employees into rows and attributes into columns\n",
    "enron_data = enron_data.transpose()"
   ]
  },
  {
   "cell_type": "code",
   "execution_count": 124,
   "metadata": {
    "collapsed": false
   },
   "outputs": [
    {
     "data": {
      "text/plain": [
       "{'bonus': 'NaN',\n",
       " 'deferral_payments': 'NaN',\n",
       " 'deferred_income': 'NaN',\n",
       " 'director_fees': 'NaN',\n",
       " 'email_address': 'NaN',\n",
       " 'exercised_stock_options': 'NaN',\n",
       " 'expenses': 'NaN',\n",
       " 'from_messages': 'NaN',\n",
       " 'from_poi_to_this_person': 'NaN',\n",
       " 'from_this_person_to_poi': 'NaN',\n",
       " 'loan_advances': 'NaN',\n",
       " 'long_term_incentive': 'NaN',\n",
       " 'other': 362096,\n",
       " 'poi': False,\n",
       " 'restricted_stock': 'NaN',\n",
       " 'restricted_stock_deferred': 'NaN',\n",
       " 'salary': 'NaN',\n",
       " 'shared_receipt_with_poi': 'NaN',\n",
       " 'to_messages': 'NaN',\n",
       " 'total_payments': 362096,\n",
       " 'total_stock_value': 'NaN'}"
      ]
     },
     "execution_count": 124,
     "metadata": {},
     "output_type": "execute_result"
    }
   ],
   "source": [
    "# Remove errors, these obviously dont belong in this dataset\n",
    "dataset.pop('TOTAL', 0)\n",
    "dataset.pop('THE TRAVEL AGENCY IN THE PARK', 0)"
   ]
  },
  {
   "cell_type": "code",
   "execution_count": 125,
   "metadata": {
    "collapsed": false
   },
   "outputs": [
    {
     "name": "stdout",
     "output_type": "stream",
     "text": [
      "['bonus' 'deferral_payments' 'deferred_income' 'director_fees'\n",
      " 'email_address' 'exercised_stock_options' 'expenses' 'from_messages'\n",
      " 'from_poi_to_this_person' 'from_this_person_to_poi' 'loan_advances'\n",
      " 'long_term_incentive' 'other' 'poi' 'restricted_stock'\n",
      " 'restricted_stock_deferred' 'salary' 'shared_receipt_with_poi'\n",
      " 'to_messages' 'total_payments' 'total_stock_value']\n",
      "Total Number of Features:  21\n"
     ]
    }
   ],
   "source": [
    "print enron_data.columns.values\n",
    "print \"Total Number of Features: \", len(enron_data.columns.values)"
   ]
  },
  {
   "cell_type": "markdown",
   "metadata": {},
   "source": [
    "<h4> Counting NaN Values </h4>"
   ]
  },
  {
   "cell_type": "code",
   "execution_count": 126,
   "metadata": {
    "collapsed": false
   },
   "outputs": [
    {
     "name": "stdout",
     "output_type": "stream",
     "text": [
      "bonus\n",
      "64\n",
      "deferral_payments\n",
      "107\n",
      "deferred_income\n",
      "97\n",
      "director_fees\n",
      "129\n",
      "email_address\n",
      "35\n",
      "exercised_stock_options\n",
      "44\n",
      "expenses\n",
      "51\n",
      "from_messages\n",
      "60\n",
      "from_poi_to_this_person\n",
      "60\n",
      "from_this_person_to_poi\n",
      "60\n",
      "loan_advances\n",
      "142\n",
      "long_term_incentive\n",
      "80\n",
      "other\n",
      "53\n",
      "poi\n",
      "0\n",
      "restricted_stock\n",
      "36\n",
      "restricted_stock_deferred\n",
      "128\n",
      "salary\n",
      "51\n",
      "shared_receipt_with_poi\n",
      "60\n",
      "to_messages\n",
      "60\n",
      "total_payments\n",
      "21\n",
      "total_stock_value\n",
      "20\n"
     ]
    }
   ],
   "source": [
    "columns = []\n",
    "\n",
    "for i in enron_data.columns.values:\n",
    "    columns.append(i)\n",
    "\n",
    "\n",
    "for i in columns:\n",
    "    print i\n",
    "    print enron_data[enron_data[i]==\"NaN\"].count()[i]"
   ]
  },
  {
   "cell_type": "code",
   "execution_count": 127,
   "metadata": {
    "collapsed": false
   },
   "outputs": [
    {
     "name": "stdout",
     "output_type": "stream",
     "text": [
      "BELDEN TIMOTHY N        True\n",
      "BOWEN JR RAYMOND M      True\n",
      "CALGER CHRISTOPHER F    True\n",
      "CAUSEY RICHARD A        True\n",
      "COLWELL WESLEY          True\n",
      "DELAINEY DAVID W        True\n",
      "FASTOW ANDREW S         True\n",
      "GLISAN JR BEN F         True\n",
      "HANNON KEVIN P          True\n",
      "HIRKO JOSEPH            True\n",
      "KOENIG MARK E           True\n",
      "KOPPER MICHAEL J        True\n",
      "LAY KENNETH L           True\n",
      "RICE KENNETH D          True\n",
      "RIEKER PAULA H          True\n",
      "SHELBY REX              True\n",
      "SKILLING JEFFREY K      True\n",
      "YEAGER F SCOTT          True\n",
      "Name: poi, dtype: object\n"
     ]
    }
   ],
   "source": [
    "#Here we see that the names of people categorized as POI. There are only 18 POIs.\n",
    "print enron_data[enron_data['poi']==True]['poi']"
   ]
  },
  {
   "cell_type": "code",
   "execution_count": 128,
   "metadata": {
    "collapsed": false
   },
   "outputs": [
    {
     "name": "stdout",
     "output_type": "stream",
     "text": [
      "                        bonus deferral_payments deferred_income director_fees  \\\n",
      "BELDEN TIMOTHY N      5249999           2144013        -2334434           NaN   \n",
      "BOWEN JR RAYMOND M    1350000               NaN            -833           NaN   \n",
      "CALGER CHRISTOPHER F  1250000               NaN         -262500           NaN   \n",
      "CAUSEY RICHARD A      1000000               NaN         -235000           NaN   \n",
      "COLWELL WESLEY        1200000             27610         -144062           NaN   \n",
      "DELAINEY DAVID W      3000000               NaN             NaN           NaN   \n",
      "FASTOW ANDREW S       1300000               NaN        -1386055           NaN   \n",
      "GLISAN JR BEN F        600000               NaN             NaN           NaN   \n",
      "HANNON KEVIN P        1500000               NaN        -3117011           NaN   \n",
      "HIRKO JOSEPH              NaN             10259             NaN           NaN   \n",
      "KOENIG MARK E          700000               NaN             NaN           NaN   \n",
      "KOPPER MICHAEL J       800000               NaN             NaN           NaN   \n",
      "LAY KENNETH L         7000000            202911         -300000           NaN   \n",
      "RICE KENNETH D        1750000               NaN        -3504386           NaN   \n",
      "RIEKER PAULA H         700000            214678         -100000           NaN   \n",
      "SHELBY REX             200000               NaN           -4167           NaN   \n",
      "SKILLING JEFFREY K    5600000               NaN             NaN           NaN   \n",
      "YEAGER F SCOTT            NaN               NaN             NaN           NaN   \n",
      "\n",
      "                                     email_address exercised_stock_options  \\\n",
      "BELDEN TIMOTHY N              tim.belden@enron.com                  953136   \n",
      "BOWEN JR RAYMOND M         raymond.bowen@enron.com                     NaN   \n",
      "CALGER CHRISTOPHER F  christopher.calger@enron.com                     NaN   \n",
      "CAUSEY RICHARD A          richard.causey@enron.com                     NaN   \n",
      "COLWELL WESLEY               wes.colwell@enron.com                     NaN   \n",
      "DELAINEY DAVID W          david.delainey@enron.com                 2291113   \n",
      "FASTOW ANDREW S            andrew.fastow@enron.com                     NaN   \n",
      "GLISAN JR BEN F               ben.glisan@enron.com                  384728   \n",
      "HANNON KEVIN P              kevin.hannon@enron.com                 5538001   \n",
      "HIRKO JOSEPH                   joe.hirko@enron.com                30766064   \n",
      "KOENIG MARK E                mark.koenig@enron.com                  671737   \n",
      "KOPPER MICHAEL J          michael.kopper@enron.com                     NaN   \n",
      "LAY KENNETH L                kenneth.lay@enron.com                34348384   \n",
      "RICE KENNETH D                  ken.rice@enron.com                19794175   \n",
      "RIEKER PAULA H              paula.rieker@enron.com                 1635238   \n",
      "SHELBY REX                    rex.shelby@enron.com                 1624396   \n",
      "SKILLING JEFFREY K         jeff.skilling@enron.com                19250000   \n",
      "YEAGER F SCOTT              scott.yeager@enron.com                 8308552   \n",
      "\n",
      "                     expenses from_messages from_poi_to_this_person  \\\n",
      "BELDEN TIMOTHY N        17355           484                     228   \n",
      "BOWEN JR RAYMOND M      65907            27                     140   \n",
      "CALGER CHRISTOPHER F    35818           144                     199   \n",
      "CAUSEY RICHARD A        30674            49                      58   \n",
      "COLWELL WESLEY          16514            40                     240   \n",
      "DELAINEY DAVID W        86174          3069                      66   \n",
      "FASTOW ANDREW S         55921           NaN                     NaN   \n",
      "GLISAN JR BEN F        125978            16                      52   \n",
      "HANNON KEVIN P          34039            32                      32   \n",
      "HIRKO JOSEPH            77978           NaN                     NaN   \n",
      "KOENIG MARK E          127017            61                      53   \n",
      "KOPPER MICHAEL J       118134           NaN                     NaN   \n",
      "LAY KENNETH L           99832            36                     123   \n",
      "RICE KENNETH D          46950            18                      42   \n",
      "RIEKER PAULA H          33271            82                      35   \n",
      "SHELBY REX              22884            39                      13   \n",
      "SKILLING JEFFREY K      29336           108                      88   \n",
      "YEAGER F SCOTT          53947           NaN                     NaN   \n",
      "\n",
      "                     from_this_person_to_poi        ...         \\\n",
      "BELDEN TIMOTHY N                         108        ...          \n",
      "BOWEN JR RAYMOND M                        15        ...          \n",
      "CALGER CHRISTOPHER F                      25        ...          \n",
      "CAUSEY RICHARD A                          12        ...          \n",
      "COLWELL WESLEY                            11        ...          \n",
      "DELAINEY DAVID W                         609        ...          \n",
      "FASTOW ANDREW S                          NaN        ...          \n",
      "GLISAN JR BEN F                            6        ...          \n",
      "HANNON KEVIN P                            21        ...          \n",
      "HIRKO JOSEPH                             NaN        ...          \n",
      "KOENIG MARK E                             15        ...          \n",
      "KOPPER MICHAEL J                         NaN        ...          \n",
      "LAY KENNETH L                             16        ...          \n",
      "RICE KENNETH D                             4        ...          \n",
      "RIEKER PAULA H                            48        ...          \n",
      "SHELBY REX                                14        ...          \n",
      "SKILLING JEFFREY K                        30        ...          \n",
      "YEAGER F SCOTT                           NaN        ...          \n",
      "\n",
      "                     long_term_incentive     other   poi restricted_stock  \\\n",
      "BELDEN TIMOTHY N                     NaN    210698  True           157569   \n",
      "BOWEN JR RAYMOND M                974293      1621  True           252055   \n",
      "CALGER CHRISTOPHER F              375304       486  True           126027   \n",
      "CAUSEY RICHARD A                  350000    307895  True          2502063   \n",
      "COLWELL WESLEY                       NaN    101740  True           698242   \n",
      "DELAINEY DAVID W                 1294981      1661  True          1323148   \n",
      "FASTOW ANDREW S                  1736055    277464  True          1794412   \n",
      "GLISAN JR BEN F                    71023    200308  True           393818   \n",
      "HANNON KEVIN P                   1617011     11350  True           853064   \n",
      "HIRKO JOSEPH                         NaN      2856  True              NaN   \n",
      "KOENIG MARK E                     300000    150458  True          1248318   \n",
      "KOPPER MICHAEL J                  602671    907502  True           985032   \n",
      "LAY KENNETH L                    3600000  10359729  True         14761694   \n",
      "RICE KENNETH D                   1617011    174839  True          2748364   \n",
      "RIEKER PAULA H                       NaN      1950  True           283649   \n",
      "SHELBY REX                           NaN   1573324  True           869220   \n",
      "SKILLING JEFFREY K               1920000     22122  True          6843672   \n",
      "YEAGER F SCOTT                       NaN    147950  True          3576206   \n",
      "\n",
      "                     restricted_stock_deferred   salary  \\\n",
      "BELDEN TIMOTHY N                           NaN   213999   \n",
      "BOWEN JR RAYMOND M                         NaN   278601   \n",
      "CALGER CHRISTOPHER F                       NaN   240189   \n",
      "CAUSEY RICHARD A                           NaN   415189   \n",
      "COLWELL WESLEY                             NaN   288542   \n",
      "DELAINEY DAVID W                           NaN   365163   \n",
      "FASTOW ANDREW S                            NaN   440698   \n",
      "GLISAN JR BEN F                            NaN   274975   \n",
      "HANNON KEVIN P                             NaN   243293   \n",
      "HIRKO JOSEPH                               NaN      NaN   \n",
      "KOENIG MARK E                              NaN   309946   \n",
      "KOPPER MICHAEL J                           NaN   224305   \n",
      "LAY KENNETH L                              NaN  1072321   \n",
      "RICE KENNETH D                             NaN   420636   \n",
      "RIEKER PAULA H                             NaN   249201   \n",
      "SHELBY REX                                 NaN   211844   \n",
      "SKILLING JEFFREY K                         NaN  1111258   \n",
      "YEAGER F SCOTT                             NaN   158403   \n",
      "\n",
      "                     shared_receipt_with_poi to_messages total_payments  \\\n",
      "BELDEN TIMOTHY N                        5521        7991        5501630   \n",
      "BOWEN JR RAYMOND M                      1593        1858        2669589   \n",
      "CALGER CHRISTOPHER F                    2188        2598        1639297   \n",
      "CAUSEY RICHARD A                        1585        1892        1868758   \n",
      "COLWELL WESLEY                          1132        1758        1490344   \n",
      "DELAINEY DAVID W                        2097        3093        4747979   \n",
      "FASTOW ANDREW S                          NaN         NaN        2424083   \n",
      "GLISAN JR BEN F                          874         873        1272284   \n",
      "HANNON KEVIN P                          1035        1045         288682   \n",
      "HIRKO JOSEPH                             NaN         NaN          91093   \n",
      "KOENIG MARK E                           2271        2374        1587421   \n",
      "KOPPER MICHAEL J                         NaN         NaN        2652612   \n",
      "LAY KENNETH L                           2411        4273      103559793   \n",
      "RICE KENNETH D                           864         905         505050   \n",
      "RIEKER PAULA H                          1258        1328        1099100   \n",
      "SHELBY REX                                91         225        2003885   \n",
      "SKILLING JEFFREY K                      2042        3627        8682716   \n",
      "YEAGER F SCOTT                           NaN         NaN         360300   \n",
      "\n",
      "                     total_stock_value  \n",
      "BELDEN TIMOTHY N               1110705  \n",
      "BOWEN JR RAYMOND M              252055  \n",
      "CALGER CHRISTOPHER F            126027  \n",
      "CAUSEY RICHARD A               2502063  \n",
      "COLWELL WESLEY                  698242  \n",
      "DELAINEY DAVID W               3614261  \n",
      "FASTOW ANDREW S                1794412  \n",
      "GLISAN JR BEN F                 778546  \n",
      "HANNON KEVIN P                 6391065  \n",
      "HIRKO JOSEPH                  30766064  \n",
      "KOENIG MARK E                  1920055  \n",
      "KOPPER MICHAEL J                985032  \n",
      "LAY KENNETH L                 49110078  \n",
      "RICE KENNETH D                22542539  \n",
      "RIEKER PAULA H                 1918887  \n",
      "SHELBY REX                     2493616  \n",
      "SKILLING JEFFREY K            26093672  \n",
      "YEAGER F SCOTT                11884758  \n",
      "\n",
      "[18 rows x 21 columns]\n"
     ]
    }
   ],
   "source": [
    "#Lets manually look at POIs to see if we can get any insights.\n",
    "print enron_data[enron_data['poi']==True]"
   ]
  },
  {
   "cell_type": "markdown",
   "metadata": {},
   "source": [
    "<h4>Basic Observations: </h4>\n",
    "<br>\n",
    "None of the POIs have a director fee. Most of them have a bonus. None of them had restricted_stock_deferred, but going back to our previous cell we see that there were 128 NaN values for that column so this doesnt really tell us much. They seem to have a high shared receipt with POI. They also seem to have fairly high total_payments and total_stock_value"
   ]
  },
  {
   "cell_type": "code",
   "execution_count": 129,
   "metadata": {
    "collapsed": false
   },
   "outputs": [],
   "source": [
    "#Create new feature\n",
    "for k, v in dataset.iteritems():\n",
    "    if v['bonus'] > 8000000:\n",
    "        dataset[k].update({\"Unusually_High_Bonus\": 1})\n",
    "    else:\n",
    "        dataset[k].update({\"Unusually_High_Bonus\": 0})\n",
    "\n"
   ]
  },
  {
   "cell_type": "markdown",
   "metadata": {
    "collapsed": true
   },
   "source": [
    "<h2> Testing Classifiers</h2>"
   ]
  },
  {
   "cell_type": "code",
   "execution_count": 130,
   "metadata": {
    "collapsed": true
   },
   "outputs": [],
   "source": [
    "#Testing our Classifier without the new feature\n",
    "features_list = ['poi', 'bonus', 'deferred_income', 'director_fees',\n",
    " 'exercised_stock_options', 'expenses', 'from_messages',\n",
    " 'from_poi_to_this_person', 'from_this_person_to_poi', 'loan_advances',\n",
    " 'long_term_incentive', 'other', 'restricted_stock',\n",
    " 'restricted_stock_deferred', 'salary', 'shared_receipt_with_poi', 'to_messages',\n",
    "'total_payments', 'total_stock_value']"
   ]
  },
  {
   "cell_type": "code",
   "execution_count": 131,
   "metadata": {
    "collapsed": false
   },
   "outputs": [],
   "source": [
    "### Extract features and labels from dataset for local testing\n",
    "data = featureFormat(dataset, features_list, sort_keys = True)\n",
    "labels, features = targetFeatureSplit(data)\n"
   ]
  },
  {
   "cell_type": "code",
   "execution_count": 132,
   "metadata": {
    "collapsed": true
   },
   "outputs": [],
   "source": [
    "# Example starting point. Try investigating other evaluation techniques!\n",
    "features_train, features_test, labels_train, labels_test = \\\n",
    "    train_test_split(features, labels, test_size=0.3, random_state=42)"
   ]
  },
  {
   "cell_type": "code",
   "execution_count": 147,
   "metadata": {
    "collapsed": false
   },
   "outputs": [
    {
     "name": "stdout",
     "output_type": "stream",
     "text": [
      "0.840909090909\n"
     ]
    }
   ],
   "source": [
    "#Naive Bayes Classifier\n",
    "clf = GaussianNB()\n",
    "clf.fit(features_train, labels_train)\n",
    "pred = clf.predict(features_test)\n",
    "\n",
    "print accuracy_score(pred, labels_test)"
   ]
  },
  {
   "cell_type": "code",
   "execution_count": 134,
   "metadata": {
    "collapsed": false
   },
   "outputs": [
    {
     "name": "stdout",
     "output_type": "stream",
     "text": [
      "0.883720930233\n"
     ]
    }
   ],
   "source": [
    "#SVM classifier, literally exact same accuracy as Naive Bayes\n",
    "clf = svm.SVC()\n",
    "clf.fit(features_train, labels_train)\n",
    "pred = clf.predict(features_test)\n",
    "\n",
    "print accuracy_score(pred, labels_test)"
   ]
  },
  {
   "cell_type": "code",
   "execution_count": 135,
   "metadata": {
    "collapsed": false
   },
   "outputs": [
    {
     "name": "stdout",
     "output_type": "stream",
     "text": [
      "0.837209302326\n"
     ]
    }
   ],
   "source": [
    "#Decision Tree Classifier, Surprisingly much lower than SVM and Naive Bayes\n",
    "#DTC has different accuracy after running multiple times. NB and SVM never change. \n",
    "clf = tree.DecisionTreeClassifier()\n",
    "clf.fit(features_train, labels_train)\n",
    "pred = clf.predict(features_test)\n",
    "\n",
    "print accuracy_score(pred, labels_test)"
   ]
  },
  {
   "cell_type": "markdown",
   "metadata": {},
   "source": [
    "<h4>Testing New Feature</h4>"
   ]
  },
  {
   "cell_type": "code",
   "execution_count": 136,
   "metadata": {
    "collapsed": true
   },
   "outputs": [],
   "source": [
    "#Testing the same classifer with the new feature added\n",
    "features_list = ['poi', 'bonus', 'deferred_income', 'director_fees',\n",
    " 'exercised_stock_options', 'expenses', 'from_messages',\n",
    " 'from_poi_to_this_person', 'from_this_person_to_poi', 'loan_advances',\n",
    " 'long_term_incentive', 'other', 'restricted_stock',\n",
    " 'restricted_stock_deferred', 'salary', 'shared_receipt_with_poi', 'to_messages',\n",
    "'total_payments', 'total_stock_value', 'Unusually_High_Bonus']"
   ]
  },
  {
   "cell_type": "code",
   "execution_count": 137,
   "metadata": {
    "collapsed": true
   },
   "outputs": [],
   "source": [
    "data = featureFormat(dataset, features_list, sort_keys = True)\n",
    "labels, features = targetFeatureSplit(data)\n",
    "\n",
    "features_train, features_test, labels_train, labels_test = \\\n",
    "    train_test_split(features, labels, test_size=0.3, random_state=42)"
   ]
  },
  {
   "cell_type": "code",
   "execution_count": 138,
   "metadata": {
    "collapsed": false
   },
   "outputs": [
    {
     "name": "stdout",
     "output_type": "stream",
     "text": [
      "0.840909090909\n"
     ]
    }
   ],
   "source": [
    "#Our accuracy went down by 4%, so my hypothesis was incorrect and the new feature will not be used. \n",
    "clf = GaussianNB()\n",
    "clf.fit(features_train, labels_train)\n",
    "pred = clf.predict(features_test)\n",
    "\n",
    "print accuracy_score(pred, labels_test)"
   ]
  },
  {
   "cell_type": "markdown",
   "metadata": {},
   "source": [
    "<h4> Grid Search</h4>"
   ]
  },
  {
   "cell_type": "code",
   "execution_count": 146,
   "metadata": {
    "collapsed": false
   },
   "outputs": [
    {
     "name": "stdout",
     "output_type": "stream",
     "text": [
      "0.795454545455\n"
     ]
    }
   ],
   "source": [
    "#Grid search with basic 1 to 10 range parameters\n",
    "param_grid = {'max_depth': range(1, 10)}\n",
    "clf = GridSearchCV(tree.DecisionTreeClassifier(), param_grid)\n",
    "clf.fit(features_train, labels_train)\n",
    "pred = clf.predict(features_test)\n",
    "\n",
    "print accuracy_score(pred, labels_test)"
   ]
  },
  {
   "cell_type": "code",
   "execution_count": 140,
   "metadata": {
    "collapsed": false
   },
   "outputs": [
    {
     "name": "stdout",
     "output_type": "stream",
     "text": [
      "0.818181818182\n"
     ]
    }
   ],
   "source": [
    "#Changing our range from 10 to 5 had no effect on the final accuracy\n",
    "param_grid = {'max_depth': range(1, 5)}\n",
    "clf = GridSearchCV(tree.DecisionTreeClassifier(), param_grid)\n",
    "clf.fit(features_train, labels_train)\n",
    "pred = clf.predict(features_test)\n",
    "\n",
    "print accuracy_score(pred, labels_test)"
   ]
  },
  {
   "cell_type": "code",
   "execution_count": 141,
   "metadata": {
    "collapsed": false
   },
   "outputs": [
    {
     "name": "stdout",
     "output_type": "stream",
     "text": [
      "0.818181818182\n"
     ]
    }
   ],
   "source": [
    "#Increasing our range by 5 does not seem to making a impact, lets try something else. \n",
    "param_grid = {'max_depth': range(1, 15)}\n",
    "clf = GridSearchCV(tree.DecisionTreeClassifier(), param_grid)\n",
    "clf.fit(features_train, labels_train)\n",
    "pred = clf.predict(features_test)\n",
    "\n",
    "print accuracy_score(pred, labels_test)"
   ]
  },
  {
   "cell_type": "code",
   "execution_count": 142,
   "metadata": {
    "collapsed": false
   },
   "outputs": [
    {
     "name": "stdout",
     "output_type": "stream",
     "text": [
      "0.840909090909\n"
     ]
    }
   ],
   "source": [
    "#Changing our first value did increase our accuracy by 3%\n",
    "param_grid = {'max_depth': range(5, 15)}\n",
    "clf = GridSearchCV(tree.DecisionTreeClassifier(), param_grid)\n",
    "clf.fit(features_train, labels_train)\n",
    "pred = clf.predict(features_test)\n",
    "\n",
    "print accuracy_score(pred, labels_test)"
   ]
  },
  {
   "cell_type": "code",
   "execution_count": 143,
   "metadata": {
    "collapsed": false
   },
   "outputs": [
    {
     "name": "stdout",
     "output_type": "stream",
     "text": [
      "0.840909090909\n"
     ]
    }
   ],
   "source": [
    "#CHanging the parameters further does not seem to make a difference, so this is probably our highest accuracy\n",
    "param_grid = {'max_depth': range(10, 30)}\n",
    "clf = GridSearchCV(tree.DecisionTreeClassifier(), param_grid)\n",
    "clf.fit(features_train, labels_train)\n",
    "pred = clf.predict(features_test)\n",
    "\n",
    "print accuracy_score(pred, labels_test)"
   ]
  },
  {
   "cell_type": "code",
   "execution_count": 144,
   "metadata": {
    "collapsed": false
   },
   "outputs": [
    {
     "name": "stdout",
     "output_type": "stream",
     "text": [
      "['bonus' 'deferral_payments' 'deferred_income' 'director_fees'\n",
      " 'email_address' 'exercised_stock_options' 'expenses' 'from_messages'\n",
      " 'from_poi_to_this_person' 'from_this_person_to_poi' 'loan_advances'\n",
      " 'long_term_incentive' 'other' 'poi' 'restricted_stock'\n",
      " 'restricted_stock_deferred' 'salary' 'shared_receipt_with_poi'\n",
      " 'to_messages' 'total_payments' 'total_stock_value']\n"
     ]
    }
   ],
   "source": [
    "#List of all the features\n",
    "print enron_data.columns.values"
   ]
  },
  {
   "cell_type": "markdown",
   "metadata": {},
   "source": [
    "<h3> Naive Bayes Classifier</h3>"
   ]
  },
  {
   "cell_type": "code",
   "execution_count": 162,
   "metadata": {
    "collapsed": false
   },
   "outputs": [
    {
     "name": "stdout",
     "output_type": "stream",
     "text": [
      "0.840909090909\n"
     ]
    }
   ],
   "source": [
    "clf = GaussianNB()\n",
    "clf.fit(features_train, labels_train)\n",
    "pred = clf.predict(features_test)\n",
    "\n",
    "print accuracy_score(pred, labels_test)"
   ]
  },
  {
   "cell_type": "code",
   "execution_count": 163,
   "metadata": {
    "collapsed": false
   },
   "outputs": [
    {
     "name": "stdout",
     "output_type": "stream",
     "text": [
      "GaussianNB(priors=None)\n",
      "\tAccuracy: 0.75720\tPrecision: 0.25652\tRecall: 0.43250\tF1: 0.32204\tF2: 0.38032\n",
      "\tTotal predictions: 15000\tTrue positives:  865\tFalse positives: 2507\tFalse negatives: 1135\tTrue negatives: 10493\n",
      "\n"
     ]
    }
   ],
   "source": [
    "#First we start with all the features to see our precision and recall\n",
    "features_list = ['poi', 'bonus', 'deferred_income', 'director_fees',\n",
    " 'exercised_stock_options', 'expenses', 'from_messages',\n",
    " 'from_poi_to_this_person', 'from_this_person_to_poi', 'loan_advances',\n",
    " 'long_term_incentive', 'other', 'restricted_stock',\n",
    " 'restricted_stock_deferred', 'salary', 'shared_receipt_with_poi', 'to_messages',\n",
    "'total_payments', 'total_stock_value']\n",
    "\n",
    "\n",
    "#We have passed the mark for Recall but not precision\n",
    "test_classifier(clf, dataset, features_list, folds = 1000);"
   ]
  },
  {
   "cell_type": "code",
   "execution_count": 164,
   "metadata": {
    "collapsed": false
   },
   "outputs": [
    {
     "name": "stdout",
     "output_type": "stream",
     "text": [
      "GaussianNB(priors=None)\n",
      "\tAccuracy: 0.78740\tPrecision: 0.27973\tRecall: 0.37750\tF1: 0.32134\tF2: 0.35284\n",
      "\tTotal predictions: 15000\tTrue positives:  755\tFalse positives: 1944\tFalse negatives: 1245\tTrue negatives: 11056\n",
      "\n"
     ]
    }
   ],
   "source": [
    "#Lets try removing 1 feature to see what happens. Lets pick director_fees\n",
    "features_list = ['poi', 'bonus', 'deferred_income',\n",
    " 'exercised_stock_options', 'expenses', 'from_messages',\n",
    " 'from_poi_to_this_person', 'from_this_person_to_poi', 'loan_advances',\n",
    " 'long_term_incentive', 'other', 'restricted_stock',\n",
    " 'restricted_stock_deferred', 'salary', 'shared_receipt_with_poi', 'to_messages',\n",
    "'total_payments', 'total_stock_value' ]\n",
    "\n",
    "\n",
    "#Our Precision went up so we are on the right track\n",
    "test_classifier(clf, dataset, features_list, folds = 1000);"
   ]
  },
  {
   "cell_type": "code",
   "execution_count": 165,
   "metadata": {
    "collapsed": false
   },
   "outputs": [
    {
     "name": "stdout",
     "output_type": "stream",
     "text": [
      "GaussianNB(priors=None)\n",
      "\tAccuracy: 0.78933\tPrecision: 0.29374\tRecall: 0.41300\tF1: 0.34331\tF2: 0.38198\n",
      "\tTotal predictions: 15000\tTrue positives:  826\tFalse positives: 1986\tFalse negatives: 1174\tTrue negatives: 11014\n",
      "\n"
     ]
    }
   ],
   "source": [
    "#Lets try removing another feature to see what happens. Lets pick \"other\" it should increase our score\n",
    "features_list = ['poi', 'bonus', 'deferred_income',\n",
    " 'exercised_stock_options', 'expenses', 'from_messages',\n",
    " 'from_poi_to_this_person', 'from_this_person_to_poi', 'loan_advances',\n",
    " 'long_term_incentive', 'restricted_stock',\n",
    " 'restricted_stock_deferred', 'salary', 'shared_receipt_with_poi', 'to_messages',\n",
    "'total_payments', 'total_stock_value' ]\n",
    "\n",
    "\n",
    "#Our precision increased 2%, so close we need less than 1% to reach our mark.\n",
    "test_classifier(clf, dataset, features_list, folds = 1000);"
   ]
  },
  {
   "cell_type": "code",
   "execution_count": 151,
   "metadata": {
    "collapsed": false
   },
   "outputs": [
    {
     "name": "stdout",
     "output_type": "stream",
     "text": [
      "GaussianNB(priors=None)\n",
      "\tAccuracy: 0.78587\tPrecision: 0.28201\tRecall: 0.39200\tF1: 0.32803\tF2: 0.36364\n",
      "\tTotal predictions: 15000\tTrue positives:  784\tFalse positives: 1996\tFalse negatives: 1216\tTrue negatives: 11004\n",
      "\n"
     ]
    }
   ],
   "source": [
    "#Maybe salary will help? Lets find out. \n",
    "features_list = ['poi', 'bonus', 'deferred_income',\n",
    " 'exercised_stock_options', 'expenses', 'from_messages',\n",
    " 'from_poi_to_this_person', 'from_this_person_to_poi', 'loan_advances',\n",
    " 'long_term_incentive', 'restricted_stock',\n",
    " 'restricted_stock_deferred',  'shared_receipt_with_poi', 'to_messages',\n",
    "'total_payments', 'total_stock_value' ]\n",
    "\n",
    "\n",
    "#Nope. Our precision went down, so we are now going in the wrong direction. lets add salary back.\n",
    "test_classifier(clf, dataset, features_list, folds = 1000);"
   ]
  },
  {
   "cell_type": "code",
   "execution_count": 152,
   "metadata": {
    "collapsed": false
   },
   "outputs": [
    {
     "name": "stdout",
     "output_type": "stream",
     "text": [
      "GaussianNB(priors=None)\n",
      "\tAccuracy: 0.79600\tPrecision: 0.30741\tRecall: 0.42300\tF1: 0.35606\tF2: 0.39342\n",
      "\tTotal predictions: 15000\tTrue positives:  846\tFalse positives: 1906\tFalse negatives: 1154\tTrue negatives: 11094\n",
      "\n"
     ]
    }
   ],
   "source": [
    "#Maybe to_messages? Lets see\n",
    "features_list = ['poi', 'bonus', 'deferred_income',\n",
    " 'exercised_stock_options', 'expenses', 'from_messages',\n",
    " 'from_poi_to_this_person', 'from_this_person_to_poi', 'loan_advances',\n",
    " 'long_term_incentive', 'restricted_stock',\n",
    " 'restricted_stock_deferred', 'salary', 'shared_receipt_with_poi',\n",
    "'total_payments', 'total_stock_value' ]\n",
    "\n",
    "\n",
    "#Yes! we do achieve a greater than 30% precision\n",
    "test_classifier(clf, dataset, features_list, folds = 1000);"
   ]
  },
  {
   "cell_type": "code",
   "execution_count": 153,
   "metadata": {
    "collapsed": false
   },
   "outputs": [
    {
     "name": "stdout",
     "output_type": "stream",
     "text": [
      "GaussianNB(priors=None)\n",
      "\tAccuracy: 0.79600\tPrecision: 0.30741\tRecall: 0.42300\tF1: 0.35606\tF2: 0.39342\n",
      "\tTotal predictions: 15000\tTrue positives:  846\tFalse positives: 1906\tFalse negatives: 1154\tTrue negatives: 11094\n",
      "\n"
     ]
    }
   ],
   "source": [
    "#Final subset feature list for Naive Bayes\n",
    "features_list = ['poi', 'bonus', 'deferred_income',\n",
    " 'exercised_stock_options', 'expenses', 'from_messages',\n",
    " 'from_poi_to_this_person', 'from_this_person_to_poi', 'loan_advances',\n",
    " 'long_term_incentive', 'restricted_stock',\n",
    " 'restricted_stock_deferred', 'salary', 'shared_receipt_with_poi',\n",
    "'total_payments', 'total_stock_value' ]\n",
    "\n",
    "test_classifier(clf, dataset, features_list, folds = 1000);"
   ]
  },
  {
   "cell_type": "markdown",
   "metadata": {},
   "source": [
    "<h3>Decision Tree Classifier</h3>"
   ]
  },
  {
   "cell_type": "code",
   "execution_count": 157,
   "metadata": {
    "collapsed": false
   },
   "outputs": [
    {
     "name": "stdout",
     "output_type": "stream",
     "text": [
      "0.840909090909\n"
     ]
    }
   ],
   "source": [
    "clf = tree.DecisionTreeClassifier()\n",
    "clf.fit(features_train, labels_train)\n",
    "pred = clf.predict(features_test)\n",
    "\n",
    "print accuracy_score(pred, labels_test)"
   ]
  },
  {
   "cell_type": "code",
   "execution_count": 158,
   "metadata": {
    "collapsed": false
   },
   "outputs": [
    {
     "name": "stdout",
     "output_type": "stream",
     "text": [
      "DecisionTreeClassifier(class_weight=None, criterion='gini', max_depth=None,\n",
      "            max_features=None, max_leaf_nodes=None,\n",
      "            min_impurity_split=1e-07, min_samples_leaf=1,\n",
      "            min_samples_split=2, min_weight_fraction_leaf=0.0,\n",
      "            presort=False, random_state=None, splitter='best')\n",
      "\tAccuracy: 0.81100\tPrecision: 0.28244\tRecall: 0.27100\tF1: 0.27660\tF2: 0.27321\n",
      "\tTotal predictions: 15000\tTrue positives:  542\tFalse positives: 1377\tFalse negatives: 1458\tTrue negatives: 11623\n",
      "\n"
     ]
    }
   ],
   "source": [
    "#Running the same feature list for a Decision Tree Classifier, we get much different results\n",
    "features_list = ['poi', 'bonus', 'deferred_income',\n",
    " 'exercised_stock_options', 'expenses', 'from_messages',\n",
    " 'from_poi_to_this_person', 'from_this_person_to_poi', 'loan_advances',\n",
    " 'long_term_incentive', 'restricted_stock',\n",
    " 'restricted_stock_deferred', 'salary', 'shared_receipt_with_poi',\n",
    "'total_payments', 'total_stock_value' ]\n",
    "\n",
    "#Now, niether our Precision nor recall are above 30%\n",
    "test_classifier(clf, dataset, features_list, folds = 1000);"
   ]
  },
  {
   "cell_type": "code",
   "execution_count": 159,
   "metadata": {
    "collapsed": false
   },
   "outputs": [
    {
     "name": "stdout",
     "output_type": "stream",
     "text": [
      "DecisionTreeClassifier(class_weight=None, criterion='gini', max_depth=None,\n",
      "            max_features=None, max_leaf_nodes=None,\n",
      "            min_impurity_split=1e-07, min_samples_leaf=1,\n",
      "            min_samples_split=2, min_weight_fraction_leaf=0.0,\n",
      "            presort=False, random_state=None, splitter='best')\n",
      "\tAccuracy: 0.80787\tPrecision: 0.29602\tRecall: 0.32000\tF1: 0.30754\tF2: 0.31490\n",
      "\tTotal predictions: 15000\tTrue positives:  640\tFalse positives: 1522\tFalse negatives: 1360\tTrue negatives: 11478\n",
      "\n"
     ]
    }
   ],
   "source": [
    "#Removing bonus we have recall above 30% and Precision less than 1% away.\n",
    "features_list = ['poi', 'deferred_income',\n",
    " 'exercised_stock_options', 'expenses', 'from_messages',\n",
    " 'from_poi_to_this_person', 'from_this_person_to_poi', 'loan_advances',\n",
    " 'long_term_incentive', 'restricted_stock',\n",
    " 'restricted_stock_deferred', 'salary', 'shared_receipt_with_poi',\n",
    "'total_payments', 'total_stock_value' ]\n",
    "\n",
    "test_classifier(clf, dataset, features_list, folds = 1000);"
   ]
  },
  {
   "cell_type": "code",
   "execution_count": 160,
   "metadata": {
    "collapsed": false
   },
   "outputs": [
    {
     "name": "stdout",
     "output_type": "stream",
     "text": [
      "DecisionTreeClassifier(class_weight=None, criterion='gini', max_depth=None,\n",
      "            max_features=None, max_leaf_nodes=None,\n",
      "            min_impurity_split=1e-07, min_samples_leaf=1,\n",
      "            min_samples_split=2, min_weight_fraction_leaf=0.0,\n",
      "            presort=False, random_state=None, splitter='best')\n",
      "\tAccuracy: 0.81280\tPrecision: 0.32265\tRecall: 0.36750\tF1: 0.34362\tF2: 0.35756\n",
      "\tTotal predictions: 15000\tTrue positives:  735\tFalse positives: 1543\tFalse negatives: 1265\tTrue negatives: 11457\n",
      "\n"
     ]
    }
   ],
   "source": [
    "#Now Removing restricted stock we are over 30% for both Recall and Precision\n",
    "features_list = ['poi', 'deferred_income',\n",
    " 'exercised_stock_options', 'expenses', 'from_messages',\n",
    " 'from_poi_to_this_person', 'from_this_person_to_poi', 'loan_advances',\n",
    " 'long_term_incentive',\n",
    " 'restricted_stock_deferred', 'salary', 'shared_receipt_with_poi',\n",
    "'total_payments', 'total_stock_value' ]\n",
    "\n",
    "test_classifier(clf, dataset, features_list, folds = 1000);"
   ]
  },
  {
   "cell_type": "code",
   "execution_count": 161,
   "metadata": {
    "collapsed": false
   },
   "outputs": [
    {
     "name": "stdout",
     "output_type": "stream",
     "text": [
      "DecisionTreeClassifier(class_weight=None, criterion='gini', max_depth=None,\n",
      "            max_features=None, max_leaf_nodes=None,\n",
      "            min_impurity_split=1e-07, min_samples_leaf=1,\n",
      "            min_samples_split=2, min_weight_fraction_leaf=0.0,\n",
      "            presort=False, random_state=None, splitter='best')\n",
      "\tAccuracy: 0.81533\tPrecision: 0.32950\tRecall: 0.37200\tF1: 0.34946\tF2: 0.36264\n",
      "\tTotal predictions: 15000\tTrue positives:  744\tFalse positives: 1514\tFalse negatives: 1256\tTrue negatives: 11486\n",
      "\n"
     ]
    }
   ],
   "source": [
    "#Final Feature list for decision tree\n",
    "features_list = ['poi', 'deferred_income',\n",
    " 'exercised_stock_options', 'expenses', 'from_messages',\n",
    " 'from_poi_to_this_person', 'from_this_person_to_poi', 'loan_advances',\n",
    " 'long_term_incentive',\n",
    " 'restricted_stock_deferred', 'salary', 'shared_receipt_with_poi',\n",
    "'total_payments', 'total_stock_value' ]\n",
    "\n",
    "\n",
    "test_classifier(clf, dataset, features_list, folds = 1000);"
   ]
  },
  {
   "cell_type": "code",
   "execution_count": null,
   "metadata": {
    "collapsed": true
   },
   "outputs": [],
   "source": [
    "### Task 6: Dump your classifier, dataset, and features_list so anyone can\n",
    "### check your results. You do not need to change anything below, but make sure\n",
    "### that the version of poi_id.py that you submit can be run on its own and\n",
    "### generates the necessary .pkl files for validating your results.\n",
    "dump_classifier_and_data(clf, dataset, features_list)"
   ]
  },
  {
   "cell_type": "code",
   "execution_count": null,
   "metadata": {
    "collapsed": false
   },
   "outputs": [],
   "source": []
  },
  {
   "cell_type": "code",
   "execution_count": null,
   "metadata": {
    "collapsed": true
   },
   "outputs": [],
   "source": []
  },
  {
   "cell_type": "code",
   "execution_count": null,
   "metadata": {
    "collapsed": true
   },
   "outputs": [],
   "source": []
  },
  {
   "cell_type": "code",
   "execution_count": null,
   "metadata": {
    "collapsed": true
   },
   "outputs": [],
   "source": []
  },
  {
   "cell_type": "code",
   "execution_count": null,
   "metadata": {
    "collapsed": true
   },
   "outputs": [],
   "source": []
  },
  {
   "cell_type": "code",
   "execution_count": null,
   "metadata": {
    "collapsed": true
   },
   "outputs": [],
   "source": []
  }
 ],
 "metadata": {
  "kernelspec": {
   "display_name": "Python 2",
   "language": "python",
   "name": "python2"
  },
  "language_info": {
   "codemirror_mode": {
    "name": "ipython",
    "version": 2
   },
   "file_extension": ".py",
   "mimetype": "text/x-python",
   "name": "python",
   "nbconvert_exporter": "python",
   "pygments_lexer": "ipython2",
   "version": "2.7.13"
  }
 },
 "nbformat": 4,
 "nbformat_minor": 2
}
