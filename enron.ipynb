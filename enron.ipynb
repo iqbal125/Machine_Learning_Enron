{
 "cells": [
  {
   "cell_type": "code",
   "execution_count": 150,
   "metadata": {
    "collapsed": false
   },
   "outputs": [],
   "source": [
    "#!/usr/bin/python\n",
    "%matplotlib inline\n",
    "\n",
    "import sys\n",
    "import pickle\n",
    "import pandas as pd\n",
    "sys.path.append(\"../tools/\")\n",
    "import matplotlib.pyplot as plt\n",
    "from tester import test_classifier\n",
    "from feature_format import featureFormat, targetFeatureSplit\n",
    "from tester import dump_classifier_and_data\n",
    "from sklearn.cross_validation import train_test_split\n",
    "from sklearn.naive_bayes import GaussianNB\n",
    "from sklearn import svm\n",
    "from sklearn import tree\n",
    "from sklearn.metrics import accuracy_score\n",
    "\n",
    "\n",
    "### Load the dictionary containing the dataset\n",
    "with open(\"final_project_dataset.pkl\", \"r\") as data_file:\n",
    "    data_dict = pickle.load(data_file)"
   ]
  },
  {
   "cell_type": "markdown",
   "metadata": {},
   "source": [
    "<h3> Basic Analysis </h3>"
   ]
  },
  {
   "cell_type": "code",
   "execution_count": 151,
   "metadata": {
    "collapsed": false
   },
   "outputs": [],
   "source": [
    "dataset = data_dict"
   ]
  },
  {
   "cell_type": "code",
   "execution_count": 152,
   "metadata": {
    "collapsed": false
   },
   "outputs": [
    {
     "data": {
      "text/plain": [
       "146"
      ]
     },
     "execution_count": 152,
     "metadata": {},
     "output_type": "execute_result"
    }
   ],
   "source": [
    "#There are 146 total people in the dataset\n",
    "len(dataset)"
   ]
  },
  {
   "cell_type": "code",
   "execution_count": 153,
   "metadata": {
    "collapsed": false
   },
   "outputs": [
    {
     "name": "stdout",
     "output_type": "stream",
     "text": [
      "{'salary': 1072321, 'to_messages': 4273, 'deferral_payments': 202911, 'total_payments': 103559793, 'exercised_stock_options': 34348384, 'bonus': 7000000, 'restricted_stock': 14761694, 'shared_receipt_with_poi': 2411, 'restricted_stock_deferred': 'NaN', 'total_stock_value': 49110078, 'expenses': 99832, 'loan_advances': 81525000, 'from_messages': 36, 'other': 10359729, 'from_this_person_to_poi': 16, 'poi': True, 'director_fees': 'NaN', 'deferred_income': -300000, 'long_term_incentive': 3600000, 'email_address': 'kenneth.lay@enron.com', 'from_poi_to_this_person': 123}\n"
     ]
    }
   ],
   "source": [
    "#Famous Enron poi\n",
    "print dataset['LAY KENNETH L']"
   ]
  },
  {
   "cell_type": "code",
   "execution_count": 154,
   "metadata": {
    "collapsed": false
   },
   "outputs": [
    {
     "name": "stdout",
     "output_type": "stream",
     "text": [
      "{'salary': 365788, 'to_messages': 807, 'deferral_payments': 'NaN', 'total_payments': 1061827, 'exercised_stock_options': 'NaN', 'bonus': 600000, 'restricted_stock': 585062, 'shared_receipt_with_poi': 702, 'restricted_stock_deferred': 'NaN', 'total_stock_value': 585062, 'expenses': 94299, 'loan_advances': 'NaN', 'from_messages': 29, 'other': 1740, 'from_this_person_to_poi': 1, 'poi': False, 'director_fees': 'NaN', 'deferred_income': 'NaN', 'long_term_incentive': 'NaN', 'email_address': 'mark.metts@enron.com', 'from_poi_to_this_person': 38}\n"
     ]
    }
   ],
   "source": [
    "#Compared to average employee\n",
    "print dataset['METTS MARK']"
   ]
  },
  {
   "cell_type": "code",
   "execution_count": 155,
   "metadata": {
    "collapsed": true
   },
   "outputs": [],
   "source": [
    "#As a starting point we will include all of the features in our list\n",
    "features_list = ['poi', 'bonus', 'deferred_income', 'director_fees',\n",
    " 'exercised_stock_options', 'expenses', 'from_messages',\n",
    " 'from_poi_to_this_person', 'from_this_person_to_poi', 'loan_advances',\n",
    " 'long_term_incentive', 'other', 'restricted_stock',\n",
    " 'restricted_stock_deferred', 'salary', 'shared_receipt_with_poi', 'to_messages',\n",
    "'total_payments', 'total_stock_value', \"Unusually_High_Bonus\"]"
   ]
  },
  {
   "cell_type": "code",
   "execution_count": 156,
   "metadata": {
    "collapsed": false
   },
   "outputs": [],
   "source": [
    "#Here we convert our data to a pandas dataframe, which makes it wasier ot work with\n",
    "enron_data = pd.DataFrame(dataset)\n",
    "\n",
    "#Transpose our data to turn names of employees into rows and attributes into columns\n",
    "enron_data = enron_data.transpose()"
   ]
  },
  {
   "cell_type": "code",
   "execution_count": 157,
   "metadata": {
    "collapsed": false
   },
   "outputs": [
    {
     "data": {
      "text/plain": [
       "{'bonus': 'NaN',\n",
       " 'deferral_payments': 'NaN',\n",
       " 'deferred_income': 'NaN',\n",
       " 'director_fees': 'NaN',\n",
       " 'email_address': 'NaN',\n",
       " 'exercised_stock_options': 'NaN',\n",
       " 'expenses': 'NaN',\n",
       " 'from_messages': 'NaN',\n",
       " 'from_poi_to_this_person': 'NaN',\n",
       " 'from_this_person_to_poi': 'NaN',\n",
       " 'loan_advances': 'NaN',\n",
       " 'long_term_incentive': 'NaN',\n",
       " 'other': 362096,\n",
       " 'poi': False,\n",
       " 'restricted_stock': 'NaN',\n",
       " 'restricted_stock_deferred': 'NaN',\n",
       " 'salary': 'NaN',\n",
       " 'shared_receipt_with_poi': 'NaN',\n",
       " 'to_messages': 'NaN',\n",
       " 'total_payments': 362096,\n",
       " 'total_stock_value': 'NaN'}"
      ]
     },
     "execution_count": 157,
     "metadata": {},
     "output_type": "execute_result"
    }
   ],
   "source": [
    "# Remove errors, these obviously dont belong in this dataset\n",
    "dataset.pop('TOTAL', 0)\n",
    "dataset.pop('THE TRAVEL AGENCY IN THE PARK', 0)"
   ]
  },
  {
   "cell_type": "code",
   "execution_count": 158,
   "metadata": {
    "collapsed": false
   },
   "outputs": [
    {
     "name": "stdout",
     "output_type": "stream",
     "text": [
      "['bonus' 'deferral_payments' 'deferred_income' 'director_fees'\n",
      " 'email_address' 'exercised_stock_options' 'expenses' 'from_messages'\n",
      " 'from_poi_to_this_person' 'from_this_person_to_poi' 'loan_advances'\n",
      " 'long_term_incentive' 'other' 'poi' 'restricted_stock'\n",
      " 'restricted_stock_deferred' 'salary' 'shared_receipt_with_poi'\n",
      " 'to_messages' 'total_payments' 'total_stock_value']\n",
      "Total Number of Features:  21\n"
     ]
    }
   ],
   "source": [
    "print enron_data.columns.values\n",
    "print \"Total Number of Features: \", len(enron_data.columns.values)"
   ]
  },
  {
   "cell_type": "markdown",
   "metadata": {},
   "source": [
    "<h4> Counting NaN Values </h4>"
   ]
  },
  {
   "cell_type": "code",
   "execution_count": 159,
   "metadata": {
    "collapsed": false
   },
   "outputs": [
    {
     "name": "stdout",
     "output_type": "stream",
     "text": [
      "bonus\n",
      "64\n",
      "deferral_payments\n",
      "107\n",
      "deferred_income\n",
      "97\n",
      "director_fees\n",
      "129\n",
      "email_address\n",
      "35\n",
      "exercised_stock_options\n",
      "44\n",
      "expenses\n",
      "51\n",
      "from_messages\n",
      "60\n",
      "from_poi_to_this_person\n",
      "60\n",
      "from_this_person_to_poi\n",
      "60\n",
      "loan_advances\n",
      "142\n",
      "long_term_incentive\n",
      "80\n",
      "other\n",
      "53\n",
      "poi\n",
      "0\n",
      "restricted_stock\n",
      "36\n",
      "restricted_stock_deferred\n",
      "128\n",
      "salary\n",
      "51\n",
      "shared_receipt_with_poi\n",
      "60\n",
      "to_messages\n",
      "60\n",
      "total_payments\n",
      "21\n",
      "total_stock_value\n",
      "20\n"
     ]
    }
   ],
   "source": [
    "columns = []\n",
    "\n",
    "for i in enron_data.columns.values:\n",
    "    columns.append(i)\n",
    "\n",
    "\n",
    "for i in columns:\n",
    "    print i\n",
    "    print enron_data[enron_data[i]==\"NaN\"].count()[i]"
   ]
  },
  {
   "cell_type": "code",
   "execution_count": 160,
   "metadata": {
    "collapsed": false
   },
   "outputs": [
    {
     "name": "stdout",
     "output_type": "stream",
     "text": [
      "BELDEN TIMOTHY N        True\n",
      "BOWEN JR RAYMOND M      True\n",
      "CALGER CHRISTOPHER F    True\n",
      "CAUSEY RICHARD A        True\n",
      "COLWELL WESLEY          True\n",
      "DELAINEY DAVID W        True\n",
      "FASTOW ANDREW S         True\n",
      "GLISAN JR BEN F         True\n",
      "HANNON KEVIN P          True\n",
      "HIRKO JOSEPH            True\n",
      "KOENIG MARK E           True\n",
      "KOPPER MICHAEL J        True\n",
      "LAY KENNETH L           True\n",
      "RICE KENNETH D          True\n",
      "RIEKER PAULA H          True\n",
      "SHELBY REX              True\n",
      "SKILLING JEFFREY K      True\n",
      "YEAGER F SCOTT          True\n",
      "Name: poi, dtype: object\n"
     ]
    }
   ],
   "source": [
    "#Here we see that the names of people categorized as POI. There are only 18 POIs.\n",
    "print enron_data[enron_data['poi']==True]['poi']"
   ]
  },
  {
   "cell_type": "code",
   "execution_count": 161,
   "metadata": {
    "collapsed": false
   },
   "outputs": [
    {
     "name": "stdout",
     "output_type": "stream",
     "text": [
      "                        bonus deferral_payments deferred_income director_fees  \\\n",
      "BELDEN TIMOTHY N      5249999           2144013        -2334434           NaN   \n",
      "BOWEN JR RAYMOND M    1350000               NaN            -833           NaN   \n",
      "CALGER CHRISTOPHER F  1250000               NaN         -262500           NaN   \n",
      "CAUSEY RICHARD A      1000000               NaN         -235000           NaN   \n",
      "COLWELL WESLEY        1200000             27610         -144062           NaN   \n",
      "DELAINEY DAVID W      3000000               NaN             NaN           NaN   \n",
      "FASTOW ANDREW S       1300000               NaN        -1386055           NaN   \n",
      "GLISAN JR BEN F        600000               NaN             NaN           NaN   \n",
      "HANNON KEVIN P        1500000               NaN        -3117011           NaN   \n",
      "HIRKO JOSEPH              NaN             10259             NaN           NaN   \n",
      "KOENIG MARK E          700000               NaN             NaN           NaN   \n",
      "KOPPER MICHAEL J       800000               NaN             NaN           NaN   \n",
      "LAY KENNETH L         7000000            202911         -300000           NaN   \n",
      "RICE KENNETH D        1750000               NaN        -3504386           NaN   \n",
      "RIEKER PAULA H         700000            214678         -100000           NaN   \n",
      "SHELBY REX             200000               NaN           -4167           NaN   \n",
      "SKILLING JEFFREY K    5600000               NaN             NaN           NaN   \n",
      "YEAGER F SCOTT            NaN               NaN             NaN           NaN   \n",
      "\n",
      "                                     email_address exercised_stock_options  \\\n",
      "BELDEN TIMOTHY N              tim.belden@enron.com                  953136   \n",
      "BOWEN JR RAYMOND M         raymond.bowen@enron.com                     NaN   \n",
      "CALGER CHRISTOPHER F  christopher.calger@enron.com                     NaN   \n",
      "CAUSEY RICHARD A          richard.causey@enron.com                     NaN   \n",
      "COLWELL WESLEY               wes.colwell@enron.com                     NaN   \n",
      "DELAINEY DAVID W          david.delainey@enron.com                 2291113   \n",
      "FASTOW ANDREW S            andrew.fastow@enron.com                     NaN   \n",
      "GLISAN JR BEN F               ben.glisan@enron.com                  384728   \n",
      "HANNON KEVIN P              kevin.hannon@enron.com                 5538001   \n",
      "HIRKO JOSEPH                   joe.hirko@enron.com                30766064   \n",
      "KOENIG MARK E                mark.koenig@enron.com                  671737   \n",
      "KOPPER MICHAEL J          michael.kopper@enron.com                     NaN   \n",
      "LAY KENNETH L                kenneth.lay@enron.com                34348384   \n",
      "RICE KENNETH D                  ken.rice@enron.com                19794175   \n",
      "RIEKER PAULA H              paula.rieker@enron.com                 1635238   \n",
      "SHELBY REX                    rex.shelby@enron.com                 1624396   \n",
      "SKILLING JEFFREY K         jeff.skilling@enron.com                19250000   \n",
      "YEAGER F SCOTT              scott.yeager@enron.com                 8308552   \n",
      "\n",
      "                     expenses from_messages from_poi_to_this_person  \\\n",
      "BELDEN TIMOTHY N        17355           484                     228   \n",
      "BOWEN JR RAYMOND M      65907            27                     140   \n",
      "CALGER CHRISTOPHER F    35818           144                     199   \n",
      "CAUSEY RICHARD A        30674            49                      58   \n",
      "COLWELL WESLEY          16514            40                     240   \n",
      "DELAINEY DAVID W        86174          3069                      66   \n",
      "FASTOW ANDREW S         55921           NaN                     NaN   \n",
      "GLISAN JR BEN F        125978            16                      52   \n",
      "HANNON KEVIN P          34039            32                      32   \n",
      "HIRKO JOSEPH            77978           NaN                     NaN   \n",
      "KOENIG MARK E          127017            61                      53   \n",
      "KOPPER MICHAEL J       118134           NaN                     NaN   \n",
      "LAY KENNETH L           99832            36                     123   \n",
      "RICE KENNETH D          46950            18                      42   \n",
      "RIEKER PAULA H          33271            82                      35   \n",
      "SHELBY REX              22884            39                      13   \n",
      "SKILLING JEFFREY K      29336           108                      88   \n",
      "YEAGER F SCOTT          53947           NaN                     NaN   \n",
      "\n",
      "                     from_this_person_to_poi        ...         \\\n",
      "BELDEN TIMOTHY N                         108        ...          \n",
      "BOWEN JR RAYMOND M                        15        ...          \n",
      "CALGER CHRISTOPHER F                      25        ...          \n",
      "CAUSEY RICHARD A                          12        ...          \n",
      "COLWELL WESLEY                            11        ...          \n",
      "DELAINEY DAVID W                         609        ...          \n",
      "FASTOW ANDREW S                          NaN        ...          \n",
      "GLISAN JR BEN F                            6        ...          \n",
      "HANNON KEVIN P                            21        ...          \n",
      "HIRKO JOSEPH                             NaN        ...          \n",
      "KOENIG MARK E                             15        ...          \n",
      "KOPPER MICHAEL J                         NaN        ...          \n",
      "LAY KENNETH L                             16        ...          \n",
      "RICE KENNETH D                             4        ...          \n",
      "RIEKER PAULA H                            48        ...          \n",
      "SHELBY REX                                14        ...          \n",
      "SKILLING JEFFREY K                        30        ...          \n",
      "YEAGER F SCOTT                           NaN        ...          \n",
      "\n",
      "                     long_term_incentive     other   poi restricted_stock  \\\n",
      "BELDEN TIMOTHY N                     NaN    210698  True           157569   \n",
      "BOWEN JR RAYMOND M                974293      1621  True           252055   \n",
      "CALGER CHRISTOPHER F              375304       486  True           126027   \n",
      "CAUSEY RICHARD A                  350000    307895  True          2502063   \n",
      "COLWELL WESLEY                       NaN    101740  True           698242   \n",
      "DELAINEY DAVID W                 1294981      1661  True          1323148   \n",
      "FASTOW ANDREW S                  1736055    277464  True          1794412   \n",
      "GLISAN JR BEN F                    71023    200308  True           393818   \n",
      "HANNON KEVIN P                   1617011     11350  True           853064   \n",
      "HIRKO JOSEPH                         NaN      2856  True              NaN   \n",
      "KOENIG MARK E                     300000    150458  True          1248318   \n",
      "KOPPER MICHAEL J                  602671    907502  True           985032   \n",
      "LAY KENNETH L                    3600000  10359729  True         14761694   \n",
      "RICE KENNETH D                   1617011    174839  True          2748364   \n",
      "RIEKER PAULA H                       NaN      1950  True           283649   \n",
      "SHELBY REX                           NaN   1573324  True           869220   \n",
      "SKILLING JEFFREY K               1920000     22122  True          6843672   \n",
      "YEAGER F SCOTT                       NaN    147950  True          3576206   \n",
      "\n",
      "                     restricted_stock_deferred   salary  \\\n",
      "BELDEN TIMOTHY N                           NaN   213999   \n",
      "BOWEN JR RAYMOND M                         NaN   278601   \n",
      "CALGER CHRISTOPHER F                       NaN   240189   \n",
      "CAUSEY RICHARD A                           NaN   415189   \n",
      "COLWELL WESLEY                             NaN   288542   \n",
      "DELAINEY DAVID W                           NaN   365163   \n",
      "FASTOW ANDREW S                            NaN   440698   \n",
      "GLISAN JR BEN F                            NaN   274975   \n",
      "HANNON KEVIN P                             NaN   243293   \n",
      "HIRKO JOSEPH                               NaN      NaN   \n",
      "KOENIG MARK E                              NaN   309946   \n",
      "KOPPER MICHAEL J                           NaN   224305   \n",
      "LAY KENNETH L                              NaN  1072321   \n",
      "RICE KENNETH D                             NaN   420636   \n",
      "RIEKER PAULA H                             NaN   249201   \n",
      "SHELBY REX                                 NaN   211844   \n",
      "SKILLING JEFFREY K                         NaN  1111258   \n",
      "YEAGER F SCOTT                             NaN   158403   \n",
      "\n",
      "                     shared_receipt_with_poi to_messages total_payments  \\\n",
      "BELDEN TIMOTHY N                        5521        7991        5501630   \n",
      "BOWEN JR RAYMOND M                      1593        1858        2669589   \n",
      "CALGER CHRISTOPHER F                    2188        2598        1639297   \n",
      "CAUSEY RICHARD A                        1585        1892        1868758   \n",
      "COLWELL WESLEY                          1132        1758        1490344   \n",
      "DELAINEY DAVID W                        2097        3093        4747979   \n",
      "FASTOW ANDREW S                          NaN         NaN        2424083   \n",
      "GLISAN JR BEN F                          874         873        1272284   \n",
      "HANNON KEVIN P                          1035        1045         288682   \n",
      "HIRKO JOSEPH                             NaN         NaN          91093   \n",
      "KOENIG MARK E                           2271        2374        1587421   \n",
      "KOPPER MICHAEL J                         NaN         NaN        2652612   \n",
      "LAY KENNETH L                           2411        4273      103559793   \n",
      "RICE KENNETH D                           864         905         505050   \n",
      "RIEKER PAULA H                          1258        1328        1099100   \n",
      "SHELBY REX                                91         225        2003885   \n",
      "SKILLING JEFFREY K                      2042        3627        8682716   \n",
      "YEAGER F SCOTT                           NaN         NaN         360300   \n",
      "\n",
      "                     total_stock_value  \n",
      "BELDEN TIMOTHY N               1110705  \n",
      "BOWEN JR RAYMOND M              252055  \n",
      "CALGER CHRISTOPHER F            126027  \n",
      "CAUSEY RICHARD A               2502063  \n",
      "COLWELL WESLEY                  698242  \n",
      "DELAINEY DAVID W               3614261  \n",
      "FASTOW ANDREW S                1794412  \n",
      "GLISAN JR BEN F                 778546  \n",
      "HANNON KEVIN P                 6391065  \n",
      "HIRKO JOSEPH                  30766064  \n",
      "KOENIG MARK E                  1920055  \n",
      "KOPPER MICHAEL J                985032  \n",
      "LAY KENNETH L                 49110078  \n",
      "RICE KENNETH D                22542539  \n",
      "RIEKER PAULA H                 1918887  \n",
      "SHELBY REX                     2493616  \n",
      "SKILLING JEFFREY K            26093672  \n",
      "YEAGER F SCOTT                11884758  \n",
      "\n",
      "[18 rows x 21 columns]\n"
     ]
    }
   ],
   "source": [
    "#Lets manually look at POIs to see if we can get any insights.\n",
    "print enron_data[enron_data['poi']==True]"
   ]
  },
  {
   "cell_type": "markdown",
   "metadata": {},
   "source": [
    "<h4>Basic Observations: </h4>\n",
    "<br>\n",
    "None of the POIs have a director fee. Most of them have a bonus. None of them had restricted_stock_deferred, but going back to our previous cell we see that there were 128 NaN values for that column so this doesnt really tell us much. They seem to have a high shared receipt with POI. They also seem to have fairly high total_payments and total_stock_value"
   ]
  },
  {
   "cell_type": "code",
   "execution_count": 162,
   "metadata": {
    "collapsed": true
   },
   "outputs": [],
   "source": [
    "dataset = data_dict"
   ]
  },
  {
   "cell_type": "code",
   "execution_count": 173,
   "metadata": {
    "collapsed": false
   },
   "outputs": [],
   "source": [
    "#Create new feature\n",
    "for k, v in dataset.iteritems():\n",
    "    if v['bonus'] > 8000000:\n",
    "        dataset[k].update({\"Unusually_High_Bonus\":\"Yes\"})\n",
    "    else:\n",
    "        dataset[k].update({\"Unusually_High_Bonus\":\"No\"})\n",
    "\n"
   ]
  },
  {
   "cell_type": "code",
   "execution_count": 174,
   "metadata": {
    "collapsed": false
   },
   "outputs": [
    {
     "name": "stdout",
     "output_type": "stream",
     "text": [
      "{'METTS MARK': {'to_messages': 807, 'deferral_payments': 'NaN', 'bonus': 600000, 'total_stock_value': 585062, 'expenses': 94299, 'from_poi_to_this_person': 38, 'from_this_person_to_poi': 1, 'poi': False, 'deferred_income': 'NaN', 'Unusually_High_Bonus': 'No', 'restricted_stock': 585062, 'long_term_incentive': 'NaN', 'salary': 365788, 'total_payments': 1061827, 'loan_advances': 'NaN', 'email_address': 'mark.metts@enron.com', 'restricted_stock_deferred': 'NaN', 'shared_receipt_with_poi': 702, 'exercised_stock_options': 'NaN', 'from_messages': 29, 'other': 1740, 'director_fees': 'NaN'}, 'BAXTER JOHN C': {'to_messages': 'NaN', 'deferral_payments': 1295738, 'bonus': 1200000, 'total_stock_value': 10623258, 'expenses': 11200, 'from_poi_to_this_person': 'NaN', 'from_this_person_to_poi': 'NaN', 'poi': False, 'deferred_income': -1386055, 'Unusually_High_Bonus': 'No', 'restricted_stock': 3942714, 'long_term_incentive': 1586055, 'salary': 267102, 'total_payments': 5634343, 'loan_advances': 'NaN', 'email_address': 'NaN', 'restricted_stock_deferred': 'NaN', 'shared_receipt_with_poi': 'NaN', 'exercised_stock_options': 6680544, 'from_messages': 'NaN', 'other': 2660303, 'director_fees': 'NaN'}, 'ELLIOTT STEVEN': {'to_messages': 'NaN', 'deferral_payments': 'NaN', 'bonus': 350000, 'total_stock_value': 6678735, 'expenses': 78552, 'from_poi_to_this_person': 'NaN', 'from_this_person_to_poi': 'NaN', 'poi': False, 'deferred_income': -400729, 'Unusually_High_Bonus': 'No', 'restricted_stock': 1788391, 'long_term_incentive': 'NaN', 'salary': 170941, 'total_payments': 211725, 'loan_advances': 'NaN', 'email_address': 'steven.elliott@enron.com', 'restricted_stock_deferred': 'NaN', 'shared_receipt_with_poi': 'NaN', 'exercised_stock_options': 4890344, 'from_messages': 'NaN', 'other': 12961, 'director_fees': 'NaN'}, 'CORDES WILLIAM R': {'to_messages': 764, 'deferral_payments': 'NaN', 'bonus': 'NaN', 'total_stock_value': 1038185, 'expenses': 'NaN', 'from_poi_to_this_person': 10, 'from_this_person_to_poi': 0, 'poi': False, 'deferred_income': 'NaN', 'Unusually_High_Bonus': 'Yes', 'restricted_stock': 386335, 'long_term_incentive': 'NaN', 'salary': 'NaN', 'total_payments': 'NaN', 'loan_advances': 'NaN', 'email_address': 'bill.cordes@enron.com', 'restricted_stock_deferred': 'NaN', 'shared_receipt_with_poi': 58, 'exercised_stock_options': 651850, 'from_messages': 12, 'other': 'NaN', 'director_fees': 'NaN'}, 'HANNON KEVIN P': {'to_messages': 1045, 'deferral_payments': 'NaN', 'bonus': 1500000, 'total_stock_value': 6391065, 'expenses': 34039, 'from_poi_to_this_person': 32, 'from_this_person_to_poi': 21, 'poi': True, 'deferred_income': -3117011, 'Unusually_High_Bonus': 'No', 'restricted_stock': 853064, 'long_term_incentive': 1617011, 'salary': 243293, 'total_payments': 288682, 'loan_advances': 'NaN', 'email_address': 'kevin.hannon@enron.com', 'restricted_stock_deferred': 'NaN', 'shared_receipt_with_poi': 1035, 'exercised_stock_options': 5538001, 'from_messages': 32, 'other': 11350, 'director_fees': 'NaN'}, 'MORDAUNT KRISTINA M': {'to_messages': 'NaN', 'deferral_payments': 'NaN', 'bonus': 325000, 'total_stock_value': 208510, 'expenses': 35018, 'from_poi_to_this_person': 'NaN', 'from_this_person_to_poi': 'NaN', 'poi': False, 'deferred_income': 'NaN', 'Unusually_High_Bonus': 'No', 'restricted_stock': 208510, 'long_term_incentive': 'NaN', 'salary': 267093, 'total_payments': 628522, 'loan_advances': 'NaN', 'email_address': 'kristina.mordaunt@enron.com', 'restricted_stock_deferred': 'NaN', 'shared_receipt_with_poi': 'NaN', 'exercised_stock_options': 'NaN', 'from_messages': 'NaN', 'other': 1411, 'director_fees': 'NaN'}, 'MEYER ROCKFORD G': {'to_messages': 232, 'deferral_payments': 1848227, 'bonus': 'NaN', 'total_stock_value': 955873, 'expenses': 'NaN', 'from_poi_to_this_person': 0, 'from_this_person_to_poi': 0, 'poi': False, 'deferred_income': 'NaN', 'Unusually_High_Bonus': 'Yes', 'restricted_stock': 462384, 'long_term_incentive': 'NaN', 'salary': 'NaN', 'total_payments': 1848227, 'loan_advances': 'NaN', 'email_address': 'rockford.meyer@enron.com', 'restricted_stock_deferred': 'NaN', 'shared_receipt_with_poi': 22, 'exercised_stock_options': 493489, 'from_messages': 28, 'other': 'NaN', 'director_fees': 'NaN'}, 'MCMAHON JEFFREY': {'to_messages': 2355, 'deferral_payments': 'NaN', 'bonus': 2600000, 'total_stock_value': 1662855, 'expenses': 137108, 'from_poi_to_this_person': 58, 'from_this_person_to_poi': 26, 'poi': False, 'deferred_income': 'NaN', 'Unusually_High_Bonus': 'No', 'restricted_stock': 558801, 'long_term_incentive': 694862, 'salary': 370448, 'total_payments': 4099771, 'loan_advances': 'NaN', 'email_address': 'jeffrey.mcmahon@enron.com', 'restricted_stock_deferred': 'NaN', 'shared_receipt_with_poi': 2228, 'exercised_stock_options': 1104054, 'from_messages': 48, 'other': 297353, 'director_fees': 'NaN'}, 'HORTON STANLEY C': {'to_messages': 2350, 'deferral_payments': 3131860, 'bonus': 'NaN', 'total_stock_value': 7256648, 'expenses': 'NaN', 'from_poi_to_this_person': 44, 'from_this_person_to_poi': 15, 'poi': False, 'deferred_income': 'NaN', 'Unusually_High_Bonus': 'Yes', 'restricted_stock': 2046079, 'long_term_incentive': 'NaN', 'salary': 'NaN', 'total_payments': 3131860, 'loan_advances': 'NaN', 'email_address': 'stanley.horton@enron.com', 'restricted_stock_deferred': 'NaN', 'shared_receipt_with_poi': 1074, 'exercised_stock_options': 5210569, 'from_messages': 1073, 'other': 'NaN', 'director_fees': 'NaN'}, 'PIPER GREGORY F': {'to_messages': 1238, 'deferral_payments': 1130036, 'bonus': 400000, 'total_stock_value': 880290, 'expenses': 43057, 'from_poi_to_this_person': 61, 'from_this_person_to_poi': 48, 'poi': False, 'deferred_income': -33333, 'Unusually_High_Bonus': 'No', 'restricted_stock': 409554, 'long_term_incentive': 'NaN', 'salary': 197091, 'total_payments': 1737629, 'loan_advances': 'NaN', 'email_address': 'greg.piper@enron.com', 'restricted_stock_deferred': -409554, 'shared_receipt_with_poi': 742, 'exercised_stock_options': 880290, 'from_messages': 222, 'other': 778, 'director_fees': 'NaN'}, 'HUMPHREY GENE E': {'to_messages': 128, 'deferral_payments': 2964506, 'bonus': 'NaN', 'total_stock_value': 2282768, 'expenses': 4994, 'from_poi_to_this_person': 10, 'from_this_person_to_poi': 17, 'poi': False, 'deferred_income': 'NaN', 'Unusually_High_Bonus': 'Yes', 'restricted_stock': 'NaN', 'long_term_incentive': 'NaN', 'salary': 130724, 'total_payments': 3100224, 'loan_advances': 'NaN', 'email_address': 'gene.humphrey@enron.com', 'restricted_stock_deferred': 'NaN', 'shared_receipt_with_poi': 119, 'exercised_stock_options': 2282768, 'from_messages': 17, 'other': 'NaN', 'director_fees': 'NaN'}, 'UMANOFF ADAM S': {'to_messages': 111, 'deferral_payments': 'NaN', 'bonus': 788750, 'total_stock_value': 'NaN', 'expenses': 53122, 'from_poi_to_this_person': 12, 'from_this_person_to_poi': 0, 'poi': False, 'deferred_income': 'NaN', 'Unusually_High_Bonus': 'No', 'restricted_stock': 'NaN', 'long_term_incentive': 'NaN', 'salary': 288589, 'total_payments': 1130461, 'loan_advances': 'NaN', 'email_address': 'adam.umanoff@enron.com', 'restricted_stock_deferred': 'NaN', 'shared_receipt_with_poi': 41, 'exercised_stock_options': 'NaN', 'from_messages': 18, 'other': 'NaN', 'director_fees': 'NaN'}, 'BLACHMAN JEREMY M': {'to_messages': 2475, 'deferral_payments': 'NaN', 'bonus': 850000, 'total_stock_value': 954354, 'expenses': 84208, 'from_poi_to_this_person': 25, 'from_this_person_to_poi': 2, 'poi': False, 'deferred_income': 'NaN', 'Unusually_High_Bonus': 'No', 'restricted_stock': 189041, 'long_term_incentive': 831809, 'salary': 248546, 'total_payments': 2014835, 'loan_advances': 'NaN', 'email_address': 'jeremy.blachman@enron.com', 'restricted_stock_deferred': 'NaN', 'shared_receipt_with_poi': 2326, 'exercised_stock_options': 765313, 'from_messages': 14, 'other': 272, 'director_fees': 'NaN'}, 'SUNDE MARTIN': {'to_messages': 2647, 'deferral_payments': 'NaN', 'bonus': 700000, 'total_stock_value': 698920, 'expenses': 'NaN', 'from_poi_to_this_person': 37, 'from_this_person_to_poi': 13, 'poi': False, 'deferred_income': 'NaN', 'Unusually_High_Bonus': 'No', 'restricted_stock': 698920, 'long_term_incentive': 476451, 'salary': 257486, 'total_payments': 1545059, 'loan_advances': 'NaN', 'email_address': 'marty.sunde@enron.com', 'restricted_stock_deferred': 'NaN', 'shared_receipt_with_poi': 2565, 'exercised_stock_options': 'NaN', 'from_messages': 38, 'other': 111122, 'director_fees': 'NaN'}, 'GIBBS DANA R': {'to_messages': 169, 'deferral_payments': 504610, 'bonus': 'NaN', 'total_stock_value': 2218275, 'expenses': 'NaN', 'from_poi_to_this_person': 0, 'from_this_person_to_poi': 0, 'poi': False, 'deferred_income': 'NaN', 'Unusually_High_Bonus': 'Yes', 'restricted_stock': 'NaN', 'long_term_incentive': 461912, 'salary': 'NaN', 'total_payments': 966522, 'loan_advances': 'NaN', 'email_address': 'dana.gibbs@enron.com', 'restricted_stock_deferred': 'NaN', 'shared_receipt_with_poi': 23, 'exercised_stock_options': 2218275, 'from_messages': 12, 'other': 'NaN', 'director_fees': 'NaN'}, 'LOWRY CHARLES P': {'to_messages': 'NaN', 'deferral_payments': 'NaN', 'bonus': 'NaN', 'total_stock_value': 372205, 'expenses': 'NaN', 'from_poi_to_this_person': 'NaN', 'from_this_person_to_poi': 'NaN', 'poi': False, 'deferred_income': 'NaN', 'Unusually_High_Bonus': 'Yes', 'restricted_stock': 153686, 'long_term_incentive': 'NaN', 'salary': 'NaN', 'total_payments': 'NaN', 'loan_advances': 'NaN', 'email_address': 'NaN', 'restricted_stock_deferred': -153686, 'shared_receipt_with_poi': 'NaN', 'exercised_stock_options': 372205, 'from_messages': 'NaN', 'other': 'NaN', 'director_fees': 'NaN'}, 'COLWELL WESLEY': {'to_messages': 1758, 'deferral_payments': 27610, 'bonus': 1200000, 'total_stock_value': 698242, 'expenses': 16514, 'from_poi_to_this_person': 240, 'from_this_person_to_poi': 11, 'poi': True, 'deferred_income': -144062, 'Unusually_High_Bonus': 'No', 'restricted_stock': 698242, 'long_term_incentive': 'NaN', 'salary': 288542, 'total_payments': 1490344, 'loan_advances': 'NaN', 'email_address': 'wes.colwell@enron.com', 'restricted_stock_deferred': 'NaN', 'shared_receipt_with_poi': 1132, 'exercised_stock_options': 'NaN', 'from_messages': 40, 'other': 101740, 'director_fees': 'NaN'}, 'MULLER MARK S': {'to_messages': 136, 'deferral_payments': 842924, 'bonus': 1100000, 'total_stock_value': 1416848, 'expenses': 'NaN', 'from_poi_to_this_person': 12, 'from_this_person_to_poi': 0, 'poi': False, 'deferred_income': -719000, 'Unusually_High_Bonus': 'No', 'restricted_stock': 360528, 'long_term_incentive': 1725545, 'salary': 251654, 'total_payments': 3202070, 'loan_advances': 'NaN', 'email_address': 's..muller@enron.com', 'restricted_stock_deferred': 'NaN', 'shared_receipt_with_poi': 114, 'exercised_stock_options': 1056320, 'from_messages': 16, 'other': 947, 'director_fees': 'NaN'}, 'JACKSON CHARLENE R': {'to_messages': 258, 'deferral_payments': 'NaN', 'bonus': 250000, 'total_stock_value': 725735, 'expenses': 10181, 'from_poi_to_this_person': 25, 'from_this_person_to_poi': 19, 'poi': False, 'deferred_income': 'NaN', 'Unusually_High_Bonus': 'No', 'restricted_stock': 540672, 'long_term_incentive': 'NaN', 'salary': 288558, 'total_payments': 551174, 'loan_advances': 'NaN', 'email_address': 'charlene.jackson@enron.com', 'restricted_stock_deferred': 'NaN', 'shared_receipt_with_poi': 117, 'exercised_stock_options': 185063, 'from_messages': 56, 'other': 2435, 'director_fees': 'NaN'}, 'WESTFAHL RICHARD K': {'to_messages': 'NaN', 'deferral_payments': 'NaN', 'bonus': 'NaN', 'total_stock_value': 384930, 'expenses': 51870, 'from_poi_to_this_person': 'NaN', 'from_this_person_to_poi': 'NaN', 'poi': False, 'deferred_income': -10800, 'Unusually_High_Bonus': 'Yes', 'restricted_stock': 384930, 'long_term_incentive': 256191, 'salary': 63744, 'total_payments': 762135, 'loan_advances': 'NaN', 'email_address': 'dick.westfahl@enron.com', 'restricted_stock_deferred': 'NaN', 'shared_receipt_with_poi': 'NaN', 'exercised_stock_options': 'NaN', 'from_messages': 'NaN', 'other': 401130, 'director_fees': 'NaN'}, 'WALTERS GARETH W': {'to_messages': 'NaN', 'deferral_payments': 53625, 'bonus': 'NaN', 'total_stock_value': 1030329, 'expenses': 33785, 'from_poi_to_this_person': 'NaN', 'from_this_person_to_poi': 'NaN', 'poi': False, 'deferred_income': 'NaN', 'Unusually_High_Bonus': 'Yes', 'restricted_stock': 'NaN', 'long_term_incentive': 'NaN', 'salary': 'NaN', 'total_payments': 87410, 'loan_advances': 'NaN', 'email_address': 'NaN', 'restricted_stock_deferred': 'NaN', 'shared_receipt_with_poi': 'NaN', 'exercised_stock_options': 1030329, 'from_messages': 'NaN', 'other': 'NaN', 'director_fees': 'NaN'}, 'WALLS JR ROBERT H': {'to_messages': 671, 'deferral_payments': 'NaN', 'bonus': 850000, 'total_stock_value': 5898997, 'expenses': 50936, 'from_poi_to_this_person': 17, 'from_this_person_to_poi': 0, 'poi': False, 'deferred_income': 'NaN', 'Unusually_High_Bonus': 'No', 'restricted_stock': 1552453, 'long_term_incentive': 540751, 'salary': 357091, 'total_payments': 1798780, 'loan_advances': 'NaN', 'email_address': 'rob.walls@enron.com', 'restricted_stock_deferred': 'NaN', 'shared_receipt_with_poi': 215, 'exercised_stock_options': 4346544, 'from_messages': 146, 'other': 2, 'director_fees': 'NaN'}, 'KITCHEN LOUISE': {'to_messages': 8305, 'deferral_payments': 'NaN', 'bonus': 3100000, 'total_stock_value': 547143, 'expenses': 5774, 'from_poi_to_this_person': 251, 'from_this_person_to_poi': 194, 'poi': False, 'deferred_income': 'NaN', 'Unusually_High_Bonus': 'No', 'restricted_stock': 466101, 'long_term_incentive': 'NaN', 'salary': 271442, 'total_payments': 3471141, 'loan_advances': 'NaN', 'email_address': 'louise.kitchen@enron.com', 'restricted_stock_deferred': 'NaN', 'shared_receipt_with_poi': 3669, 'exercised_stock_options': 81042, 'from_messages': 1728, 'other': 93925, 'director_fees': 'NaN'}, 'CHAN RONNIE': {'to_messages': 'NaN', 'deferral_payments': 'NaN', 'bonus': 'NaN', 'total_stock_value': 'NaN', 'expenses': 'NaN', 'from_poi_to_this_person': 'NaN', 'from_this_person_to_poi': 'NaN', 'poi': False, 'deferred_income': -98784, 'Unusually_High_Bonus': 'Yes', 'restricted_stock': 32460, 'long_term_incentive': 'NaN', 'salary': 'NaN', 'total_payments': 'NaN', 'loan_advances': 'NaN', 'email_address': 'NaN', 'restricted_stock_deferred': -32460, 'shared_receipt_with_poi': 'NaN', 'exercised_stock_options': 'NaN', 'from_messages': 'NaN', 'other': 'NaN', 'director_fees': 98784}, 'BELFER ROBERT': {'to_messages': 'NaN', 'deferral_payments': -102500, 'bonus': 'NaN', 'total_stock_value': -44093, 'expenses': 'NaN', 'from_poi_to_this_person': 'NaN', 'from_this_person_to_poi': 'NaN', 'poi': False, 'deferred_income': 'NaN', 'Unusually_High_Bonus': 'Yes', 'restricted_stock': 'NaN', 'long_term_incentive': 'NaN', 'salary': 'NaN', 'total_payments': 102500, 'loan_advances': 'NaN', 'email_address': 'NaN', 'restricted_stock_deferred': 44093, 'shared_receipt_with_poi': 'NaN', 'exercised_stock_options': 3285, 'from_messages': 'NaN', 'other': 'NaN', 'director_fees': 3285}, 'SHANKMAN JEFFREY A': {'to_messages': 3221, 'deferral_payments': 'NaN', 'bonus': 2000000, 'total_stock_value': 2072035, 'expenses': 178979, 'from_poi_to_this_person': 94, 'from_this_person_to_poi': 83, 'poi': False, 'deferred_income': 'NaN', 'Unusually_High_Bonus': 'No', 'restricted_stock': 630137, 'long_term_incentive': 554422, 'salary': 304110, 'total_payments': 3038702, 'loan_advances': 'NaN', 'email_address': 'jeffrey.shankman@enron.com', 'restricted_stock_deferred': 'NaN', 'shared_receipt_with_poi': 1730, 'exercised_stock_options': 1441898, 'from_messages': 2681, 'other': 1191, 'director_fees': 'NaN'}, 'WODRASKA JOHN': {'to_messages': 'NaN', 'deferral_payments': 'NaN', 'bonus': 'NaN', 'total_stock_value': 'NaN', 'expenses': 'NaN', 'from_poi_to_this_person': 'NaN', 'from_this_person_to_poi': 'NaN', 'poi': False, 'deferred_income': 'NaN', 'Unusually_High_Bonus': 'Yes', 'restricted_stock': 'NaN', 'long_term_incentive': 'NaN', 'salary': 'NaN', 'total_payments': 189583, 'loan_advances': 'NaN', 'email_address': 'john.wodraska@enron.com', 'restricted_stock_deferred': 'NaN', 'shared_receipt_with_poi': 'NaN', 'exercised_stock_options': 'NaN', 'from_messages': 'NaN', 'other': 189583, 'director_fees': 'NaN'}, 'BERGSIEKER RICHARD P': {'to_messages': 383, 'deferral_payments': 'NaN', 'bonus': 250000, 'total_stock_value': 659249, 'expenses': 59175, 'from_poi_to_this_person': 4, 'from_this_person_to_poi': 0, 'poi': False, 'deferred_income': -485813, 'Unusually_High_Bonus': 'No', 'restricted_stock': 659249, 'long_term_incentive': 180250, 'salary': 187922, 'total_payments': 618850, 'loan_advances': 'NaN', 'email_address': 'rick.bergsieker@enron.com', 'restricted_stock_deferred': 'NaN', 'shared_receipt_with_poi': 233, 'exercised_stock_options': 'NaN', 'from_messages': 59, 'other': 427316, 'director_fees': 'NaN'}, 'URQUHART JOHN A': {'to_messages': 'NaN', 'deferral_payments': 'NaN', 'bonus': 'NaN', 'total_stock_value': 'NaN', 'expenses': 228656, 'from_poi_to_this_person': 'NaN', 'from_this_person_to_poi': 'NaN', 'poi': False, 'deferred_income': -36666, 'Unusually_High_Bonus': 'Yes', 'restricted_stock': 'NaN', 'long_term_incentive': 'NaN', 'salary': 'NaN', 'total_payments': 228656, 'loan_advances': 'NaN', 'email_address': 'NaN', 'restricted_stock_deferred': 'NaN', 'shared_receipt_with_poi': 'NaN', 'exercised_stock_options': 'NaN', 'from_messages': 'NaN', 'other': 'NaN', 'director_fees': 36666}, 'BIBI PHILIPPE A': {'to_messages': 1607, 'deferral_payments': 'NaN', 'bonus': 1000000, 'total_stock_value': 1843816, 'expenses': 38559, 'from_poi_to_this_person': 23, 'from_this_person_to_poi': 8, 'poi': False, 'deferred_income': 'NaN', 'Unusually_High_Bonus': 'No', 'restricted_stock': 378082, 'long_term_incentive': 369721, 'salary': 213625, 'total_payments': 2047593, 'loan_advances': 'NaN', 'email_address': 'philippe.bibi@enron.com', 'restricted_stock_deferred': 'NaN', 'shared_receipt_with_poi': 1336, 'exercised_stock_options': 1465734, 'from_messages': 40, 'other': 425688, 'director_fees': 'NaN'}, 'RIEKER PAULA H': {'to_messages': 1328, 'deferral_payments': 214678, 'bonus': 700000, 'total_stock_value': 1918887, 'expenses': 33271, 'from_poi_to_this_person': 35, 'from_this_person_to_poi': 48, 'poi': True, 'deferred_income': -100000, 'Unusually_High_Bonus': 'No', 'restricted_stock': 283649, 'long_term_incentive': 'NaN', 'salary': 249201, 'total_payments': 1099100, 'loan_advances': 'NaN', 'email_address': 'paula.rieker@enron.com', 'restricted_stock_deferred': 'NaN', 'shared_receipt_with_poi': 1258, 'exercised_stock_options': 1635238, 'from_messages': 82, 'other': 1950, 'director_fees': 'NaN'}, 'WHALEY DAVID A': {'to_messages': 'NaN', 'deferral_payments': 'NaN', 'bonus': 'NaN', 'total_stock_value': 98718, 'expenses': 'NaN', 'from_poi_to_this_person': 'NaN', 'from_this_person_to_poi': 'NaN', 'poi': False, 'deferred_income': 'NaN', 'Unusually_High_Bonus': 'Yes', 'restricted_stock': 'NaN', 'long_term_incentive': 'NaN', 'salary': 'NaN', 'total_payments': 'NaN', 'loan_advances': 'NaN', 'email_address': 'NaN', 'restricted_stock_deferred': 'NaN', 'shared_receipt_with_poi': 'NaN', 'exercised_stock_options': 98718, 'from_messages': 'NaN', 'other': 'NaN', 'director_fees': 'NaN'}, 'BECK SALLY W': {'to_messages': 7315, 'deferral_payments': 'NaN', 'bonus': 700000, 'total_stock_value': 126027, 'expenses': 37172, 'from_poi_to_this_person': 144, 'from_this_person_to_poi': 386, 'poi': False, 'deferred_income': 'NaN', 'Unusually_High_Bonus': 'No', 'restricted_stock': 126027, 'long_term_incentive': 'NaN', 'salary': 231330, 'total_payments': 969068, 'loan_advances': 'NaN', 'email_address': 'sally.beck@enron.com', 'restricted_stock_deferred': 'NaN', 'shared_receipt_with_poi': 2639, 'exercised_stock_options': 'NaN', 'from_messages': 4343, 'other': 566, 'director_fees': 'NaN'}, 'HAUG DAVID L': {'to_messages': 573, 'deferral_payments': 'NaN', 'bonus': 'NaN', 'total_stock_value': 2217299, 'expenses': 475, 'from_poi_to_this_person': 4, 'from_this_person_to_poi': 7, 'poi': False, 'deferred_income': 'NaN', 'Unusually_High_Bonus': 'Yes', 'restricted_stock': 2217299, 'long_term_incentive': 'NaN', 'salary': 'NaN', 'total_payments': 475, 'loan_advances': 'NaN', 'email_address': 'david.haug@enron.com', 'restricted_stock_deferred': 'NaN', 'shared_receipt_with_poi': 471, 'exercised_stock_options': 'NaN', 'from_messages': 19, 'other': 'NaN', 'director_fees': 'NaN'}, 'ECHOLS JOHN B': {'to_messages': 'NaN', 'deferral_payments': 'NaN', 'bonus': 200000, 'total_stock_value': 1008941, 'expenses': 21530, 'from_poi_to_this_person': 'NaN', 'from_this_person_to_poi': 'NaN', 'poi': False, 'deferred_income': 'NaN', 'Unusually_High_Bonus': 'No', 'restricted_stock': 407503, 'long_term_incentive': 2234774, 'salary': 182245, 'total_payments': 2692324, 'loan_advances': 'NaN', 'email_address': 'john.echols@enron.com', 'restricted_stock_deferred': 'NaN', 'shared_receipt_with_poi': 'NaN', 'exercised_stock_options': 601438, 'from_messages': 'NaN', 'other': 53775, 'director_fees': 'NaN'}, 'MENDELSOHN JOHN': {'to_messages': 'NaN', 'deferral_payments': 'NaN', 'bonus': 'NaN', 'total_stock_value': 'NaN', 'expenses': 148, 'from_poi_to_this_person': 'NaN', 'from_this_person_to_poi': 'NaN', 'poi': False, 'deferred_income': -103750, 'Unusually_High_Bonus': 'Yes', 'restricted_stock': 'NaN', 'long_term_incentive': 'NaN', 'salary': 'NaN', 'total_payments': 148, 'loan_advances': 'NaN', 'email_address': 'NaN', 'restricted_stock_deferred': 'NaN', 'shared_receipt_with_poi': 'NaN', 'exercised_stock_options': 'NaN', 'from_messages': 'NaN', 'other': 'NaN', 'director_fees': 103750}, 'HICKERSON GARY J': {'to_messages': 1320, 'deferral_payments': 'NaN', 'bonus': 1700000, 'total_stock_value': 441096, 'expenses': 98849, 'from_poi_to_this_person': 40, 'from_this_person_to_poi': 1, 'poi': False, 'deferred_income': 'NaN', 'Unusually_High_Bonus': 'No', 'restricted_stock': 441096, 'long_term_incentive': 69223, 'salary': 211788, 'total_payments': 2081796, 'loan_advances': 'NaN', 'email_address': 'gary.hickerson@enron.com', 'restricted_stock_deferred': 'NaN', 'shared_receipt_with_poi': 900, 'exercised_stock_options': 'NaN', 'from_messages': 27, 'other': 1936, 'director_fees': 'NaN'}, 'CLINE KENNETH W': {'to_messages': 'NaN', 'deferral_payments': 'NaN', 'bonus': 'NaN', 'total_stock_value': 189518, 'expenses': 'NaN', 'from_poi_to_this_person': 'NaN', 'from_this_person_to_poi': 'NaN', 'poi': False, 'deferred_income': 'NaN', 'Unusually_High_Bonus': 'Yes', 'restricted_stock': 662086, 'long_term_incentive': 'NaN', 'salary': 'NaN', 'total_payments': 'NaN', 'loan_advances': 'NaN', 'email_address': 'NaN', 'restricted_stock_deferred': -472568, 'shared_receipt_with_poi': 'NaN', 'exercised_stock_options': 'NaN', 'from_messages': 'NaN', 'other': 'NaN', 'director_fees': 'NaN'}, 'LEWIS RICHARD': {'to_messages': 952, 'deferral_payments': 'NaN', 'bonus': 'NaN', 'total_stock_value': 850477, 'expenses': 'NaN', 'from_poi_to_this_person': 10, 'from_this_person_to_poi': 0, 'poi': False, 'deferred_income': 'NaN', 'Unusually_High_Bonus': 'Yes', 'restricted_stock': 'NaN', 'long_term_incentive': 'NaN', 'salary': 'NaN', 'total_payments': 'NaN', 'loan_advances': 'NaN', 'email_address': 'richard.lewis@enron.com', 'restricted_stock_deferred': 'NaN', 'shared_receipt_with_poi': 739, 'exercised_stock_options': 850477, 'from_messages': 26, 'other': 'NaN', 'director_fees': 'NaN'}, 'HAYES ROBERT E': {'to_messages': 504, 'deferral_payments': 7961, 'bonus': 'NaN', 'total_stock_value': 151418, 'expenses': 'NaN', 'from_poi_to_this_person': 16, 'from_this_person_to_poi': 0, 'poi': False, 'deferred_income': 'NaN', 'Unusually_High_Bonus': 'Yes', 'restricted_stock': 151418, 'long_term_incentive': 'NaN', 'salary': 'NaN', 'total_payments': 7961, 'loan_advances': 'NaN', 'email_address': 'robert.hayes@enron.com', 'restricted_stock_deferred': 'NaN', 'shared_receipt_with_poi': 50, 'exercised_stock_options': 'NaN', 'from_messages': 12, 'other': 'NaN', 'director_fees': 'NaN'}, 'MCCARTY DANNY J': {'to_messages': 1433, 'deferral_payments': 'NaN', 'bonus': 'NaN', 'total_stock_value': 758931, 'expenses': 'NaN', 'from_poi_to_this_person': 25, 'from_this_person_to_poi': 2, 'poi': False, 'deferred_income': 'NaN', 'Unusually_High_Bonus': 'Yes', 'restricted_stock': 94556, 'long_term_incentive': 'NaN', 'salary': 'NaN', 'total_payments': 'NaN', 'loan_advances': 'NaN', 'email_address': 'danny.mccarty@enron.com', 'restricted_stock_deferred': 'NaN', 'shared_receipt_with_poi': 508, 'exercised_stock_options': 664375, 'from_messages': 215, 'other': 'NaN', 'director_fees': 'NaN'}, 'KOPPER MICHAEL J': {'to_messages': 'NaN', 'deferral_payments': 'NaN', 'bonus': 800000, 'total_stock_value': 985032, 'expenses': 118134, 'from_poi_to_this_person': 'NaN', 'from_this_person_to_poi': 'NaN', 'poi': True, 'deferred_income': 'NaN', 'Unusually_High_Bonus': 'No', 'restricted_stock': 985032, 'long_term_incentive': 602671, 'salary': 224305, 'total_payments': 2652612, 'loan_advances': 'NaN', 'email_address': 'michael.kopper@enron.com', 'restricted_stock_deferred': 'NaN', 'shared_receipt_with_poi': 'NaN', 'exercised_stock_options': 'NaN', 'from_messages': 'NaN', 'other': 907502, 'director_fees': 'NaN'}, 'LEFF DANIEL P': {'to_messages': 2822, 'deferral_payments': 'NaN', 'bonus': 1000000, 'total_stock_value': 360528, 'expenses': 'NaN', 'from_poi_to_this_person': 67, 'from_this_person_to_poi': 14, 'poi': False, 'deferred_income': 'NaN', 'Unusually_High_Bonus': 'No', 'restricted_stock': 360528, 'long_term_incentive': 1387399, 'salary': 273746, 'total_payments': 2664228, 'loan_advances': 'NaN', 'email_address': 'dan.leff@enron.com', 'restricted_stock_deferred': 'NaN', 'shared_receipt_with_poi': 2672, 'exercised_stock_options': 'NaN', 'from_messages': 63, 'other': 3083, 'director_fees': 'NaN'}, 'LAVORATO JOHN J': {'to_messages': 7259, 'deferral_payments': 'NaN', 'bonus': 8000000, 'total_stock_value': 5167144, 'expenses': 49537, 'from_poi_to_this_person': 528, 'from_this_person_to_poi': 411, 'poi': False, 'deferred_income': 'NaN', 'Unusually_High_Bonus': 'No', 'restricted_stock': 1008149, 'long_term_incentive': 2035380, 'salary': 339288, 'total_payments': 10425757, 'loan_advances': 'NaN', 'email_address': 'john.lavorato@enron.com', 'restricted_stock_deferred': 'NaN', 'shared_receipt_with_poi': 3962, 'exercised_stock_options': 4158995, 'from_messages': 2585, 'other': 1552, 'director_fees': 'NaN'}, 'BERBERIAN DAVID': {'to_messages': 'NaN', 'deferral_payments': 'NaN', 'bonus': 'NaN', 'total_stock_value': 2493616, 'expenses': 11892, 'from_poi_to_this_person': 'NaN', 'from_this_person_to_poi': 'NaN', 'poi': False, 'deferred_income': 'NaN', 'Unusually_High_Bonus': 'Yes', 'restricted_stock': 869220, 'long_term_incentive': 'NaN', 'salary': 216582, 'total_payments': 228474, 'loan_advances': 'NaN', 'email_address': 'david.berberian@enron.com', 'restricted_stock_deferred': 'NaN', 'shared_receipt_with_poi': 'NaN', 'exercised_stock_options': 1624396, 'from_messages': 'NaN', 'other': 'NaN', 'director_fees': 'NaN'}, 'DETMERING TIMOTHY J': {'to_messages': 'NaN', 'deferral_payments': 875307, 'bonus': 425000, 'total_stock_value': 2027865, 'expenses': 52255, 'from_poi_to_this_person': 'NaN', 'from_this_person_to_poi': 'NaN', 'poi': False, 'deferred_income': -775241, 'Unusually_High_Bonus': 'No', 'restricted_stock': 315068, 'long_term_incentive': 415657, 'salary': 210500, 'total_payments': 1204583, 'loan_advances': 'NaN', 'email_address': 'timothy.detmering@enron.com', 'restricted_stock_deferred': -315068, 'shared_receipt_with_poi': 'NaN', 'exercised_stock_options': 2027865, 'from_messages': 'NaN', 'other': 1105, 'director_fees': 'NaN'}, 'WAKEHAM JOHN': {'to_messages': 'NaN', 'deferral_payments': 'NaN', 'bonus': 'NaN', 'total_stock_value': 'NaN', 'expenses': 103773, 'from_poi_to_this_person': 'NaN', 'from_this_person_to_poi': 'NaN', 'poi': False, 'deferred_income': 'NaN', 'Unusually_High_Bonus': 'Yes', 'restricted_stock': 'NaN', 'long_term_incentive': 'NaN', 'salary': 'NaN', 'total_payments': 213071, 'loan_advances': 'NaN', 'email_address': 'NaN', 'restricted_stock_deferred': 'NaN', 'shared_receipt_with_poi': 'NaN', 'exercised_stock_options': 'NaN', 'from_messages': 'NaN', 'other': 'NaN', 'director_fees': 109298}, 'POWERS WILLIAM': {'to_messages': 653, 'deferral_payments': 'NaN', 'bonus': 'NaN', 'total_stock_value': 'NaN', 'expenses': 'NaN', 'from_poi_to_this_person': 0, 'from_this_person_to_poi': 0, 'poi': False, 'deferred_income': -17500, 'Unusually_High_Bonus': 'Yes', 'restricted_stock': 'NaN', 'long_term_incentive': 'NaN', 'salary': 'NaN', 'total_payments': 'NaN', 'loan_advances': 'NaN', 'email_address': 'ken.powers@enron.com', 'restricted_stock_deferred': 'NaN', 'shared_receipt_with_poi': 12, 'exercised_stock_options': 'NaN', 'from_messages': 26, 'other': 'NaN', 'director_fees': 17500}, 'GOLD JOSEPH': {'to_messages': 'NaN', 'deferral_payments': 'NaN', 'bonus': 750000, 'total_stock_value': 877611, 'expenses': 'NaN', 'from_poi_to_this_person': 'NaN', 'from_this_person_to_poi': 'NaN', 'poi': False, 'deferred_income': 'NaN', 'Unusually_High_Bonus': 'No', 'restricted_stock': 441096, 'long_term_incentive': 304805, 'salary': 272880, 'total_payments': 2146973, 'loan_advances': 'NaN', 'email_address': 'joe.gold@enron.com', 'restricted_stock_deferred': 'NaN', 'shared_receipt_with_poi': 'NaN', 'exercised_stock_options': 436515, 'from_messages': 'NaN', 'other': 819288, 'director_fees': 'NaN'}, 'BANNANTINE JAMES M': {'to_messages': 566, 'deferral_payments': 'NaN', 'bonus': 'NaN', 'total_stock_value': 5243487, 'expenses': 56301, 'from_poi_to_this_person': 39, 'from_this_person_to_poi': 0, 'poi': False, 'deferred_income': -5104, 'Unusually_High_Bonus': 'Yes', 'restricted_stock': 1757552, 'long_term_incentive': 'NaN', 'salary': 477, 'total_payments': 916197, 'loan_advances': 'NaN', 'email_address': 'james.bannantine@enron.com', 'restricted_stock_deferred': -560222, 'shared_receipt_with_poi': 465, 'exercised_stock_options': 4046157, 'from_messages': 29, 'other': 864523, 'director_fees': 'NaN'}, 'DUNCAN JOHN H': {'to_messages': 'NaN', 'deferral_payments': 'NaN', 'bonus': 'NaN', 'total_stock_value': 371750, 'expenses': 'NaN', 'from_poi_to_this_person': 'NaN', 'from_this_person_to_poi': 'NaN', 'poi': False, 'deferred_income': -25000, 'Unusually_High_Bonus': 'Yes', 'restricted_stock': 'NaN', 'long_term_incentive': 'NaN', 'salary': 'NaN', 'total_payments': 77492, 'loan_advances': 'NaN', 'email_address': 'NaN', 'restricted_stock_deferred': 'NaN', 'shared_receipt_with_poi': 'NaN', 'exercised_stock_options': 371750, 'from_messages': 'NaN', 'other': 'NaN', 'director_fees': 102492}, 'SHAPIRO RICHARD S': {'to_messages': 15149, 'deferral_payments': 'NaN', 'bonus': 650000, 'total_stock_value': 987001, 'expenses': 137767, 'from_poi_to_this_person': 74, 'from_this_person_to_poi': 65, 'poi': False, 'deferred_income': 'NaN', 'Unusually_High_Bonus': 'No', 'restricted_stock': 379164, 'long_term_incentive': 'NaN', 'salary': 269076, 'total_payments': 1057548, 'loan_advances': 'NaN', 'email_address': 'richard.shapiro@enron.com', 'restricted_stock_deferred': 'NaN', 'shared_receipt_with_poi': 4527, 'exercised_stock_options': 607837, 'from_messages': 1215, 'other': 705, 'director_fees': 'NaN'}, 'SHERRIFF JOHN R': {'to_messages': 3187, 'deferral_payments': 'NaN', 'bonus': 1500000, 'total_stock_value': 3128982, 'expenses': 'NaN', 'from_poi_to_this_person': 28, 'from_this_person_to_poi': 23, 'poi': False, 'deferred_income': 'NaN', 'Unusually_High_Bonus': 'No', 'restricted_stock': 1293424, 'long_term_incentive': 554422, 'salary': 428780, 'total_payments': 4335388, 'loan_advances': 'NaN', 'email_address': 'john.sherriff@enron.com', 'restricted_stock_deferred': 'NaN', 'shared_receipt_with_poi': 2103, 'exercised_stock_options': 1835558, 'from_messages': 92, 'other': 1852186, 'director_fees': 'NaN'}, 'SHELBY REX': {'to_messages': 225, 'deferral_payments': 'NaN', 'bonus': 200000, 'total_stock_value': 2493616, 'expenses': 22884, 'from_poi_to_this_person': 13, 'from_this_person_to_poi': 14, 'poi': True, 'deferred_income': -4167, 'Unusually_High_Bonus': 'No', 'restricted_stock': 869220, 'long_term_incentive': 'NaN', 'salary': 211844, 'total_payments': 2003885, 'loan_advances': 'NaN', 'email_address': 'rex.shelby@enron.com', 'restricted_stock_deferred': 'NaN', 'shared_receipt_with_poi': 91, 'exercised_stock_options': 1624396, 'from_messages': 39, 'other': 1573324, 'director_fees': 'NaN'}, 'LEMAISTRE CHARLES': {'to_messages': 'NaN', 'deferral_payments': 'NaN', 'bonus': 'NaN', 'total_stock_value': 412878, 'expenses': 'NaN', 'from_poi_to_this_person': 'NaN', 'from_this_person_to_poi': 'NaN', 'poi': False, 'deferred_income': -25000, 'Unusually_High_Bonus': 'Yes', 'restricted_stock': 'NaN', 'long_term_incentive': 'NaN', 'salary': 'NaN', 'total_payments': 87492, 'loan_advances': 'NaN', 'email_address': 'NaN', 'restricted_stock_deferred': 'NaN', 'shared_receipt_with_poi': 'NaN', 'exercised_stock_options': 412878, 'from_messages': 'NaN', 'other': 'NaN', 'director_fees': 112492}, 'DEFFNER JOSEPH M': {'to_messages': 714, 'deferral_payments': 'NaN', 'bonus': 600000, 'total_stock_value': 159211, 'expenses': 41626, 'from_poi_to_this_person': 115, 'from_this_person_to_poi': 4, 'poi': False, 'deferred_income': 'NaN', 'Unusually_High_Bonus': 'No', 'restricted_stock': 141833, 'long_term_incentive': 335349, 'salary': 206121, 'total_payments': 1208649, 'loan_advances': 'NaN', 'email_address': 'joseph.deffner@enron.com', 'restricted_stock_deferred': 'NaN', 'shared_receipt_with_poi': 552, 'exercised_stock_options': 17378, 'from_messages': 74, 'other': 25553, 'director_fees': 'NaN'}, 'KISHKILL JOSEPH G': {'to_messages': 'NaN', 'deferral_payments': 'NaN', 'bonus': 'NaN', 'total_stock_value': 1034346, 'expenses': 116335, 'from_poi_to_this_person': 'NaN', 'from_this_person_to_poi': 'NaN', 'poi': False, 'deferred_income': -51042, 'Unusually_High_Bonus': 'Yes', 'restricted_stock': 1034346, 'long_term_incentive': 'NaN', 'salary': 174246, 'total_payments': 704896, 'loan_advances': 'NaN', 'email_address': 'joe.kishkill@enron.com', 'restricted_stock_deferred': 'NaN', 'shared_receipt_with_poi': 'NaN', 'exercised_stock_options': 'NaN', 'from_messages': 'NaN', 'other': 465357, 'director_fees': 'NaN'}, 'WHALLEY LAWRENCE G': {'to_messages': 6019, 'deferral_payments': 'NaN', 'bonus': 3000000, 'total_stock_value': 6079137, 'expenses': 57838, 'from_poi_to_this_person': 186, 'from_this_person_to_poi': 24, 'poi': False, 'deferred_income': 'NaN', 'Unusually_High_Bonus': 'No', 'restricted_stock': 2796177, 'long_term_incentive': 808346, 'salary': 510364, 'total_payments': 4677574, 'loan_advances': 'NaN', 'email_address': 'greg.whalley@enron.com', 'restricted_stock_deferred': 'NaN', 'shared_receipt_with_poi': 3920, 'exercised_stock_options': 3282960, 'from_messages': 556, 'other': 301026, 'director_fees': 'NaN'}, 'MCCONNELL MICHAEL S': {'to_messages': 3329, 'deferral_payments': 'NaN', 'bonus': 1100000, 'total_stock_value': 3101279, 'expenses': 81364, 'from_poi_to_this_person': 92, 'from_this_person_to_poi': 194, 'poi': False, 'deferred_income': 'NaN', 'Unusually_High_Bonus': 'No', 'restricted_stock': 1478269, 'long_term_incentive': 554422, 'salary': 365038, 'total_payments': 2101364, 'loan_advances': 'NaN', 'email_address': 'mike.mcconnell@enron.com', 'restricted_stock_deferred': 'NaN', 'shared_receipt_with_poi': 2189, 'exercised_stock_options': 1623010, 'from_messages': 2742, 'other': 540, 'director_fees': 'NaN'}, 'PIRO JIM': {'to_messages': 58, 'deferral_payments': 'NaN', 'bonus': 'NaN', 'total_stock_value': 47304, 'expenses': 'NaN', 'from_poi_to_this_person': 0, 'from_this_person_to_poi': 1, 'poi': False, 'deferred_income': 'NaN', 'Unusually_High_Bonus': 'Yes', 'restricted_stock': 47304, 'long_term_incentive': 'NaN', 'salary': 'NaN', 'total_payments': 'NaN', 'loan_advances': 'NaN', 'email_address': 'jim.piro@enron.com', 'restricted_stock_deferred': 'NaN', 'shared_receipt_with_poi': 3, 'exercised_stock_options': 'NaN', 'from_messages': 16, 'other': 'NaN', 'director_fees': 'NaN'}, 'DELAINEY DAVID W': {'to_messages': 3093, 'deferral_payments': 'NaN', 'bonus': 3000000, 'total_stock_value': 3614261, 'expenses': 86174, 'from_poi_to_this_person': 66, 'from_this_person_to_poi': 609, 'poi': True, 'deferred_income': 'NaN', 'Unusually_High_Bonus': 'No', 'restricted_stock': 1323148, 'long_term_incentive': 1294981, 'salary': 365163, 'total_payments': 4747979, 'loan_advances': 'NaN', 'email_address': 'david.delainey@enron.com', 'restricted_stock_deferred': 'NaN', 'shared_receipt_with_poi': 2097, 'exercised_stock_options': 2291113, 'from_messages': 3069, 'other': 1661, 'director_fees': 'NaN'}, 'SULLIVAN-SHAKLOVITZ COLLEEN': {'to_messages': 'NaN', 'deferral_payments': 181993, 'bonus': 100000, 'total_stock_value': 1362375, 'expenses': 'NaN', 'from_poi_to_this_person': 'NaN', 'from_this_person_to_poi': 'NaN', 'poi': False, 'deferred_income': 'NaN', 'Unusually_High_Bonus': 'No', 'restricted_stock': 'NaN', 'long_term_incentive': 554422, 'salary': 162779, 'total_payments': 999356, 'loan_advances': 'NaN', 'email_address': 'NaN', 'restricted_stock_deferred': 'NaN', 'shared_receipt_with_poi': 'NaN', 'exercised_stock_options': 1362375, 'from_messages': 'NaN', 'other': 162, 'director_fees': 'NaN'}, 'WROBEL BRUCE': {'to_messages': 'NaN', 'deferral_payments': 'NaN', 'bonus': 'NaN', 'total_stock_value': 139130, 'expenses': 'NaN', 'from_poi_to_this_person': 'NaN', 'from_this_person_to_poi': 'NaN', 'poi': False, 'deferred_income': 'NaN', 'Unusually_High_Bonus': 'Yes', 'restricted_stock': 'NaN', 'long_term_incentive': 'NaN', 'salary': 'NaN', 'total_payments': 'NaN', 'loan_advances': 'NaN', 'email_address': 'NaN', 'restricted_stock_deferred': 'NaN', 'shared_receipt_with_poi': 'NaN', 'exercised_stock_options': 139130, 'from_messages': 'NaN', 'other': 'NaN', 'director_fees': 'NaN'}, 'LINDHOLM TOD A': {'to_messages': 'NaN', 'deferral_payments': 204075, 'bonus': 200000, 'total_stock_value': 3064208, 'expenses': 57727, 'from_poi_to_this_person': 'NaN', 'from_this_person_to_poi': 'NaN', 'poi': False, 'deferred_income': 'NaN', 'Unusually_High_Bonus': 'No', 'restricted_stock': 514847, 'long_term_incentive': 175000, 'salary': 236457, 'total_payments': 875889, 'loan_advances': 'NaN', 'email_address': 'tod.lindholm@enron.com', 'restricted_stock_deferred': 'NaN', 'shared_receipt_with_poi': 'NaN', 'exercised_stock_options': 2549361, 'from_messages': 'NaN', 'other': 2630, 'director_fees': 'NaN'}, 'MEYER JEROME J': {'to_messages': 'NaN', 'deferral_payments': 'NaN', 'bonus': 'NaN', 'total_stock_value': 'NaN', 'expenses': 2151, 'from_poi_to_this_person': 'NaN', 'from_this_person_to_poi': 'NaN', 'poi': False, 'deferred_income': -38346, 'Unusually_High_Bonus': 'Yes', 'restricted_stock': 'NaN', 'long_term_incentive': 'NaN', 'salary': 'NaN', 'total_payments': 2151, 'loan_advances': 'NaN', 'email_address': 'NaN', 'restricted_stock_deferred': 'NaN', 'shared_receipt_with_poi': 'NaN', 'exercised_stock_options': 'NaN', 'from_messages': 'NaN', 'other': 'NaN', 'director_fees': 38346}, 'LAY KENNETH L': {'to_messages': 4273, 'deferral_payments': 202911, 'bonus': 7000000, 'total_stock_value': 49110078, 'expenses': 99832, 'from_poi_to_this_person': 123, 'from_this_person_to_poi': 16, 'poi': True, 'deferred_income': -300000, 'Unusually_High_Bonus': 'No', 'restricted_stock': 14761694, 'long_term_incentive': 3600000, 'salary': 1072321, 'total_payments': 103559793, 'loan_advances': 81525000, 'email_address': 'kenneth.lay@enron.com', 'restricted_stock_deferred': 'NaN', 'shared_receipt_with_poi': 2411, 'exercised_stock_options': 34348384, 'from_messages': 36, 'other': 10359729, 'director_fees': 'NaN'}, 'BUTTS ROBERT H': {'to_messages': 'NaN', 'deferral_payments': 'NaN', 'bonus': 750000, 'total_stock_value': 417619, 'expenses': 9410, 'from_poi_to_this_person': 'NaN', 'from_this_person_to_poi': 'NaN', 'poi': False, 'deferred_income': -75000, 'Unusually_High_Bonus': 'No', 'restricted_stock': 417619, 'long_term_incentive': 175000, 'salary': 261516, 'total_payments': 1271582, 'loan_advances': 'NaN', 'email_address': 'bob.butts@enron.com', 'restricted_stock_deferred': 'NaN', 'shared_receipt_with_poi': 'NaN', 'exercised_stock_options': 'NaN', 'from_messages': 'NaN', 'other': 150656, 'director_fees': 'NaN'}, 'OLSON CINDY K': {'to_messages': 1184, 'deferral_payments': 77716, 'bonus': 750000, 'total_stock_value': 2606763, 'expenses': 63791, 'from_poi_to_this_person': 20, 'from_this_person_to_poi': 15, 'poi': False, 'deferred_income': 'NaN', 'Unusually_High_Bonus': 'No', 'restricted_stock': 969729, 'long_term_incentive': 100000, 'salary': 329078, 'total_payments': 1321557, 'loan_advances': 'NaN', 'email_address': 'cindy.olson@enron.com', 'restricted_stock_deferred': 'NaN', 'shared_receipt_with_poi': 856, 'exercised_stock_options': 1637034, 'from_messages': 52, 'other': 972, 'director_fees': 'NaN'}, 'MCDONALD REBECCA': {'to_messages': 894, 'deferral_payments': 'NaN', 'bonus': 'NaN', 'total_stock_value': 1691366, 'expenses': 'NaN', 'from_poi_to_this_person': 54, 'from_this_person_to_poi': 1, 'poi': False, 'deferred_income': 'NaN', 'Unusually_High_Bonus': 'Yes', 'restricted_stock': 934065, 'long_term_incentive': 'NaN', 'salary': 'NaN', 'total_payments': 'NaN', 'loan_advances': 'NaN', 'email_address': 'rebecca.mcdonald@enron.com', 'restricted_stock_deferred': 'NaN', 'shared_receipt_with_poi': 720, 'exercised_stock_options': 757301, 'from_messages': 13, 'other': 'NaN', 'director_fees': 'NaN'}, 'CUMBERLAND MICHAEL S': {'to_messages': 'NaN', 'deferral_payments': 'NaN', 'bonus': 325000, 'total_stock_value': 207940, 'expenses': 22344, 'from_poi_to_this_person': 'NaN', 'from_this_person_to_poi': 'NaN', 'poi': False, 'deferred_income': 'NaN', 'Unusually_High_Bonus': 'No', 'restricted_stock': 207940, 'long_term_incentive': 275000, 'salary': 184899, 'total_payments': 807956, 'loan_advances': 'NaN', 'email_address': 'NaN', 'restricted_stock_deferred': 'NaN', 'shared_receipt_with_poi': 'NaN', 'exercised_stock_options': 'NaN', 'from_messages': 'NaN', 'other': 713, 'director_fees': 'NaN'}, 'GAHN ROBERT S': {'to_messages': 'NaN', 'deferral_payments': 73122, 'bonus': 509870, 'total_stock_value': 318607, 'expenses': 50080, 'from_poi_to_this_person': 'NaN', 'from_this_person_to_poi': 'NaN', 'poi': False, 'deferred_income': -1042, 'Unusually_High_Bonus': 'No', 'restricted_stock': 235370, 'long_term_incentive': 'NaN', 'salary': 192008, 'total_payments': 900585, 'loan_advances': 'NaN', 'email_address': 'NaN', 'restricted_stock_deferred': 'NaN', 'shared_receipt_with_poi': 'NaN', 'exercised_stock_options': 83237, 'from_messages': 'NaN', 'other': 76547, 'director_fees': 'NaN'}, 'MCCLELLAN GEORGE': {'to_messages': 1744, 'deferral_payments': 'NaN', 'bonus': 900000, 'total_stock_value': 947861, 'expenses': 228763, 'from_poi_to_this_person': 52, 'from_this_person_to_poi': 0, 'poi': False, 'deferred_income': -125000, 'Unusually_High_Bonus': 'No', 'restricted_stock': 441096, 'long_term_incentive': 'NaN', 'salary': 263413, 'total_payments': 1318763, 'loan_advances': 'NaN', 'email_address': 'george.mcclellan@enron.com', 'restricted_stock_deferred': 'NaN', 'shared_receipt_with_poi': 1469, 'exercised_stock_options': 506765, 'from_messages': 49, 'other': 51587, 'director_fees': 'NaN'}, 'HERMANN ROBERT J': {'to_messages': 'NaN', 'deferral_payments': 'NaN', 'bonus': 700000, 'total_stock_value': 668132, 'expenses': 48357, 'from_poi_to_this_person': 'NaN', 'from_this_person_to_poi': 'NaN', 'poi': False, 'deferred_income': -280000, 'Unusually_High_Bonus': 'No', 'restricted_stock': 480632, 'long_term_incentive': 150000, 'salary': 262663, 'total_payments': 1297461, 'loan_advances': 'NaN', 'email_address': 'robert.hermann@enron.com', 'restricted_stock_deferred': 'NaN', 'shared_receipt_with_poi': 'NaN', 'exercised_stock_options': 187500, 'from_messages': 'NaN', 'other': 416441, 'director_fees': 'NaN'}, 'SCRIMSHAW MATTHEW': {'to_messages': 'NaN', 'deferral_payments': 'NaN', 'bonus': 'NaN', 'total_stock_value': 759557, 'expenses': 'NaN', 'from_poi_to_this_person': 'NaN', 'from_this_person_to_poi': 'NaN', 'poi': False, 'deferred_income': 'NaN', 'Unusually_High_Bonus': 'Yes', 'restricted_stock': 'NaN', 'long_term_incentive': 'NaN', 'salary': 'NaN', 'total_payments': 'NaN', 'loan_advances': 'NaN', 'email_address': 'matthew.scrimshaw@enron.com', 'restricted_stock_deferred': 'NaN', 'shared_receipt_with_poi': 'NaN', 'exercised_stock_options': 759557, 'from_messages': 'NaN', 'other': 'NaN', 'director_fees': 'NaN'}, 'GATHMANN WILLIAM D': {'to_messages': 'NaN', 'deferral_payments': 'NaN', 'bonus': 'NaN', 'total_stock_value': 1945360, 'expenses': 'NaN', 'from_poi_to_this_person': 'NaN', 'from_this_person_to_poi': 'NaN', 'poi': False, 'deferred_income': 'NaN', 'Unusually_High_Bonus': 'Yes', 'restricted_stock': 264013, 'long_term_incentive': 'NaN', 'salary': 'NaN', 'total_payments': 'NaN', 'loan_advances': 'NaN', 'email_address': 'NaN', 'restricted_stock_deferred': -72419, 'shared_receipt_with_poi': 'NaN', 'exercised_stock_options': 1753766, 'from_messages': 'NaN', 'other': 'NaN', 'director_fees': 'NaN'}, 'HAEDICKE MARK E': {'to_messages': 4009, 'deferral_payments': 2157527, 'bonus': 1150000, 'total_stock_value': 803094, 'expenses': 76169, 'from_poi_to_this_person': 180, 'from_this_person_to_poi': 61, 'poi': False, 'deferred_income': -934484, 'Unusually_High_Bonus': 'No', 'restricted_stock': 524169, 'long_term_incentive': 983346, 'salary': 374125, 'total_payments': 3859065, 'loan_advances': 'NaN', 'email_address': 'mark.haedicke@enron.com', 'restricted_stock_deferred': -329825, 'shared_receipt_with_poi': 1847, 'exercised_stock_options': 608750, 'from_messages': 1941, 'other': 52382, 'director_fees': 'NaN'}, 'BOWEN JR RAYMOND M': {'to_messages': 1858, 'deferral_payments': 'NaN', 'bonus': 1350000, 'total_stock_value': 252055, 'expenses': 65907, 'from_poi_to_this_person': 140, 'from_this_person_to_poi': 15, 'poi': True, 'deferred_income': -833, 'Unusually_High_Bonus': 'No', 'restricted_stock': 252055, 'long_term_incentive': 974293, 'salary': 278601, 'total_payments': 2669589, 'loan_advances': 'NaN', 'email_address': 'raymond.bowen@enron.com', 'restricted_stock_deferred': 'NaN', 'shared_receipt_with_poi': 1593, 'exercised_stock_options': 'NaN', 'from_messages': 27, 'other': 1621, 'director_fees': 'NaN'}, 'GILLIS JOHN': {'to_messages': 'NaN', 'deferral_payments': 'NaN', 'bonus': 'NaN', 'total_stock_value': 85641, 'expenses': 'NaN', 'from_poi_to_this_person': 'NaN', 'from_this_person_to_poi': 'NaN', 'poi': False, 'deferred_income': 'NaN', 'Unusually_High_Bonus': 'Yes', 'restricted_stock': 75838, 'long_term_incentive': 'NaN', 'salary': 'NaN', 'total_payments': 'NaN', 'loan_advances': 'NaN', 'email_address': 'NaN', 'restricted_stock_deferred': 'NaN', 'shared_receipt_with_poi': 'NaN', 'exercised_stock_options': 9803, 'from_messages': 'NaN', 'other': 'NaN', 'director_fees': 'NaN'}, 'FITZGERALD JAY L': {'to_messages': 936, 'deferral_payments': 'NaN', 'bonus': 350000, 'total_stock_value': 1621236, 'expenses': 23870, 'from_poi_to_this_person': 1, 'from_this_person_to_poi': 8, 'poi': False, 'deferred_income': 'NaN', 'Unusually_High_Bonus': 'No', 'restricted_stock': 956775, 'long_term_incentive': 556416, 'salary': 199157, 'total_payments': 1414857, 'loan_advances': 'NaN', 'email_address': 'jay.fitzgerald@enron.com', 'restricted_stock_deferred': 'NaN', 'shared_receipt_with_poi': 723, 'exercised_stock_options': 664461, 'from_messages': 16, 'other': 285414, 'director_fees': 'NaN'}, 'MORAN MICHAEL P': {'to_messages': 672, 'deferral_payments': 'NaN', 'bonus': 'NaN', 'total_stock_value': 221141, 'expenses': 'NaN', 'from_poi_to_this_person': 0, 'from_this_person_to_poi': 0, 'poi': False, 'deferred_income': 'NaN', 'Unusually_High_Bonus': 'Yes', 'restricted_stock': 161602, 'long_term_incentive': 'NaN', 'salary': 'NaN', 'total_payments': 'NaN', 'loan_advances': 'NaN', 'email_address': 'michael.moran@enron.com', 'restricted_stock_deferred': 'NaN', 'shared_receipt_with_poi': 127, 'exercised_stock_options': 59539, 'from_messages': 19, 'other': 'NaN', 'director_fees': 'NaN'}, 'REDMOND BRIAN L': {'to_messages': 1671, 'deferral_payments': 'NaN', 'bonus': 'NaN', 'total_stock_value': 7890324, 'expenses': 14689, 'from_poi_to_this_person': 204, 'from_this_person_to_poi': 49, 'poi': False, 'deferred_income': 'NaN', 'Unusually_High_Bonus': 'Yes', 'restricted_stock': 381285, 'long_term_incentive': 'NaN', 'salary': 96840, 'total_payments': 111529, 'loan_advances': 'NaN', 'email_address': 'brian.redmond@enron.com', 'restricted_stock_deferred': 'NaN', 'shared_receipt_with_poi': 1063, 'exercised_stock_options': 7509039, 'from_messages': 221, 'other': 'NaN', 'director_fees': 'NaN'}, 'BAZELIDES PHILIP J': {'to_messages': 'NaN', 'deferral_payments': 684694, 'bonus': 'NaN', 'total_stock_value': 1599641, 'expenses': 'NaN', 'from_poi_to_this_person': 'NaN', 'from_this_person_to_poi': 'NaN', 'poi': False, 'deferred_income': 'NaN', 'Unusually_High_Bonus': 'Yes', 'restricted_stock': 'NaN', 'long_term_incentive': 93750, 'salary': 80818, 'total_payments': 860136, 'loan_advances': 'NaN', 'email_address': 'NaN', 'restricted_stock_deferred': 'NaN', 'shared_receipt_with_poi': 'NaN', 'exercised_stock_options': 1599641, 'from_messages': 'NaN', 'other': 874, 'director_fees': 'NaN'}, 'BELDEN TIMOTHY N': {'to_messages': 7991, 'deferral_payments': 2144013, 'bonus': 5249999, 'total_stock_value': 1110705, 'expenses': 17355, 'from_poi_to_this_person': 228, 'from_this_person_to_poi': 108, 'poi': True, 'deferred_income': -2334434, 'Unusually_High_Bonus': 'No', 'restricted_stock': 157569, 'long_term_incentive': 'NaN', 'salary': 213999, 'total_payments': 5501630, 'loan_advances': 'NaN', 'email_address': 'tim.belden@enron.com', 'restricted_stock_deferred': 'NaN', 'shared_receipt_with_poi': 5521, 'exercised_stock_options': 953136, 'from_messages': 484, 'other': 210698, 'director_fees': 'NaN'}, 'DURAN WILLIAM D': {'to_messages': 904, 'deferral_payments': 'NaN', 'bonus': 750000, 'total_stock_value': 1640910, 'expenses': 25785, 'from_poi_to_this_person': 106, 'from_this_person_to_poi': 3, 'poi': False, 'deferred_income': 'NaN', 'Unusually_High_Bonus': 'No', 'restricted_stock': 189041, 'long_term_incentive': 1105218, 'salary': 210692, 'total_payments': 2093263, 'loan_advances': 'NaN', 'email_address': 'w.duran@enron.com', 'restricted_stock_deferred': 'NaN', 'shared_receipt_with_poi': 599, 'exercised_stock_options': 1451869, 'from_messages': 12, 'other': 1568, 'director_fees': 'NaN'}, 'THORN TERENCE H': {'to_messages': 266, 'deferral_payments': 16586, 'bonus': 'NaN', 'total_stock_value': 4817796, 'expenses': 46145, 'from_poi_to_this_person': 0, 'from_this_person_to_poi': 0, 'poi': False, 'deferred_income': 'NaN', 'Unusually_High_Bonus': 'Yes', 'restricted_stock': 365320, 'long_term_incentive': 200000, 'salary': 222093, 'total_payments': 911453, 'loan_advances': 'NaN', 'email_address': 'terence.thorn@enron.com', 'restricted_stock_deferred': 'NaN', 'shared_receipt_with_poi': 73, 'exercised_stock_options': 4452476, 'from_messages': 41, 'other': 426629, 'director_fees': 'NaN'}, 'FASTOW ANDREW S': {'to_messages': 'NaN', 'deferral_payments': 'NaN', 'bonus': 1300000, 'total_stock_value': 1794412, 'expenses': 55921, 'from_poi_to_this_person': 'NaN', 'from_this_person_to_poi': 'NaN', 'poi': True, 'deferred_income': -1386055, 'Unusually_High_Bonus': 'No', 'restricted_stock': 1794412, 'long_term_incentive': 1736055, 'salary': 440698, 'total_payments': 2424083, 'loan_advances': 'NaN', 'email_address': 'andrew.fastow@enron.com', 'restricted_stock_deferred': 'NaN', 'shared_receipt_with_poi': 'NaN', 'exercised_stock_options': 'NaN', 'from_messages': 'NaN', 'other': 277464, 'director_fees': 'NaN'}, 'FOY JOE': {'to_messages': 57, 'deferral_payments': 181755, 'bonus': 'NaN', 'total_stock_value': 343434, 'expenses': 'NaN', 'from_poi_to_this_person': 0, 'from_this_person_to_poi': 0, 'poi': False, 'deferred_income': 'NaN', 'Unusually_High_Bonus': 'Yes', 'restricted_stock': 'NaN', 'long_term_incentive': 'NaN', 'salary': 'NaN', 'total_payments': 181755, 'loan_advances': 'NaN', 'email_address': 'tracy.foy@enron.com', 'restricted_stock_deferred': 'NaN', 'shared_receipt_with_poi': 2, 'exercised_stock_options': 343434, 'from_messages': 13, 'other': 'NaN', 'director_fees': 'NaN'}, 'CALGER CHRISTOPHER F': {'to_messages': 2598, 'deferral_payments': 'NaN', 'bonus': 1250000, 'total_stock_value': 126027, 'expenses': 35818, 'from_poi_to_this_person': 199, 'from_this_person_to_poi': 25, 'poi': True, 'deferred_income': -262500, 'Unusually_High_Bonus': 'No', 'restricted_stock': 126027, 'long_term_incentive': 375304, 'salary': 240189, 'total_payments': 1639297, 'loan_advances': 'NaN', 'email_address': 'christopher.calger@enron.com', 'restricted_stock_deferred': 'NaN', 'shared_receipt_with_poi': 2188, 'exercised_stock_options': 'NaN', 'from_messages': 144, 'other': 486, 'director_fees': 'NaN'}, 'RICE KENNETH D': {'to_messages': 905, 'deferral_payments': 'NaN', 'bonus': 1750000, 'total_stock_value': 22542539, 'expenses': 46950, 'from_poi_to_this_person': 42, 'from_this_person_to_poi': 4, 'poi': True, 'deferred_income': -3504386, 'Unusually_High_Bonus': 'No', 'restricted_stock': 2748364, 'long_term_incentive': 1617011, 'salary': 420636, 'total_payments': 505050, 'loan_advances': 'NaN', 'email_address': 'ken.rice@enron.com', 'restricted_stock_deferred': 'NaN', 'shared_receipt_with_poi': 864, 'exercised_stock_options': 19794175, 'from_messages': 18, 'other': 174839, 'director_fees': 'NaN'}, 'KAMINSKI WINCENTY J': {'to_messages': 4607, 'deferral_payments': 'NaN', 'bonus': 400000, 'total_stock_value': 976037, 'expenses': 83585, 'from_poi_to_this_person': 41, 'from_this_person_to_poi': 171, 'poi': False, 'deferred_income': 'NaN', 'Unusually_High_Bonus': 'No', 'restricted_stock': 126027, 'long_term_incentive': 323466, 'salary': 275101, 'total_payments': 1086821, 'loan_advances': 'NaN', 'email_address': 'vince.kaminski@enron.com', 'restricted_stock_deferred': 'NaN', 'shared_receipt_with_poi': 583, 'exercised_stock_options': 850010, 'from_messages': 14368, 'other': 4669, 'director_fees': 'NaN'}, 'LOCKHART EUGENE E': {'to_messages': 'NaN', 'deferral_payments': 'NaN', 'bonus': 'NaN', 'total_stock_value': 'NaN', 'expenses': 'NaN', 'from_poi_to_this_person': 'NaN', 'from_this_person_to_poi': 'NaN', 'poi': False, 'deferred_income': 'NaN', 'Unusually_High_Bonus': 'Yes', 'restricted_stock': 'NaN', 'long_term_incentive': 'NaN', 'salary': 'NaN', 'total_payments': 'NaN', 'loan_advances': 'NaN', 'email_address': 'NaN', 'restricted_stock_deferred': 'NaN', 'shared_receipt_with_poi': 'NaN', 'exercised_stock_options': 'NaN', 'from_messages': 'NaN', 'other': 'NaN', 'director_fees': 'NaN'}, 'COX DAVID': {'to_messages': 102, 'deferral_payments': 'NaN', 'bonus': 800000, 'total_stock_value': 495633, 'expenses': 27861, 'from_poi_to_this_person': 0, 'from_this_person_to_poi': 4, 'poi': False, 'deferred_income': -41250, 'Unusually_High_Bonus': 'No', 'restricted_stock': 378082, 'long_term_incentive': 'NaN', 'salary': 314288, 'total_payments': 1101393, 'loan_advances': 'NaN', 'email_address': 'chip.cox@enron.com', 'restricted_stock_deferred': 'NaN', 'shared_receipt_with_poi': 71, 'exercised_stock_options': 117551, 'from_messages': 33, 'other': 494, 'director_fees': 'NaN'}, 'OVERDYKE JR JERE C': {'to_messages': 'NaN', 'deferral_payments': 'NaN', 'bonus': 'NaN', 'total_stock_value': 7307594, 'expenses': 18834, 'from_poi_to_this_person': 'NaN', 'from_this_person_to_poi': 'NaN', 'poi': False, 'deferred_income': 'NaN', 'Unusually_High_Bonus': 'Yes', 'restricted_stock': 2041016, 'long_term_incentive': 135836, 'salary': 94941, 'total_payments': 249787, 'loan_advances': 'NaN', 'email_address': 'jere.overdyke@enron.com', 'restricted_stock_deferred': 'NaN', 'shared_receipt_with_poi': 'NaN', 'exercised_stock_options': 5266578, 'from_messages': 'NaN', 'other': 176, 'director_fees': 'NaN'}, 'PEREIRA PAULO V. FERRAZ': {'to_messages': 'NaN', 'deferral_payments': 'NaN', 'bonus': 'NaN', 'total_stock_value': 'NaN', 'expenses': 27942, 'from_poi_to_this_person': 'NaN', 'from_this_person_to_poi': 'NaN', 'poi': False, 'deferred_income': -101250, 'Unusually_High_Bonus': 'Yes', 'restricted_stock': 'NaN', 'long_term_incentive': 'NaN', 'salary': 'NaN', 'total_payments': 27942, 'loan_advances': 'NaN', 'email_address': 'NaN', 'restricted_stock_deferred': 'NaN', 'shared_receipt_with_poi': 'NaN', 'exercised_stock_options': 'NaN', 'from_messages': 'NaN', 'other': 'NaN', 'director_fees': 101250}, 'STABLER FRANK': {'to_messages': 'NaN', 'deferral_payments': 'NaN', 'bonus': 500000, 'total_stock_value': 511734, 'expenses': 16514, 'from_poi_to_this_person': 'NaN', 'from_this_person_to_poi': 'NaN', 'poi': False, 'deferred_income': 'NaN', 'Unusually_High_Bonus': 'No', 'restricted_stock': 511734, 'long_term_incentive': 'NaN', 'salary': 239502, 'total_payments': 1112087, 'loan_advances': 'NaN', 'email_address': 'frank.stabler@enron.com', 'restricted_stock_deferred': 'NaN', 'shared_receipt_with_poi': 'NaN', 'exercised_stock_options': 'NaN', 'from_messages': 'NaN', 'other': 356071, 'director_fees': 'NaN'}, 'SKILLING JEFFREY K': {'to_messages': 3627, 'deferral_payments': 'NaN', 'bonus': 5600000, 'total_stock_value': 26093672, 'expenses': 29336, 'from_poi_to_this_person': 88, 'from_this_person_to_poi': 30, 'poi': True, 'deferred_income': 'NaN', 'Unusually_High_Bonus': 'No', 'restricted_stock': 6843672, 'long_term_incentive': 1920000, 'salary': 1111258, 'total_payments': 8682716, 'loan_advances': 'NaN', 'email_address': 'jeff.skilling@enron.com', 'restricted_stock_deferred': 'NaN', 'shared_receipt_with_poi': 2042, 'exercised_stock_options': 19250000, 'from_messages': 108, 'other': 22122, 'director_fees': 'NaN'}, 'BLAKE JR. NORMAN P': {'to_messages': 'NaN', 'deferral_payments': 'NaN', 'bonus': 'NaN', 'total_stock_value': 'NaN', 'expenses': 1279, 'from_poi_to_this_person': 'NaN', 'from_this_person_to_poi': 'NaN', 'poi': False, 'deferred_income': -113784, 'Unusually_High_Bonus': 'Yes', 'restricted_stock': 'NaN', 'long_term_incentive': 'NaN', 'salary': 'NaN', 'total_payments': 1279, 'loan_advances': 'NaN', 'email_address': 'NaN', 'restricted_stock_deferred': 'NaN', 'shared_receipt_with_poi': 'NaN', 'exercised_stock_options': 'NaN', 'from_messages': 'NaN', 'other': 'NaN', 'director_fees': 113784}, 'SHERRICK JEFFREY B': {'to_messages': 613, 'deferral_payments': 'NaN', 'bonus': 'NaN', 'total_stock_value': 1832468, 'expenses': 'NaN', 'from_poi_to_this_person': 39, 'from_this_person_to_poi': 18, 'poi': False, 'deferred_income': 'NaN', 'Unusually_High_Bonus': 'Yes', 'restricted_stock': 405999, 'long_term_incentive': 'NaN', 'salary': 'NaN', 'total_payments': 'NaN', 'loan_advances': 'NaN', 'email_address': 'jeffrey.sherrick@enron.com', 'restricted_stock_deferred': 'NaN', 'shared_receipt_with_poi': 583, 'exercised_stock_options': 1426469, 'from_messages': 25, 'other': 'NaN', 'director_fees': 'NaN'}, 'PRENTICE JAMES': {'to_messages': 'NaN', 'deferral_payments': 564348, 'bonus': 'NaN', 'total_stock_value': 1095040, 'expenses': 'NaN', 'from_poi_to_this_person': 'NaN', 'from_this_person_to_poi': 'NaN', 'poi': False, 'deferred_income': 'NaN', 'Unusually_High_Bonus': 'Yes', 'restricted_stock': 208809, 'long_term_incentive': 'NaN', 'salary': 'NaN', 'total_payments': 564348, 'loan_advances': 'NaN', 'email_address': 'james.prentice@enron.com', 'restricted_stock_deferred': 'NaN', 'shared_receipt_with_poi': 'NaN', 'exercised_stock_options': 886231, 'from_messages': 'NaN', 'other': 'NaN', 'director_fees': 'NaN'}, 'GRAY RODNEY': {'to_messages': 'NaN', 'deferral_payments': 93585, 'bonus': 'NaN', 'total_stock_value': 'NaN', 'expenses': 'NaN', 'from_poi_to_this_person': 'NaN', 'from_this_person_to_poi': 'NaN', 'poi': False, 'deferred_income': 'NaN', 'Unusually_High_Bonus': 'Yes', 'restricted_stock': 'NaN', 'long_term_incentive': 365625, 'salary': 6615, 'total_payments': 1146658, 'loan_advances': 'NaN', 'email_address': 'NaN', 'restricted_stock_deferred': 'NaN', 'shared_receipt_with_poi': 'NaN', 'exercised_stock_options': 'NaN', 'from_messages': 'NaN', 'other': 680833, 'director_fees': 'NaN'}, 'PICKERING MARK R': {'to_messages': 898, 'deferral_payments': 'NaN', 'bonus': 300000, 'total_stock_value': 28798, 'expenses': 31653, 'from_poi_to_this_person': 7, 'from_this_person_to_poi': 0, 'poi': False, 'deferred_income': 'NaN', 'Unusually_High_Bonus': 'No', 'restricted_stock': 'NaN', 'long_term_incentive': 'NaN', 'salary': 655037, 'total_payments': 1386690, 'loan_advances': 400000, 'email_address': 'mark.pickering@enron.com', 'restricted_stock_deferred': 'NaN', 'shared_receipt_with_poi': 728, 'exercised_stock_options': 28798, 'from_messages': 67, 'other': 'NaN', 'director_fees': 'NaN'}, 'NOLES JAMES L': {'to_messages': 'NaN', 'deferral_payments': 774401, 'bonus': 'NaN', 'total_stock_value': 368705, 'expenses': 'NaN', 'from_poi_to_this_person': 'NaN', 'from_this_person_to_poi': 'NaN', 'poi': False, 'deferred_income': 'NaN', 'Unusually_High_Bonus': 'Yes', 'restricted_stock': 463261, 'long_term_incentive': 'NaN', 'salary': 'NaN', 'total_payments': 774401, 'loan_advances': 'NaN', 'email_address': 'NaN', 'restricted_stock_deferred': -94556, 'shared_receipt_with_poi': 'NaN', 'exercised_stock_options': 'NaN', 'from_messages': 'NaN', 'other': 'NaN', 'director_fees': 'NaN'}, 'KEAN STEVEN J': {'to_messages': 12754, 'deferral_payments': 'NaN', 'bonus': 1000000, 'total_stock_value': 6153642, 'expenses': 41953, 'from_poi_to_this_person': 140, 'from_this_person_to_poi': 387, 'poi': False, 'deferred_income': 'NaN', 'Unusually_High_Bonus': 'No', 'restricted_stock': 4131594, 'long_term_incentive': 300000, 'salary': 404338, 'total_payments': 1747522, 'loan_advances': 'NaN', 'email_address': 'steven.kean@enron.com', 'restricted_stock_deferred': 'NaN', 'shared_receipt_with_poi': 3639, 'exercised_stock_options': 2022048, 'from_messages': 6759, 'other': 1231, 'director_fees': 'NaN'}, 'FOWLER PEGGY': {'to_messages': 517, 'deferral_payments': 'NaN', 'bonus': 'NaN', 'total_stock_value': 1884748, 'expenses': 'NaN', 'from_poi_to_this_person': 0, 'from_this_person_to_poi': 0, 'poi': False, 'deferred_income': 'NaN', 'Unusually_High_Bonus': 'Yes', 'restricted_stock': 560170, 'long_term_incentive': 'NaN', 'salary': 'NaN', 'total_payments': 'NaN', 'loan_advances': 'NaN', 'email_address': 'kulvinder.fowler@enron.com', 'restricted_stock_deferred': 'NaN', 'shared_receipt_with_poi': 10, 'exercised_stock_options': 1324578, 'from_messages': 36, 'other': 'NaN', 'director_fees': 'NaN'}, 'WASAFF GEORGE': {'to_messages': 400, 'deferral_payments': 831299, 'bonus': 325000, 'total_stock_value': 2056427, 'expenses': 'NaN', 'from_poi_to_this_person': 22, 'from_this_person_to_poi': 7, 'poi': False, 'deferred_income': -583325, 'Unusually_High_Bonus': 'No', 'restricted_stock': 388167, 'long_term_incentive': 200000, 'salary': 259996, 'total_payments': 1034395, 'loan_advances': 'NaN', 'email_address': 'george.wasaff@enron.com', 'restricted_stock_deferred': 'NaN', 'shared_receipt_with_poi': 337, 'exercised_stock_options': 1668260, 'from_messages': 30, 'other': 1425, 'director_fees': 'NaN'}, 'WHITE JR THOMAS E': {'to_messages': 'NaN', 'deferral_payments': 'NaN', 'bonus': 450000, 'total_stock_value': 15144123, 'expenses': 81353, 'from_poi_to_this_person': 'NaN', 'from_this_person_to_poi': 'NaN', 'poi': False, 'deferred_income': 'NaN', 'Unusually_High_Bonus': 'No', 'restricted_stock': 13847074, 'long_term_incentive': 'NaN', 'salary': 317543, 'total_payments': 1934359, 'loan_advances': 'NaN', 'email_address': 'thomas.white@enron.com', 'restricted_stock_deferred': 'NaN', 'shared_receipt_with_poi': 'NaN', 'exercised_stock_options': 1297049, 'from_messages': 'NaN', 'other': 1085463, 'director_fees': 'NaN'}, 'CHRISTODOULOU DIOMEDES': {'to_messages': 'NaN', 'deferral_payments': 'NaN', 'bonus': 'NaN', 'total_stock_value': 6077885, 'expenses': 'NaN', 'from_poi_to_this_person': 'NaN', 'from_this_person_to_poi': 'NaN', 'poi': False, 'deferred_income': 'NaN', 'Unusually_High_Bonus': 'Yes', 'restricted_stock': 950730, 'long_term_incentive': 'NaN', 'salary': 'NaN', 'total_payments': 'NaN', 'loan_advances': 'NaN', 'email_address': 'diomedes.christodoulou@enron.com', 'restricted_stock_deferred': 'NaN', 'shared_receipt_with_poi': 'NaN', 'exercised_stock_options': 5127155, 'from_messages': 'NaN', 'other': 'NaN', 'director_fees': 'NaN'}, 'ALLEN PHILLIP K': {'to_messages': 2902, 'deferral_payments': 2869717, 'bonus': 4175000, 'total_stock_value': 1729541, 'expenses': 13868, 'from_poi_to_this_person': 47, 'from_this_person_to_poi': 65, 'poi': False, 'deferred_income': -3081055, 'Unusually_High_Bonus': 'No', 'restricted_stock': 126027, 'long_term_incentive': 304805, 'salary': 201955, 'total_payments': 4484442, 'loan_advances': 'NaN', 'email_address': 'phillip.allen@enron.com', 'restricted_stock_deferred': -126027, 'shared_receipt_with_poi': 1407, 'exercised_stock_options': 1729541, 'from_messages': 2195, 'other': 152, 'director_fees': 'NaN'}, 'SHARP VICTORIA T': {'to_messages': 3136, 'deferral_payments': 187469, 'bonus': 600000, 'total_stock_value': 494136, 'expenses': 116337, 'from_poi_to_this_person': 24, 'from_this_person_to_poi': 6, 'poi': False, 'deferred_income': 'NaN', 'Unusually_High_Bonus': 'No', 'restricted_stock': 213063, 'long_term_incentive': 422158, 'salary': 248146, 'total_payments': 1576511, 'loan_advances': 'NaN', 'email_address': 'vicki.sharp@enron.com', 'restricted_stock_deferred': 'NaN', 'shared_receipt_with_poi': 2477, 'exercised_stock_options': 281073, 'from_messages': 136, 'other': 2401, 'director_fees': 'NaN'}, 'JAEDICKE ROBERT': {'to_messages': 'NaN', 'deferral_payments': 'NaN', 'bonus': 'NaN', 'total_stock_value': 431750, 'expenses': 'NaN', 'from_poi_to_this_person': 'NaN', 'from_this_person_to_poi': 'NaN', 'poi': False, 'deferred_income': -25000, 'Unusually_High_Bonus': 'Yes', 'restricted_stock': 44093, 'long_term_incentive': 'NaN', 'salary': 'NaN', 'total_payments': 83750, 'loan_advances': 'NaN', 'email_address': 'NaN', 'restricted_stock_deferred': -44093, 'shared_receipt_with_poi': 'NaN', 'exercised_stock_options': 431750, 'from_messages': 'NaN', 'other': 'NaN', 'director_fees': 108750}, 'WINOKUR JR. HERBERT S': {'to_messages': 'NaN', 'deferral_payments': 'NaN', 'bonus': 'NaN', 'total_stock_value': 'NaN', 'expenses': 1413, 'from_poi_to_this_person': 'NaN', 'from_this_person_to_poi': 'NaN', 'poi': False, 'deferred_income': -25000, 'Unusually_High_Bonus': 'Yes', 'restricted_stock': 'NaN', 'long_term_incentive': 'NaN', 'salary': 'NaN', 'total_payments': 84992, 'loan_advances': 'NaN', 'email_address': 'NaN', 'restricted_stock_deferred': 'NaN', 'shared_receipt_with_poi': 'NaN', 'exercised_stock_options': 'NaN', 'from_messages': 'NaN', 'other': 'NaN', 'director_fees': 108579}, 'BROWN MICHAEL': {'to_messages': 1486, 'deferral_payments': 'NaN', 'bonus': 'NaN', 'total_stock_value': 'NaN', 'expenses': 49288, 'from_poi_to_this_person': 13, 'from_this_person_to_poi': 1, 'poi': False, 'deferred_income': 'NaN', 'Unusually_High_Bonus': 'Yes', 'restricted_stock': 'NaN', 'long_term_incentive': 'NaN', 'salary': 'NaN', 'total_payments': 49288, 'loan_advances': 'NaN', 'email_address': 'michael.brown@enron.com', 'restricted_stock_deferred': 'NaN', 'shared_receipt_with_poi': 761, 'exercised_stock_options': 'NaN', 'from_messages': 41, 'other': 'NaN', 'director_fees': 'NaN'}, 'BADUM JAMES P': {'to_messages': 'NaN', 'deferral_payments': 178980, 'bonus': 'NaN', 'total_stock_value': 257817, 'expenses': 3486, 'from_poi_to_this_person': 'NaN', 'from_this_person_to_poi': 'NaN', 'poi': False, 'deferred_income': 'NaN', 'Unusually_High_Bonus': 'Yes', 'restricted_stock': 'NaN', 'long_term_incentive': 'NaN', 'salary': 'NaN', 'total_payments': 182466, 'loan_advances': 'NaN', 'email_address': 'NaN', 'restricted_stock_deferred': 'NaN', 'shared_receipt_with_poi': 'NaN', 'exercised_stock_options': 257817, 'from_messages': 'NaN', 'other': 'NaN', 'director_fees': 'NaN'}, 'HUGHES JAMES A': {'to_messages': 719, 'deferral_payments': 'NaN', 'bonus': 'NaN', 'total_stock_value': 1118394, 'expenses': 'NaN', 'from_poi_to_this_person': 35, 'from_this_person_to_poi': 5, 'poi': False, 'deferred_income': 'NaN', 'Unusually_High_Bonus': 'Yes', 'restricted_stock': 363428, 'long_term_incentive': 'NaN', 'salary': 'NaN', 'total_payments': 'NaN', 'loan_advances': 'NaN', 'email_address': 'james.hughes@enron.com', 'restricted_stock_deferred': 'NaN', 'shared_receipt_with_poi': 589, 'exercised_stock_options': 754966, 'from_messages': 34, 'other': 'NaN', 'director_fees': 'NaN'}, 'REYNOLDS LAWRENCE': {'to_messages': 'NaN', 'deferral_payments': 51365, 'bonus': 100000, 'total_stock_value': 4221891, 'expenses': 8409, 'from_poi_to_this_person': 'NaN', 'from_this_person_to_poi': 'NaN', 'poi': False, 'deferred_income': -200000, 'Unusually_High_Bonus': 'No', 'restricted_stock': 201483, 'long_term_incentive': 156250, 'salary': 76399, 'total_payments': 394475, 'loan_advances': 'NaN', 'email_address': 'NaN', 'restricted_stock_deferred': -140264, 'shared_receipt_with_poi': 'NaN', 'exercised_stock_options': 4160672, 'from_messages': 'NaN', 'other': 202052, 'director_fees': 'NaN'}, 'DIMICHELE RICHARD G': {'to_messages': 'NaN', 'deferral_payments': 'NaN', 'bonus': 1000000, 'total_stock_value': 8317782, 'expenses': 35812, 'from_poi_to_this_person': 'NaN', 'from_this_person_to_poi': 'NaN', 'poi': False, 'deferred_income': 'NaN', 'Unusually_High_Bonus': 'No', 'restricted_stock': 126027, 'long_term_incentive': 694862, 'salary': 262788, 'total_payments': 2368151, 'loan_advances': 'NaN', 'email_address': 'richard.dimichele@enron.com', 'restricted_stock_deferred': 'NaN', 'shared_receipt_with_poi': 'NaN', 'exercised_stock_options': 8191755, 'from_messages': 'NaN', 'other': 374689, 'director_fees': 'NaN'}, 'BHATNAGAR SANJAY': {'to_messages': 523, 'deferral_payments': 'NaN', 'bonus': 'NaN', 'total_stock_value': 'NaN', 'expenses': 'NaN', 'from_poi_to_this_person': 0, 'from_this_person_to_poi': 1, 'poi': False, 'deferred_income': 'NaN', 'Unusually_High_Bonus': 'Yes', 'restricted_stock': -2604490, 'long_term_incentive': 'NaN', 'salary': 'NaN', 'total_payments': 15456290, 'loan_advances': 'NaN', 'email_address': 'sanjay.bhatnagar@enron.com', 'restricted_stock_deferred': 15456290, 'shared_receipt_with_poi': 463, 'exercised_stock_options': 2604490, 'from_messages': 29, 'other': 137864, 'director_fees': 137864}, 'CARTER REBECCA C': {'to_messages': 312, 'deferral_payments': 'NaN', 'bonus': 300000, 'total_stock_value': 'NaN', 'expenses': 'NaN', 'from_poi_to_this_person': 29, 'from_this_person_to_poi': 7, 'poi': False, 'deferred_income': -159792, 'Unusually_High_Bonus': 'No', 'restricted_stock': 307301, 'long_term_incentive': 75000, 'salary': 261809, 'total_payments': 477557, 'loan_advances': 'NaN', 'email_address': 'rebecca.carter@enron.com', 'restricted_stock_deferred': -307301, 'shared_receipt_with_poi': 196, 'exercised_stock_options': 'NaN', 'from_messages': 15, 'other': 540, 'director_fees': 'NaN'}, 'BUCHANAN HAROLD G': {'to_messages': 1088, 'deferral_payments': 'NaN', 'bonus': 500000, 'total_stock_value': 1014505, 'expenses': 600, 'from_poi_to_this_person': 0, 'from_this_person_to_poi': 0, 'poi': False, 'deferred_income': 'NaN', 'Unusually_High_Bonus': 'No', 'restricted_stock': 189041, 'long_term_incentive': 304805, 'salary': 248017, 'total_payments': 1054637, 'loan_advances': 'NaN', 'email_address': 'john.buchanan@enron.com', 'restricted_stock_deferred': 'NaN', 'shared_receipt_with_poi': 23, 'exercised_stock_options': 825464, 'from_messages': 125, 'other': 1215, 'director_fees': 'NaN'}, 'YEAP SOON': {'to_messages': 'NaN', 'deferral_payments': 'NaN', 'bonus': 'NaN', 'total_stock_value': 192758, 'expenses': 55097, 'from_poi_to_this_person': 'NaN', 'from_this_person_to_poi': 'NaN', 'poi': False, 'deferred_income': 'NaN', 'Unusually_High_Bonus': 'Yes', 'restricted_stock': 'NaN', 'long_term_incentive': 'NaN', 'salary': 'NaN', 'total_payments': 55097, 'loan_advances': 'NaN', 'email_address': 'NaN', 'restricted_stock_deferred': 'NaN', 'shared_receipt_with_poi': 'NaN', 'exercised_stock_options': 192758, 'from_messages': 'NaN', 'other': 'NaN', 'director_fees': 'NaN'}, 'MURRAY JULIA H': {'to_messages': 2192, 'deferral_payments': 'NaN', 'bonus': 400000, 'total_stock_value': 597461, 'expenses': 57580, 'from_poi_to_this_person': 11, 'from_this_person_to_poi': 2, 'poi': False, 'deferred_income': 'NaN', 'Unusually_High_Bonus': 'No', 'restricted_stock': 196983, 'long_term_incentive': 125000, 'salary': 229284, 'total_payments': 812194, 'loan_advances': 'NaN', 'email_address': 'julia.murray@enron.com', 'restricted_stock_deferred': 'NaN', 'shared_receipt_with_poi': 395, 'exercised_stock_options': 400478, 'from_messages': 45, 'other': 330, 'director_fees': 'NaN'}, 'GARLAND C KEVIN': {'to_messages': 209, 'deferral_payments': 'NaN', 'bonus': 850000, 'total_stock_value': 896153, 'expenses': 48405, 'from_poi_to_this_person': 10, 'from_this_person_to_poi': 27, 'poi': False, 'deferred_income': 'NaN', 'Unusually_High_Bonus': 'No', 'restricted_stock': 259907, 'long_term_incentive': 375304, 'salary': 231946, 'total_payments': 1566469, 'loan_advances': 'NaN', 'email_address': 'kevin.garland@enron.com', 'restricted_stock_deferred': 'NaN', 'shared_receipt_with_poi': 178, 'exercised_stock_options': 636246, 'from_messages': 44, 'other': 60814, 'director_fees': 'NaN'}, 'DODSON KEITH': {'to_messages': 176, 'deferral_payments': 'NaN', 'bonus': 70000, 'total_stock_value': 'NaN', 'expenses': 28164, 'from_poi_to_this_person': 10, 'from_this_person_to_poi': 3, 'poi': False, 'deferred_income': 'NaN', 'Unusually_High_Bonus': 'No', 'restricted_stock': 'NaN', 'long_term_incentive': 'NaN', 'salary': 221003, 'total_payments': 319941, 'loan_advances': 'NaN', 'email_address': 'keith.dodson@enron.com', 'restricted_stock_deferred': 'NaN', 'shared_receipt_with_poi': 114, 'exercised_stock_options': 'NaN', 'from_messages': 14, 'other': 774, 'director_fees': 'NaN'}, 'YEAGER F SCOTT': {'to_messages': 'NaN', 'deferral_payments': 'NaN', 'bonus': 'NaN', 'total_stock_value': 11884758, 'expenses': 53947, 'from_poi_to_this_person': 'NaN', 'from_this_person_to_poi': 'NaN', 'poi': True, 'deferred_income': 'NaN', 'Unusually_High_Bonus': 'Yes', 'restricted_stock': 3576206, 'long_term_incentive': 'NaN', 'salary': 158403, 'total_payments': 360300, 'loan_advances': 'NaN', 'email_address': 'scott.yeager@enron.com', 'restricted_stock_deferred': 'NaN', 'shared_receipt_with_poi': 'NaN', 'exercised_stock_options': 8308552, 'from_messages': 'NaN', 'other': 147950, 'director_fees': 'NaN'}, 'HIRKO JOSEPH': {'to_messages': 'NaN', 'deferral_payments': 10259, 'bonus': 'NaN', 'total_stock_value': 30766064, 'expenses': 77978, 'from_poi_to_this_person': 'NaN', 'from_this_person_to_poi': 'NaN', 'poi': True, 'deferred_income': 'NaN', 'Unusually_High_Bonus': 'Yes', 'restricted_stock': 'NaN', 'long_term_incentive': 'NaN', 'salary': 'NaN', 'total_payments': 91093, 'loan_advances': 'NaN', 'email_address': 'joe.hirko@enron.com', 'restricted_stock_deferred': 'NaN', 'shared_receipt_with_poi': 'NaN', 'exercised_stock_options': 30766064, 'from_messages': 'NaN', 'other': 2856, 'director_fees': 'NaN'}, 'DIETRICH JANET R': {'to_messages': 2572, 'deferral_payments': 'NaN', 'bonus': 600000, 'total_stock_value': 1865087, 'expenses': 3475, 'from_poi_to_this_person': 305, 'from_this_person_to_poi': 14, 'poi': False, 'deferred_income': 'NaN', 'Unusually_High_Bonus': 'No', 'restricted_stock': 315068, 'long_term_incentive': 556416, 'salary': 250100, 'total_payments': 1410464, 'loan_advances': 'NaN', 'email_address': 'janet.dietrich@enron.com', 'restricted_stock_deferred': 'NaN', 'shared_receipt_with_poi': 1902, 'exercised_stock_options': 1550019, 'from_messages': 63, 'other': 473, 'director_fees': 'NaN'}, 'DERRICK JR. JAMES V': {'to_messages': 2181, 'deferral_payments': 'NaN', 'bonus': 800000, 'total_stock_value': 8831913, 'expenses': 51124, 'from_poi_to_this_person': 64, 'from_this_person_to_poi': 20, 'poi': False, 'deferred_income': -1284000, 'Unusually_High_Bonus': 'No', 'restricted_stock': 1787380, 'long_term_incentive': 484000, 'salary': 492375, 'total_payments': 550981, 'loan_advances': 'NaN', 'email_address': 'james.derrick@enron.com', 'restricted_stock_deferred': -1787380, 'shared_receipt_with_poi': 1401, 'exercised_stock_options': 8831913, 'from_messages': 909, 'other': 7482, 'director_fees': 'NaN'}, 'FREVERT MARK A': {'to_messages': 3275, 'deferral_payments': 6426990, 'bonus': 2000000, 'total_stock_value': 14622185, 'expenses': 86987, 'from_poi_to_this_person': 242, 'from_this_person_to_poi': 6, 'poi': False, 'deferred_income': -3367011, 'Unusually_High_Bonus': 'No', 'restricted_stock': 4188667, 'long_term_incentive': 1617011, 'salary': 1060932, 'total_payments': 17252530, 'loan_advances': 2000000, 'email_address': 'mark.frevert@enron.com', 'restricted_stock_deferred': 'NaN', 'shared_receipt_with_poi': 2979, 'exercised_stock_options': 10433518, 'from_messages': 21, 'other': 7427621, 'director_fees': 'NaN'}, 'PAI LOU L': {'to_messages': 'NaN', 'deferral_payments': 'NaN', 'bonus': 1000000, 'total_stock_value': 23817930, 'expenses': 32047, 'from_poi_to_this_person': 'NaN', 'from_this_person_to_poi': 'NaN', 'poi': False, 'deferred_income': 'NaN', 'Unusually_High_Bonus': 'No', 'restricted_stock': 8453763, 'long_term_incentive': 'NaN', 'salary': 261879, 'total_payments': 3123383, 'loan_advances': 'NaN', 'email_address': 'lou.pai@enron.com', 'restricted_stock_deferred': 'NaN', 'shared_receipt_with_poi': 'NaN', 'exercised_stock_options': 15364167, 'from_messages': 'NaN', 'other': 1829457, 'director_fees': 'NaN'}, 'BAY FRANKLIN R': {'to_messages': 'NaN', 'deferral_payments': 260455, 'bonus': 400000, 'total_stock_value': 63014, 'expenses': 129142, 'from_poi_to_this_person': 'NaN', 'from_this_person_to_poi': 'NaN', 'poi': False, 'deferred_income': -201641, 'Unusually_High_Bonus': 'No', 'restricted_stock': 145796, 'long_term_incentive': 'NaN', 'salary': 239671, 'total_payments': 827696, 'loan_advances': 'NaN', 'email_address': 'frank.bay@enron.com', 'restricted_stock_deferred': -82782, 'shared_receipt_with_poi': 'NaN', 'exercised_stock_options': 'NaN', 'from_messages': 'NaN', 'other': 69, 'director_fees': 'NaN'}, 'HAYSLETT RODERICK J': {'to_messages': 2649, 'deferral_payments': 'NaN', 'bonus': 'NaN', 'total_stock_value': 346663, 'expenses': 'NaN', 'from_poi_to_this_person': 35, 'from_this_person_to_poi': 38, 'poi': False, 'deferred_income': 'NaN', 'Unusually_High_Bonus': 'Yes', 'restricted_stock': 346663, 'long_term_incentive': 'NaN', 'salary': 'NaN', 'total_payments': 'NaN', 'loan_advances': 'NaN', 'email_address': 'rod.hayslett@enron.com', 'restricted_stock_deferred': 'NaN', 'shared_receipt_with_poi': 571, 'exercised_stock_options': 'NaN', 'from_messages': 1061, 'other': 'NaN', 'director_fees': 'NaN'}, 'FUGH JOHN L': {'to_messages': 'NaN', 'deferral_payments': 50591, 'bonus': 'NaN', 'total_stock_value': 176378, 'expenses': 'NaN', 'from_poi_to_this_person': 'NaN', 'from_this_person_to_poi': 'NaN', 'poi': False, 'deferred_income': 'NaN', 'Unusually_High_Bonus': 'Yes', 'restricted_stock': 'NaN', 'long_term_incentive': 'NaN', 'salary': 'NaN', 'total_payments': 50591, 'loan_advances': 'NaN', 'email_address': 'NaN', 'restricted_stock_deferred': 'NaN', 'shared_receipt_with_poi': 'NaN', 'exercised_stock_options': 176378, 'from_messages': 'NaN', 'other': 'NaN', 'director_fees': 'NaN'}, 'FALLON JAMES B': {'to_messages': 1755, 'deferral_payments': 'NaN', 'bonus': 2500000, 'total_stock_value': 2332399, 'expenses': 95924, 'from_poi_to_this_person': 42, 'from_this_person_to_poi': 37, 'poi': False, 'deferred_income': 'NaN', 'Unusually_High_Bonus': 'No', 'restricted_stock': 1392142, 'long_term_incentive': 374347, 'salary': 304588, 'total_payments': 3676340, 'loan_advances': 'NaN', 'email_address': 'jim.fallon@enron.com', 'restricted_stock_deferred': 'NaN', 'shared_receipt_with_poi': 1604, 'exercised_stock_options': 940257, 'from_messages': 75, 'other': 401481, 'director_fees': 'NaN'}, 'KOENIG MARK E': {'to_messages': 2374, 'deferral_payments': 'NaN', 'bonus': 700000, 'total_stock_value': 1920055, 'expenses': 127017, 'from_poi_to_this_person': 53, 'from_this_person_to_poi': 15, 'poi': True, 'deferred_income': 'NaN', 'Unusually_High_Bonus': 'No', 'restricted_stock': 1248318, 'long_term_incentive': 300000, 'salary': 309946, 'total_payments': 1587421, 'loan_advances': 'NaN', 'email_address': 'mark.koenig@enron.com', 'restricted_stock_deferred': 'NaN', 'shared_receipt_with_poi': 2271, 'exercised_stock_options': 671737, 'from_messages': 61, 'other': 150458, 'director_fees': 'NaN'}, 'SAVAGE FRANK': {'to_messages': 'NaN', 'deferral_payments': 'NaN', 'bonus': 'NaN', 'total_stock_value': 'NaN', 'expenses': 'NaN', 'from_poi_to_this_person': 'NaN', 'from_this_person_to_poi': 'NaN', 'poi': False, 'deferred_income': -121284, 'Unusually_High_Bonus': 'Yes', 'restricted_stock': 'NaN', 'long_term_incentive': 'NaN', 'salary': 'NaN', 'total_payments': 3750, 'loan_advances': 'NaN', 'email_address': 'NaN', 'restricted_stock_deferred': 'NaN', 'shared_receipt_with_poi': 'NaN', 'exercised_stock_options': 'NaN', 'from_messages': 'NaN', 'other': 'NaN', 'director_fees': 125034}, 'IZZO LAWRENCE L': {'to_messages': 496, 'deferral_payments': 'NaN', 'bonus': 'NaN', 'total_stock_value': 5819980, 'expenses': 28093, 'from_poi_to_this_person': 28, 'from_this_person_to_poi': 5, 'poi': False, 'deferred_income': 'NaN', 'Unusually_High_Bonus': 'Yes', 'restricted_stock': 3654808, 'long_term_incentive': 312500, 'salary': 85274, 'total_payments': 1979596, 'loan_advances': 'NaN', 'email_address': 'larry.izzo@enron.com', 'restricted_stock_deferred': 'NaN', 'shared_receipt_with_poi': 437, 'exercised_stock_options': 2165172, 'from_messages': 19, 'other': 1553729, 'director_fees': 'NaN'}, 'TILNEY ELIZABETH A': {'to_messages': 460, 'deferral_payments': 'NaN', 'bonus': 300000, 'total_stock_value': 1168042, 'expenses': 'NaN', 'from_poi_to_this_person': 10, 'from_this_person_to_poi': 11, 'poi': False, 'deferred_income': -575000, 'Unusually_High_Bonus': 'No', 'restricted_stock': 576792, 'long_term_incentive': 275000, 'salary': 247338, 'total_payments': 399393, 'loan_advances': 'NaN', 'email_address': 'elizabeth.tilney@enron.com', 'restricted_stock_deferred': 'NaN', 'shared_receipt_with_poi': 379, 'exercised_stock_options': 591250, 'from_messages': 19, 'other': 152055, 'director_fees': 'NaN'}, 'MARTIN AMANDA K': {'to_messages': 1522, 'deferral_payments': 85430, 'bonus': 'NaN', 'total_stock_value': 2070306, 'expenses': 8211, 'from_poi_to_this_person': 8, 'from_this_person_to_poi': 0, 'poi': False, 'deferred_income': 'NaN', 'Unusually_High_Bonus': 'Yes', 'restricted_stock': 'NaN', 'long_term_incentive': 5145434, 'salary': 349487, 'total_payments': 8407016, 'loan_advances': 'NaN', 'email_address': 'a..martin@enron.com', 'restricted_stock_deferred': 'NaN', 'shared_receipt_with_poi': 477, 'exercised_stock_options': 2070306, 'from_messages': 230, 'other': 2818454, 'director_fees': 'NaN'}, 'BUY RICHARD B': {'to_messages': 3523, 'deferral_payments': 649584, 'bonus': 900000, 'total_stock_value': 3444470, 'expenses': 'NaN', 'from_poi_to_this_person': 156, 'from_this_person_to_poi': 71, 'poi': False, 'deferred_income': -694862, 'Unusually_High_Bonus': 'No', 'restricted_stock': 901657, 'long_term_incentive': 769862, 'salary': 330546, 'total_payments': 2355702, 'loan_advances': 'NaN', 'email_address': 'rick.buy@enron.com', 'restricted_stock_deferred': 'NaN', 'shared_receipt_with_poi': 2333, 'exercised_stock_options': 2542813, 'from_messages': 1053, 'other': 400572, 'director_fees': 'NaN'}, 'GRAMM WENDY L': {'to_messages': 'NaN', 'deferral_payments': 'NaN', 'bonus': 'NaN', 'total_stock_value': 'NaN', 'expenses': 'NaN', 'from_poi_to_this_person': 'NaN', 'from_this_person_to_poi': 'NaN', 'poi': False, 'deferred_income': 'NaN', 'Unusually_High_Bonus': 'Yes', 'restricted_stock': 'NaN', 'long_term_incentive': 'NaN', 'salary': 'NaN', 'total_payments': 119292, 'loan_advances': 'NaN', 'email_address': 'NaN', 'restricted_stock_deferred': 'NaN', 'shared_receipt_with_poi': 'NaN', 'exercised_stock_options': 'NaN', 'from_messages': 'NaN', 'other': 'NaN', 'director_fees': 119292}, 'CAUSEY RICHARD A': {'to_messages': 1892, 'deferral_payments': 'NaN', 'bonus': 1000000, 'total_stock_value': 2502063, 'expenses': 30674, 'from_poi_to_this_person': 58, 'from_this_person_to_poi': 12, 'poi': True, 'deferred_income': -235000, 'Unusually_High_Bonus': 'No', 'restricted_stock': 2502063, 'long_term_incentive': 350000, 'salary': 415189, 'total_payments': 1868758, 'loan_advances': 'NaN', 'email_address': 'richard.causey@enron.com', 'restricted_stock_deferred': 'NaN', 'shared_receipt_with_poi': 1585, 'exercised_stock_options': 'NaN', 'from_messages': 49, 'other': 307895, 'director_fees': 'NaN'}, 'TAYLOR MITCHELL S': {'to_messages': 533, 'deferral_payments': 227449, 'bonus': 600000, 'total_stock_value': 3745048, 'expenses': 'NaN', 'from_poi_to_this_person': 0, 'from_this_person_to_poi': 0, 'poi': False, 'deferred_income': 'NaN', 'Unusually_High_Bonus': 'No', 'restricted_stock': 563798, 'long_term_incentive': 'NaN', 'salary': 265214, 'total_payments': 1092663, 'loan_advances': 'NaN', 'email_address': 'mitchell.taylor@enron.com', 'restricted_stock_deferred': 'NaN', 'shared_receipt_with_poi': 300, 'exercised_stock_options': 3181250, 'from_messages': 29, 'other': 'NaN', 'director_fees': 'NaN'}, 'DONAHUE JR JEFFREY M': {'to_messages': 865, 'deferral_payments': 'NaN', 'bonus': 800000, 'total_stock_value': 1080988, 'expenses': 96268, 'from_poi_to_this_person': 188, 'from_this_person_to_poi': 11, 'poi': False, 'deferred_income': -300000, 'Unusually_High_Bonus': 'No', 'restricted_stock': 315068, 'long_term_incentive': 'NaN', 'salary': 278601, 'total_payments': 875760, 'loan_advances': 'NaN', 'email_address': 'jeff.donahue@enron.com', 'restricted_stock_deferred': 'NaN', 'shared_receipt_with_poi': 772, 'exercised_stock_options': 765920, 'from_messages': 22, 'other': 891, 'director_fees': 'NaN'}, 'GLISAN JR BEN F': {'to_messages': 873, 'deferral_payments': 'NaN', 'bonus': 600000, 'total_stock_value': 778546, 'expenses': 125978, 'from_poi_to_this_person': 52, 'from_this_person_to_poi': 6, 'poi': True, 'deferred_income': 'NaN', 'Unusually_High_Bonus': 'No', 'restricted_stock': 393818, 'long_term_incentive': 71023, 'salary': 274975, 'total_payments': 1272284, 'loan_advances': 'NaN', 'email_address': 'ben.glisan@enron.com', 'restricted_stock_deferred': 'NaN', 'shared_receipt_with_poi': 874, 'exercised_stock_options': 384728, 'from_messages': 16, 'other': 200308, 'director_fees': 'NaN'}}\n"
     ]
    }
   ],
   "source": [
    "print dataset"
   ]
  },
  {
   "cell_type": "markdown",
   "metadata": {
    "collapsed": true
   },
   "source": [
    "<h2> Testing Classifiers</h2>"
   ]
  },
  {
   "cell_type": "code",
   "execution_count": 175,
   "metadata": {
    "collapsed": false
   },
   "outputs": [
    {
     "ename": "ValueError",
     "evalue": "could not convert string to float: No",
     "output_type": "error",
     "traceback": [
      "\u001b[0;31m\u001b[0m",
      "\u001b[0;31mValueError\u001b[0mTraceback (most recent call last)",
      "\u001b[0;32m<ipython-input-175-6cf7802c72d7>\u001b[0m in \u001b[0;36m<module>\u001b[0;34m()\u001b[0m\n\u001b[1;32m      1\u001b[0m \u001b[1;31m### Extract features and labels from dataset for local testing\u001b[0m\u001b[1;33m\u001b[0m\u001b[1;33m\u001b[0m\u001b[0m\n\u001b[0;32m----> 2\u001b[0;31m \u001b[0mdata\u001b[0m \u001b[1;33m=\u001b[0m \u001b[0mfeatureFormat\u001b[0m\u001b[1;33m(\u001b[0m\u001b[0mdataset\u001b[0m\u001b[1;33m,\u001b[0m \u001b[0mfeatures_list\u001b[0m\u001b[1;33m,\u001b[0m \u001b[0msort_keys\u001b[0m \u001b[1;33m=\u001b[0m \u001b[0mTrue\u001b[0m\u001b[1;33m)\u001b[0m\u001b[1;33m\u001b[0m\u001b[0m\n\u001b[0m\u001b[1;32m      3\u001b[0m \u001b[0mlabels\u001b[0m\u001b[1;33m,\u001b[0m \u001b[0mfeatures\u001b[0m \u001b[1;33m=\u001b[0m \u001b[0mtargetFeatureSplit\u001b[0m\u001b[1;33m(\u001b[0m\u001b[0mdata\u001b[0m\u001b[1;33m)\u001b[0m\u001b[1;33m\u001b[0m\u001b[0m\n",
      "\u001b[0;32mC:\\Users\\Mohammad\\Desktop\\Disk 0\\Code\\Data Analyst Udacity\\Project 6\\tools\\feature_format.pyc\u001b[0m in \u001b[0;36mfeatureFormat\u001b[0;34m(dictionary, features, remove_NaN, remove_all_zeroes, remove_any_zeroes, sort_keys)\u001b[0m\n\u001b[1;32m     73\u001b[0m             \u001b[1;32mif\u001b[0m \u001b[0mvalue\u001b[0m\u001b[1;33m==\u001b[0m\u001b[1;34m\"NaN\"\u001b[0m \u001b[1;32mand\u001b[0m \u001b[0mremove_NaN\u001b[0m\u001b[1;33m:\u001b[0m\u001b[1;33m\u001b[0m\u001b[0m\n\u001b[1;32m     74\u001b[0m                 \u001b[0mvalue\u001b[0m \u001b[1;33m=\u001b[0m \u001b[1;36m0\u001b[0m\u001b[1;33m\u001b[0m\u001b[0m\n\u001b[0;32m---> 75\u001b[0;31m             \u001b[0mtmp_list\u001b[0m\u001b[1;33m.\u001b[0m\u001b[0mappend\u001b[0m\u001b[1;33m(\u001b[0m \u001b[0mfloat\u001b[0m\u001b[1;33m(\u001b[0m\u001b[0mvalue\u001b[0m\u001b[1;33m)\u001b[0m \u001b[1;33m)\u001b[0m\u001b[1;33m\u001b[0m\u001b[0m\n\u001b[0m\u001b[1;32m     76\u001b[0m \u001b[1;33m\u001b[0m\u001b[0m\n\u001b[1;32m     77\u001b[0m         \u001b[1;31m# Logic for deciding whether or not to add the data point.\u001b[0m\u001b[1;33m\u001b[0m\u001b[1;33m\u001b[0m\u001b[0m\n",
      "\u001b[0;31mValueError\u001b[0m: could not convert string to float: No"
     ]
    }
   ],
   "source": [
    "### Extract features and labels from dataset for local testing\n",
    "data = featureFormat(dataset, features_list, sort_keys = True)\n",
    "labels, features = targetFeatureSplit(data)\n"
   ]
  },
  {
   "cell_type": "code",
   "execution_count": 171,
   "metadata": {
    "collapsed": true
   },
   "outputs": [],
   "source": [
    "# Example starting point. Try investigating other evaluation techniques!\n",
    "features_train, features_test, labels_train, labels_test = \\\n",
    "    train_test_split(features, labels, test_size=0.3, random_state=42)"
   ]
  },
  {
   "cell_type": "code",
   "execution_count": 172,
   "metadata": {
    "collapsed": false
   },
   "outputs": [
    {
     "name": "stdout",
     "output_type": "stream",
     "text": [
      "0.93023255814\n"
     ]
    }
   ],
   "source": [
    "#Naive Bayes Classifier\n",
    "clf = GaussianNB()\n",
    "clf.fit(features_train, labels_train)\n",
    "pred = clf.predict(features_test)\n",
    "\n",
    "print accuracy_score(pred, labels_test)"
   ]
  },
  {
   "cell_type": "code",
   "execution_count": 148,
   "metadata": {
    "collapsed": false
   },
   "outputs": [
    {
     "name": "stdout",
     "output_type": "stream",
     "text": [
      "0.883720930233\n"
     ]
    }
   ],
   "source": [
    "#SVM classifier, literally exact same as Naive Bayes\n",
    "clf = svm.SVC()\n",
    "clf.fit(features_train, labels_train)\n",
    "pred = clf.predict(features_test)\n",
    "\n",
    "print accuracy_score(pred, labels_test)"
   ]
  },
  {
   "cell_type": "code",
   "execution_count": 130,
   "metadata": {
    "collapsed": false
   },
   "outputs": [
    {
     "name": "stdout",
     "output_type": "stream",
     "text": [
      "0.813953488372\n"
     ]
    }
   ],
   "source": [
    "#Decision Tree Classifier, Surprisingly much lower than SVM and Naive Bayes\n",
    "#DTC has different accuracy after running multiple times. NB and SVM never change. \n",
    "clf = tree.DecisionTreeClassifier()\n",
    "clf.fit(features_train, labels_train)\n",
    "pred = clf.predict(features_test)\n",
    "\n",
    "print accuracy_score(pred, labels_test)"
   ]
  },
  {
   "cell_type": "code",
   "execution_count": 131,
   "metadata": {
    "collapsed": false
   },
   "outputs": [
    {
     "name": "stdout",
     "output_type": "stream",
     "text": [
      "['bonus' 'deferral_payments' 'deferred_income' 'director_fees'\n",
      " 'email_address' 'exercised_stock_options' 'expenses' 'from_messages'\n",
      " 'from_poi_to_this_person' 'from_this_person_to_poi' 'loan_advances'\n",
      " 'long_term_incentive' 'other' 'poi' 'restricted_stock'\n",
      " 'restricted_stock_deferred' 'salary' 'shared_receipt_with_poi'\n",
      " 'to_messages' 'total_payments' 'total_stock_value']\n"
     ]
    }
   ],
   "source": [
    "#List of all the features\n",
    "print enron_data.columns.values"
   ]
  },
  {
   "cell_type": "markdown",
   "metadata": {},
   "source": [
    "<h3> Naive Bayes Classifier</h3>"
   ]
  },
  {
   "cell_type": "code",
   "execution_count": 132,
   "metadata": {
    "collapsed": false
   },
   "outputs": [
    {
     "name": "stdout",
     "output_type": "stream",
     "text": [
      "DecisionTreeClassifier(class_weight=None, criterion='gini', max_depth=None,\n",
      "            max_features=None, max_leaf_nodes=None,\n",
      "            min_impurity_split=1e-07, min_samples_leaf=1,\n",
      "            min_samples_split=2, min_weight_fraction_leaf=0.0,\n",
      "            presort=False, random_state=None, splitter='best')\n",
      "\tAccuracy: 0.79420\tPrecision: 0.21796\tRecall: 0.21000\tF1: 0.21390\tF2: 0.21154\n",
      "\tTotal predictions: 15000\tTrue positives:  420\tFalse positives: 1507\tFalse negatives: 1580\tTrue negatives: 11493\n",
      "\n"
     ]
    }
   ],
   "source": [
    "#First we start with all the features to see our precision and recall\n",
    "features_list = ['poi', 'bonus', 'deferred_income', 'director_fees',\n",
    " 'exercised_stock_options', 'expenses', 'from_messages',\n",
    " 'from_poi_to_this_person', 'from_this_person_to_poi', 'loan_advances',\n",
    " 'long_term_incentive', 'other', 'restricted_stock',\n",
    " 'restricted_stock_deferred', 'salary', 'shared_receipt_with_poi', 'to_messages',\n",
    "'total_payments', 'total_stock_value']\n",
    "\n",
    "\n",
    "#We have passed the mark for Recall but not precision\n",
    "test_classifier(clf, dataset, features_list, folds = 1000);"
   ]
  },
  {
   "cell_type": "code",
   "execution_count": 133,
   "metadata": {
    "collapsed": false
   },
   "outputs": [
    {
     "name": "stdout",
     "output_type": "stream",
     "text": [
      "DecisionTreeClassifier(class_weight=None, criterion='gini', max_depth=None,\n",
      "            max_features=None, max_leaf_nodes=None,\n",
      "            min_impurity_split=1e-07, min_samples_leaf=1,\n",
      "            min_samples_split=2, min_weight_fraction_leaf=0.0,\n",
      "            presort=False, random_state=None, splitter='best')\n",
      "\tAccuracy: 0.79680\tPrecision: 0.22680\tRecall: 0.21750\tF1: 0.22205\tF2: 0.21930\n",
      "\tTotal predictions: 15000\tTrue positives:  435\tFalse positives: 1483\tFalse negatives: 1565\tTrue negatives: 11517\n",
      "\n"
     ]
    }
   ],
   "source": [
    "#Lets try removing 1 feature to see what happens. Lets pick director_fees\n",
    "features_list = ['poi', 'bonus', 'deferred_income',\n",
    " 'exercised_stock_options', 'expenses', 'from_messages',\n",
    " 'from_poi_to_this_person', 'from_this_person_to_poi', 'loan_advances',\n",
    " 'long_term_incentive', 'other', 'restricted_stock',\n",
    " 'restricted_stock_deferred', 'salary', 'shared_receipt_with_poi', 'to_messages',\n",
    "'total_payments', 'total_stock_value' ]\n",
    "\n",
    "\n",
    "#Our Precision went up so we are on the right track\n",
    "test_classifier(clf, dataset, features_list, folds = 1000);"
   ]
  },
  {
   "cell_type": "code",
   "execution_count": 134,
   "metadata": {
    "collapsed": false
   },
   "outputs": [
    {
     "name": "stdout",
     "output_type": "stream",
     "text": [
      "DecisionTreeClassifier(class_weight=None, criterion='gini', max_depth=None,\n",
      "            max_features=None, max_leaf_nodes=None,\n",
      "            min_impurity_split=1e-07, min_samples_leaf=1,\n",
      "            min_samples_split=2, min_weight_fraction_leaf=0.0,\n",
      "            presort=False, random_state=None, splitter='best')\n",
      "\tAccuracy: 0.80840\tPrecision: 0.27817\tRecall: 0.27400\tF1: 0.27607\tF2: 0.27482\n",
      "\tTotal predictions: 15000\tTrue positives:  548\tFalse positives: 1422\tFalse negatives: 1452\tTrue negatives: 11578\n",
      "\n"
     ]
    }
   ],
   "source": [
    "#Lets try removing another feature to see what happens. Lets pick \"other\" it should increase our score\n",
    "features_list = ['poi', 'bonus', 'deferred_income',\n",
    " 'exercised_stock_options', 'expenses', 'from_messages',\n",
    " 'from_poi_to_this_person', 'from_this_person_to_poi', 'loan_advances',\n",
    " 'long_term_incentive', 'restricted_stock',\n",
    " 'restricted_stock_deferred', 'salary', 'shared_receipt_with_poi', 'to_messages',\n",
    "'total_payments', 'total_stock_value' ]\n",
    "\n",
    "\n",
    "#Our precision increased 2%, so close we need less than 1% to reach our mark.\n",
    "test_classifier(clf, dataset, features_list, folds = 1000);"
   ]
  },
  {
   "cell_type": "code",
   "execution_count": 135,
   "metadata": {
    "collapsed": false
   },
   "outputs": [
    {
     "name": "stdout",
     "output_type": "stream",
     "text": [
      "DecisionTreeClassifier(class_weight=None, criterion='gini', max_depth=None,\n",
      "            max_features=None, max_leaf_nodes=None,\n",
      "            min_impurity_split=1e-07, min_samples_leaf=1,\n",
      "            min_samples_split=2, min_weight_fraction_leaf=0.0,\n",
      "            presort=False, random_state=None, splitter='best')\n",
      "\tAccuracy: 0.81347\tPrecision: 0.28594\tRecall: 0.26650\tF1: 0.27588\tF2: 0.27017\n",
      "\tTotal predictions: 15000\tTrue positives:  533\tFalse positives: 1331\tFalse negatives: 1467\tTrue negatives: 11669\n",
      "\n"
     ]
    }
   ],
   "source": [
    "#Maybe salary will help? Lets find out. \n",
    "features_list = ['poi', 'bonus', 'deferred_income',\n",
    " 'exercised_stock_options', 'expenses', 'from_messages',\n",
    " 'from_poi_to_this_person', 'from_this_person_to_poi', 'loan_advances',\n",
    " 'long_term_incentive', 'restricted_stock',\n",
    " 'restricted_stock_deferred',  'shared_receipt_with_poi', 'to_messages',\n",
    "'total_payments', 'total_stock_value' ]\n",
    "\n",
    "\n",
    "#Nope. Our precision went down, so we are now going in the wrong direction. lets add salary back.\n",
    "test_classifier(clf, dataset, features_list, folds = 1000);"
   ]
  },
  {
   "cell_type": "code",
   "execution_count": 136,
   "metadata": {
    "collapsed": false
   },
   "outputs": [
    {
     "name": "stdout",
     "output_type": "stream",
     "text": [
      "DecisionTreeClassifier(class_weight=None, criterion='gini', max_depth=None,\n",
      "            max_features=None, max_leaf_nodes=None,\n",
      "            min_impurity_split=1e-07, min_samples_leaf=1,\n",
      "            min_samples_split=2, min_weight_fraction_leaf=0.0,\n",
      "            presort=False, random_state=None, splitter='best')\n",
      "\tAccuracy: 0.81107\tPrecision: 0.28703\tRecall: 0.28100\tF1: 0.28398\tF2: 0.28219\n",
      "\tTotal predictions: 15000\tTrue positives:  562\tFalse positives: 1396\tFalse negatives: 1438\tTrue negatives: 11604\n",
      "\n"
     ]
    }
   ],
   "source": [
    "#Maybe to_messages? Lets see\n",
    "features_list = ['poi', 'bonus', 'deferred_income',\n",
    " 'exercised_stock_options', 'expenses', 'from_messages',\n",
    " 'from_poi_to_this_person', 'from_this_person_to_poi', 'loan_advances',\n",
    " 'long_term_incentive', 'restricted_stock',\n",
    " 'restricted_stock_deferred', 'salary', 'shared_receipt_with_poi',\n",
    "'total_payments', 'total_stock_value' ]\n",
    "\n",
    "\n",
    "#Yes! we do achieve a greater than 30% precision\n",
    "test_classifier(clf, dataset, features_list, folds = 1000);"
   ]
  },
  {
   "cell_type": "code",
   "execution_count": 137,
   "metadata": {
    "collapsed": false
   },
   "outputs": [],
   "source": [
    "#Final subset feature list for Naive Bayes\n",
    "# features_list = ['poi', 'bonus', 'deferred_income',\n",
    "#  'exercised_stock_options', 'expenses', 'from_messages',\n",
    "#  'from_poi_to_this_person', 'from_this_person_to_poi', 'loan_advances',\n",
    "#  'long_term_incentive', 'restricted_stock',\n",
    "#  'restricted_stock_deferred', 'salary', 'shared_receipt_with_poi',\n",
    "# 'total_payments', 'total_stock_value' ]\n",
    "\n",
    "# test_classifier(clf, dataset, features_list, folds = 1000);"
   ]
  },
  {
   "cell_type": "markdown",
   "metadata": {},
   "source": [
    "<h3>Decision Tree Classifier</h3>"
   ]
  },
  {
   "cell_type": "code",
   "execution_count": 138,
   "metadata": {
    "collapsed": false
   },
   "outputs": [
    {
     "name": "stdout",
     "output_type": "stream",
     "text": [
      "DecisionTreeClassifier(class_weight=None, criterion='gini', max_depth=None,\n",
      "            max_features=None, max_leaf_nodes=None,\n",
      "            min_impurity_split=1e-07, min_samples_leaf=1,\n",
      "            min_samples_split=2, min_weight_fraction_leaf=0.0,\n",
      "            presort=False, random_state=None, splitter='best')\n",
      "\tAccuracy: 0.80933\tPrecision: 0.27627\tRecall: 0.26550\tF1: 0.27078\tF2: 0.26759\n",
      "\tTotal predictions: 15000\tTrue positives:  531\tFalse positives: 1391\tFalse negatives: 1469\tTrue negatives: 11609\n",
      "\n"
     ]
    }
   ],
   "source": [
    "#Running the same feature list for a Decision Tree Classifier, we get much different results\n",
    "features_list = ['poi', 'bonus', 'deferred_income',\n",
    " 'exercised_stock_options', 'expenses', 'from_messages',\n",
    " 'from_poi_to_this_person', 'from_this_person_to_poi', 'loan_advances',\n",
    " 'long_term_incentive', 'restricted_stock',\n",
    " 'restricted_stock_deferred', 'salary', 'shared_receipt_with_poi',\n",
    "'total_payments', 'total_stock_value' ]\n",
    "\n",
    "#Now, niether our Precision nor recall are above 30%\n",
    "test_classifier(clf, dataset, features_list, folds = 1000);"
   ]
  },
  {
   "cell_type": "code",
   "execution_count": 139,
   "metadata": {
    "collapsed": false
   },
   "outputs": [
    {
     "name": "stdout",
     "output_type": "stream",
     "text": [
      "DecisionTreeClassifier(class_weight=None, criterion='gini', max_depth=None,\n",
      "            max_features=None, max_leaf_nodes=None,\n",
      "            min_impurity_split=1e-07, min_samples_leaf=1,\n",
      "            min_samples_split=2, min_weight_fraction_leaf=0.0,\n",
      "            presort=False, random_state=None, splitter='best')\n",
      "\tAccuracy: 0.80893\tPrecision: 0.29898\tRecall: 0.32200\tF1: 0.31006\tF2: 0.31712\n",
      "\tTotal predictions: 15000\tTrue positives:  644\tFalse positives: 1510\tFalse negatives: 1356\tTrue negatives: 11490\n",
      "\n"
     ]
    }
   ],
   "source": [
    "#Removing bonus we have recall above 30% and Precision less than 1% away.\n",
    "features_list = ['poi', 'deferred_income',\n",
    " 'exercised_stock_options', 'expenses', 'from_messages',\n",
    " 'from_poi_to_this_person', 'from_this_person_to_poi', 'loan_advances',\n",
    " 'long_term_incentive', 'restricted_stock',\n",
    " 'restricted_stock_deferred', 'salary', 'shared_receipt_with_poi',\n",
    "'total_payments', 'total_stock_value' ]\n",
    "\n",
    "test_classifier(clf, dataset, features_list, folds = 1000);"
   ]
  },
  {
   "cell_type": "code",
   "execution_count": 140,
   "metadata": {
    "collapsed": false
   },
   "outputs": [
    {
     "name": "stdout",
     "output_type": "stream",
     "text": [
      "DecisionTreeClassifier(class_weight=None, criterion='gini', max_depth=None,\n",
      "            max_features=None, max_leaf_nodes=None,\n",
      "            min_impurity_split=1e-07, min_samples_leaf=1,\n",
      "            min_samples_split=2, min_weight_fraction_leaf=0.0,\n",
      "            presort=False, random_state=None, splitter='best')\n",
      "\tAccuracy: 0.81053\tPrecision: 0.31727\tRecall: 0.36550\tF1: 0.33968\tF2: 0.35472\n",
      "\tTotal predictions: 15000\tTrue positives:  731\tFalse positives: 1573\tFalse negatives: 1269\tTrue negatives: 11427\n",
      "\n"
     ]
    }
   ],
   "source": [
    "#Now Removing restricted stock we are over 30% for both Recall and Precision\n",
    "features_list = ['poi', 'deferred_income',\n",
    " 'exercised_stock_options', 'expenses', 'from_messages',\n",
    " 'from_poi_to_this_person', 'from_this_person_to_poi', 'loan_advances',\n",
    " 'long_term_incentive',\n",
    " 'restricted_stock_deferred', 'salary', 'shared_receipt_with_poi',\n",
    "'total_payments', 'total_stock_value' ]\n",
    "\n",
    "test_classifier(clf, dataset, features_list, folds = 1000);"
   ]
  },
  {
   "cell_type": "code",
   "execution_count": 141,
   "metadata": {
    "collapsed": false
   },
   "outputs": [
    {
     "name": "stdout",
     "output_type": "stream",
     "text": [
      "DecisionTreeClassifier(class_weight=None, criterion='gini', max_depth=None,\n",
      "            max_features=None, max_leaf_nodes=None,\n",
      "            min_impurity_split=1e-07, min_samples_leaf=1,\n",
      "            min_samples_split=2, min_weight_fraction_leaf=0.0,\n",
      "            presort=False, random_state=None, splitter='best')\n",
      "\tAccuracy: 0.81053\tPrecision: 0.31680\tRecall: 0.36400\tF1: 0.33876\tF2: 0.35347\n",
      "\tTotal predictions: 15000\tTrue positives:  728\tFalse positives: 1570\tFalse negatives: 1272\tTrue negatives: 11430\n",
      "\n"
     ]
    }
   ],
   "source": [
    "#Final Feature list for decision tree\n",
    "features_list = ['poi', 'deferred_income',\n",
    " 'exercised_stock_options', 'expenses', 'from_messages',\n",
    " 'from_poi_to_this_person', 'from_this_person_to_poi', 'loan_advances',\n",
    " 'long_term_incentive',\n",
    " 'restricted_stock_deferred', 'salary', 'shared_receipt_with_poi',\n",
    "'total_payments', 'total_stock_value' ]\n",
    "\n",
    "\n",
    "test_classifier(clf, dataset, features_list, folds = 1000);"
   ]
  },
  {
   "cell_type": "code",
   "execution_count": 142,
   "metadata": {
    "collapsed": true
   },
   "outputs": [],
   "source": [
    "### Task 6: Dump your classifier, dataset, and features_list so anyone can\n",
    "### check your results. You do not need to change anything below, but make sure\n",
    "### that the version of poi_id.py that you submit can be run on its own and\n",
    "### generates the necessary .pkl files for validating your results.\n",
    "dump_classifier_and_data(clf, dataset, features_list)"
   ]
  },
  {
   "cell_type": "code",
   "execution_count": null,
   "metadata": {
    "collapsed": false
   },
   "outputs": [],
   "source": []
  },
  {
   "cell_type": "code",
   "execution_count": null,
   "metadata": {
    "collapsed": true
   },
   "outputs": [],
   "source": []
  },
  {
   "cell_type": "code",
   "execution_count": null,
   "metadata": {
    "collapsed": true
   },
   "outputs": [],
   "source": []
  },
  {
   "cell_type": "code",
   "execution_count": null,
   "metadata": {
    "collapsed": true
   },
   "outputs": [],
   "source": []
  },
  {
   "cell_type": "code",
   "execution_count": null,
   "metadata": {
    "collapsed": true
   },
   "outputs": [],
   "source": []
  },
  {
   "cell_type": "code",
   "execution_count": null,
   "metadata": {
    "collapsed": true
   },
   "outputs": [],
   "source": []
  }
 ],
 "metadata": {
  "kernelspec": {
   "display_name": "Python 2",
   "language": "python",
   "name": "python2"
  },
  "language_info": {
   "codemirror_mode": {
    "name": "ipython",
    "version": 2
   },
   "file_extension": ".py",
   "mimetype": "text/x-python",
   "name": "python",
   "nbconvert_exporter": "python",
   "pygments_lexer": "ipython2",
   "version": "2.7.13"
  }
 },
 "nbformat": 4,
 "nbformat_minor": 2
}
