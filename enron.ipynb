{
 "cells": [
  {
   "cell_type": "code",
   "execution_count": 27,
   "metadata": {
    "collapsed": false
   },
   "outputs": [],
   "source": [
    "#!/usr/bin/python\n",
    "%matplotlib inline\n",
    "\n",
    "import sys\n",
    "import pickle\n",
    "import pandas as pd\n",
    "sys.path.append(\"../tools/\")\n",
    "import matplotlib.pyplot as plt\n",
    "from tester import test_classifier\n",
    "from feature_format import featureFormat, targetFeatureSplit\n",
    "from tester import dump_classifier_and_data\n",
    "from sklearn.cross_validation import train_test_split\n",
    "from sklearn.naive_bayes import GaussianNB\n",
    "from sklearn import svm\n",
    "from sklearn import tree\n",
    "from sklearn.metrics import accuracy_score\n",
    "\n",
    "\n",
    "### Load the dictionary containing the dataset\n",
    "with open(\"final_project_dataset.pkl\", \"r\") as data_file:\n",
    "    data_dict = pickle.load(data_file)"
   ]
  },
  {
   "cell_type": "markdown",
   "metadata": {},
   "source": [
    "<h3> Basic Analysis </h3>"
   ]
  },
  {
   "cell_type": "code",
   "execution_count": 28,
   "metadata": {
    "collapsed": false
   },
   "outputs": [],
   "source": [
    "dataset = data_dict"
   ]
  },
  {
   "cell_type": "code",
   "execution_count": 29,
   "metadata": {
    "collapsed": false
   },
   "outputs": [
    {
     "data": {
      "text/plain": [
       "146"
      ]
     },
     "execution_count": 29,
     "metadata": {},
     "output_type": "execute_result"
    }
   ],
   "source": [
    "#There are 146 total people in the dataset\n",
    "len(dataset)"
   ]
  },
  {
   "cell_type": "code",
   "execution_count": 30,
   "metadata": {
    "collapsed": false
   },
   "outputs": [
    {
     "name": "stdout",
     "output_type": "stream",
     "text": [
      "{'salary': 1072321, 'to_messages': 4273, 'deferral_payments': 202911, 'total_payments': 103559793, 'exercised_stock_options': 34348384, 'bonus': 7000000, 'restricted_stock': 14761694, 'shared_receipt_with_poi': 2411, 'restricted_stock_deferred': 'NaN', 'total_stock_value': 49110078, 'expenses': 99832, 'loan_advances': 81525000, 'from_messages': 36, 'other': 10359729, 'from_this_person_to_poi': 16, 'poi': True, 'director_fees': 'NaN', 'deferred_income': -300000, 'long_term_incentive': 3600000, 'email_address': 'kenneth.lay@enron.com', 'from_poi_to_this_person': 123}\n"
     ]
    }
   ],
   "source": [
    "#Famous Enron poi\n",
    "print dataset['LAY KENNETH L']"
   ]
  },
  {
   "cell_type": "code",
   "execution_count": 31,
   "metadata": {
    "collapsed": false
   },
   "outputs": [
    {
     "name": "stdout",
     "output_type": "stream",
     "text": [
      "{'salary': 365788, 'to_messages': 807, 'deferral_payments': 'NaN', 'total_payments': 1061827, 'exercised_stock_options': 'NaN', 'bonus': 600000, 'restricted_stock': 585062, 'shared_receipt_with_poi': 702, 'restricted_stock_deferred': 'NaN', 'total_stock_value': 585062, 'expenses': 94299, 'loan_advances': 'NaN', 'from_messages': 29, 'other': 1740, 'from_this_person_to_poi': 1, 'poi': False, 'director_fees': 'NaN', 'deferred_income': 'NaN', 'long_term_incentive': 'NaN', 'email_address': 'mark.metts@enron.com', 'from_poi_to_this_person': 38}\n"
     ]
    }
   ],
   "source": [
    "#Compared to average employee\n",
    "print dataset['METTS MARK']"
   ]
  },
  {
   "cell_type": "code",
   "execution_count": 32,
   "metadata": {
    "collapsed": true
   },
   "outputs": [],
   "source": [
    "#As a starting point we will include all of the features in our list\n",
    "features_list = ['poi', 'bonus', 'deferred_income', 'director_fees',\n",
    " 'exercised_stock_options', 'expenses', 'from_messages',\n",
    " 'from_poi_to_this_person', 'from_this_person_to_poi', 'loan_advances',\n",
    " 'long_term_incentive', 'other', 'restricted_stock',\n",
    " 'restricted_stock_deferred', 'salary', 'shared_receipt_with_poi', 'to_messages',\n",
    "'total_payments', 'total_stock_value']"
   ]
  },
  {
   "cell_type": "code",
   "execution_count": 33,
   "metadata": {
    "collapsed": false
   },
   "outputs": [],
   "source": [
    "#Here we convert our data to a pandas dataframe, which makes it wasier ot work with\n",
    "enron_data = pd.DataFrame(dataset)\n",
    "\n",
    "#Transpose our data to turn names of employees into rows and attributes into columns\n",
    "enron_data = enron_data.transpose()"
   ]
  },
  {
   "cell_type": "code",
   "execution_count": 34,
   "metadata": {
    "collapsed": false
   },
   "outputs": [
    {
     "data": {
      "text/plain": [
       "{'bonus': 'NaN',\n",
       " 'deferral_payments': 'NaN',\n",
       " 'deferred_income': 'NaN',\n",
       " 'director_fees': 'NaN',\n",
       " 'email_address': 'NaN',\n",
       " 'exercised_stock_options': 'NaN',\n",
       " 'expenses': 'NaN',\n",
       " 'from_messages': 'NaN',\n",
       " 'from_poi_to_this_person': 'NaN',\n",
       " 'from_this_person_to_poi': 'NaN',\n",
       " 'loan_advances': 'NaN',\n",
       " 'long_term_incentive': 'NaN',\n",
       " 'other': 362096,\n",
       " 'poi': False,\n",
       " 'restricted_stock': 'NaN',\n",
       " 'restricted_stock_deferred': 'NaN',\n",
       " 'salary': 'NaN',\n",
       " 'shared_receipt_with_poi': 'NaN',\n",
       " 'to_messages': 'NaN',\n",
       " 'total_payments': 362096,\n",
       " 'total_stock_value': 'NaN'}"
      ]
     },
     "execution_count": 34,
     "metadata": {},
     "output_type": "execute_result"
    }
   ],
   "source": [
    "# Remove errors, these obviously dont belong in this dataset\n",
    "dataset.pop('TOTAL', 0)\n",
    "dataset.pop('THE TRAVEL AGENCY IN THE PARK', 0)"
   ]
  },
  {
   "cell_type": "code",
   "execution_count": 35,
   "metadata": {
    "collapsed": false
   },
   "outputs": [
    {
     "name": "stdout",
     "output_type": "stream",
     "text": [
      "['bonus' 'deferral_payments' 'deferred_income' 'director_fees'\n",
      " 'email_address' 'exercised_stock_options' 'expenses' 'from_messages'\n",
      " 'from_poi_to_this_person' 'from_this_person_to_poi' 'loan_advances'\n",
      " 'long_term_incentive' 'other' 'poi' 'restricted_stock'\n",
      " 'restricted_stock_deferred' 'salary' 'shared_receipt_with_poi'\n",
      " 'to_messages' 'total_payments' 'total_stock_value']\n",
      "Total Number of Features:  21\n"
     ]
    }
   ],
   "source": [
    "print enron_data.columns.values\n",
    "print \"Total Number of Features: \", len(enron_data.columns.values)"
   ]
  },
  {
   "cell_type": "markdown",
   "metadata": {},
   "source": [
    "<h4> Counting NaN Values </h4>"
   ]
  },
  {
   "cell_type": "code",
   "execution_count": 36,
   "metadata": {
    "collapsed": false
   },
   "outputs": [
    {
     "name": "stdout",
     "output_type": "stream",
     "text": [
      "bonus\n",
      "64\n",
      "deferral_payments\n",
      "107\n",
      "deferred_income\n",
      "97\n",
      "director_fees\n",
      "129\n",
      "email_address\n",
      "35\n",
      "exercised_stock_options\n",
      "44\n",
      "expenses\n",
      "51\n",
      "from_messages\n",
      "60\n",
      "from_poi_to_this_person\n",
      "60\n",
      "from_this_person_to_poi\n",
      "60\n",
      "loan_advances\n",
      "142\n",
      "long_term_incentive\n",
      "80\n",
      "other\n",
      "53\n",
      "poi\n",
      "0\n",
      "restricted_stock\n",
      "36\n",
      "restricted_stock_deferred\n",
      "128\n",
      "salary\n",
      "51\n",
      "shared_receipt_with_poi\n",
      "60\n",
      "to_messages\n",
      "60\n",
      "total_payments\n",
      "21\n",
      "total_stock_value\n",
      "20\n"
     ]
    }
   ],
   "source": [
    "columns = []\n",
    "\n",
    "for i in enron_data.columns.values:\n",
    "    columns.append(i)\n",
    "\n",
    "\n",
    "for i in columns:\n",
    "    print i\n",
    "    print enron_data[enron_data[i]==\"NaN\"].count()[i]"
   ]
  },
  {
   "cell_type": "code",
   "execution_count": 37,
   "metadata": {
    "collapsed": false
   },
   "outputs": [
    {
     "name": "stdout",
     "output_type": "stream",
     "text": [
      "BELDEN TIMOTHY N        True\n",
      "BOWEN JR RAYMOND M      True\n",
      "CALGER CHRISTOPHER F    True\n",
      "CAUSEY RICHARD A        True\n",
      "COLWELL WESLEY          True\n",
      "DELAINEY DAVID W        True\n",
      "FASTOW ANDREW S         True\n",
      "GLISAN JR BEN F         True\n",
      "HANNON KEVIN P          True\n",
      "HIRKO JOSEPH            True\n",
      "KOENIG MARK E           True\n",
      "KOPPER MICHAEL J        True\n",
      "LAY KENNETH L           True\n",
      "RICE KENNETH D          True\n",
      "RIEKER PAULA H          True\n",
      "SHELBY REX              True\n",
      "SKILLING JEFFREY K      True\n",
      "YEAGER F SCOTT          True\n",
      "Name: poi, dtype: object\n"
     ]
    }
   ],
   "source": [
    "#Here we see that the names of people categorized as POI. There are only 18 POIs.\n",
    "print enron_data[enron_data['poi']==True]['poi']"
   ]
  },
  {
   "cell_type": "code",
   "execution_count": 38,
   "metadata": {
    "collapsed": false
   },
   "outputs": [
    {
     "name": "stdout",
     "output_type": "stream",
     "text": [
      "                        bonus deferral_payments deferred_income director_fees  \\\n",
      "BELDEN TIMOTHY N      5249999           2144013        -2334434           NaN   \n",
      "BOWEN JR RAYMOND M    1350000               NaN            -833           NaN   \n",
      "CALGER CHRISTOPHER F  1250000               NaN         -262500           NaN   \n",
      "CAUSEY RICHARD A      1000000               NaN         -235000           NaN   \n",
      "COLWELL WESLEY        1200000             27610         -144062           NaN   \n",
      "DELAINEY DAVID W      3000000               NaN             NaN           NaN   \n",
      "FASTOW ANDREW S       1300000               NaN        -1386055           NaN   \n",
      "GLISAN JR BEN F        600000               NaN             NaN           NaN   \n",
      "HANNON KEVIN P        1500000               NaN        -3117011           NaN   \n",
      "HIRKO JOSEPH              NaN             10259             NaN           NaN   \n",
      "KOENIG MARK E          700000               NaN             NaN           NaN   \n",
      "KOPPER MICHAEL J       800000               NaN             NaN           NaN   \n",
      "LAY KENNETH L         7000000            202911         -300000           NaN   \n",
      "RICE KENNETH D        1750000               NaN        -3504386           NaN   \n",
      "RIEKER PAULA H         700000            214678         -100000           NaN   \n",
      "SHELBY REX             200000               NaN           -4167           NaN   \n",
      "SKILLING JEFFREY K    5600000               NaN             NaN           NaN   \n",
      "YEAGER F SCOTT            NaN               NaN             NaN           NaN   \n",
      "\n",
      "                                     email_address exercised_stock_options  \\\n",
      "BELDEN TIMOTHY N              tim.belden@enron.com                  953136   \n",
      "BOWEN JR RAYMOND M         raymond.bowen@enron.com                     NaN   \n",
      "CALGER CHRISTOPHER F  christopher.calger@enron.com                     NaN   \n",
      "CAUSEY RICHARD A          richard.causey@enron.com                     NaN   \n",
      "COLWELL WESLEY               wes.colwell@enron.com                     NaN   \n",
      "DELAINEY DAVID W          david.delainey@enron.com                 2291113   \n",
      "FASTOW ANDREW S            andrew.fastow@enron.com                     NaN   \n",
      "GLISAN JR BEN F               ben.glisan@enron.com                  384728   \n",
      "HANNON KEVIN P              kevin.hannon@enron.com                 5538001   \n",
      "HIRKO JOSEPH                   joe.hirko@enron.com                30766064   \n",
      "KOENIG MARK E                mark.koenig@enron.com                  671737   \n",
      "KOPPER MICHAEL J          michael.kopper@enron.com                     NaN   \n",
      "LAY KENNETH L                kenneth.lay@enron.com                34348384   \n",
      "RICE KENNETH D                  ken.rice@enron.com                19794175   \n",
      "RIEKER PAULA H              paula.rieker@enron.com                 1635238   \n",
      "SHELBY REX                    rex.shelby@enron.com                 1624396   \n",
      "SKILLING JEFFREY K         jeff.skilling@enron.com                19250000   \n",
      "YEAGER F SCOTT              scott.yeager@enron.com                 8308552   \n",
      "\n",
      "                     expenses from_messages from_poi_to_this_person  \\\n",
      "BELDEN TIMOTHY N        17355           484                     228   \n",
      "BOWEN JR RAYMOND M      65907            27                     140   \n",
      "CALGER CHRISTOPHER F    35818           144                     199   \n",
      "CAUSEY RICHARD A        30674            49                      58   \n",
      "COLWELL WESLEY          16514            40                     240   \n",
      "DELAINEY DAVID W        86174          3069                      66   \n",
      "FASTOW ANDREW S         55921           NaN                     NaN   \n",
      "GLISAN JR BEN F        125978            16                      52   \n",
      "HANNON KEVIN P          34039            32                      32   \n",
      "HIRKO JOSEPH            77978           NaN                     NaN   \n",
      "KOENIG MARK E          127017            61                      53   \n",
      "KOPPER MICHAEL J       118134           NaN                     NaN   \n",
      "LAY KENNETH L           99832            36                     123   \n",
      "RICE KENNETH D          46950            18                      42   \n",
      "RIEKER PAULA H          33271            82                      35   \n",
      "SHELBY REX              22884            39                      13   \n",
      "SKILLING JEFFREY K      29336           108                      88   \n",
      "YEAGER F SCOTT          53947           NaN                     NaN   \n",
      "\n",
      "                     from_this_person_to_poi        ...         \\\n",
      "BELDEN TIMOTHY N                         108        ...          \n",
      "BOWEN JR RAYMOND M                        15        ...          \n",
      "CALGER CHRISTOPHER F                      25        ...          \n",
      "CAUSEY RICHARD A                          12        ...          \n",
      "COLWELL WESLEY                            11        ...          \n",
      "DELAINEY DAVID W                         609        ...          \n",
      "FASTOW ANDREW S                          NaN        ...          \n",
      "GLISAN JR BEN F                            6        ...          \n",
      "HANNON KEVIN P                            21        ...          \n",
      "HIRKO JOSEPH                             NaN        ...          \n",
      "KOENIG MARK E                             15        ...          \n",
      "KOPPER MICHAEL J                         NaN        ...          \n",
      "LAY KENNETH L                             16        ...          \n",
      "RICE KENNETH D                             4        ...          \n",
      "RIEKER PAULA H                            48        ...          \n",
      "SHELBY REX                                14        ...          \n",
      "SKILLING JEFFREY K                        30        ...          \n",
      "YEAGER F SCOTT                           NaN        ...          \n",
      "\n",
      "                     long_term_incentive     other   poi restricted_stock  \\\n",
      "BELDEN TIMOTHY N                     NaN    210698  True           157569   \n",
      "BOWEN JR RAYMOND M                974293      1621  True           252055   \n",
      "CALGER CHRISTOPHER F              375304       486  True           126027   \n",
      "CAUSEY RICHARD A                  350000    307895  True          2502063   \n",
      "COLWELL WESLEY                       NaN    101740  True           698242   \n",
      "DELAINEY DAVID W                 1294981      1661  True          1323148   \n",
      "FASTOW ANDREW S                  1736055    277464  True          1794412   \n",
      "GLISAN JR BEN F                    71023    200308  True           393818   \n",
      "HANNON KEVIN P                   1617011     11350  True           853064   \n",
      "HIRKO JOSEPH                         NaN      2856  True              NaN   \n",
      "KOENIG MARK E                     300000    150458  True          1248318   \n",
      "KOPPER MICHAEL J                  602671    907502  True           985032   \n",
      "LAY KENNETH L                    3600000  10359729  True         14761694   \n",
      "RICE KENNETH D                   1617011    174839  True          2748364   \n",
      "RIEKER PAULA H                       NaN      1950  True           283649   \n",
      "SHELBY REX                           NaN   1573324  True           869220   \n",
      "SKILLING JEFFREY K               1920000     22122  True          6843672   \n",
      "YEAGER F SCOTT                       NaN    147950  True          3576206   \n",
      "\n",
      "                     restricted_stock_deferred   salary  \\\n",
      "BELDEN TIMOTHY N                           NaN   213999   \n",
      "BOWEN JR RAYMOND M                         NaN   278601   \n",
      "CALGER CHRISTOPHER F                       NaN   240189   \n",
      "CAUSEY RICHARD A                           NaN   415189   \n",
      "COLWELL WESLEY                             NaN   288542   \n",
      "DELAINEY DAVID W                           NaN   365163   \n",
      "FASTOW ANDREW S                            NaN   440698   \n",
      "GLISAN JR BEN F                            NaN   274975   \n",
      "HANNON KEVIN P                             NaN   243293   \n",
      "HIRKO JOSEPH                               NaN      NaN   \n",
      "KOENIG MARK E                              NaN   309946   \n",
      "KOPPER MICHAEL J                           NaN   224305   \n",
      "LAY KENNETH L                              NaN  1072321   \n",
      "RICE KENNETH D                             NaN   420636   \n",
      "RIEKER PAULA H                             NaN   249201   \n",
      "SHELBY REX                                 NaN   211844   \n",
      "SKILLING JEFFREY K                         NaN  1111258   \n",
      "YEAGER F SCOTT                             NaN   158403   \n",
      "\n",
      "                     shared_receipt_with_poi to_messages total_payments  \\\n",
      "BELDEN TIMOTHY N                        5521        7991        5501630   \n",
      "BOWEN JR RAYMOND M                      1593        1858        2669589   \n",
      "CALGER CHRISTOPHER F                    2188        2598        1639297   \n",
      "CAUSEY RICHARD A                        1585        1892        1868758   \n",
      "COLWELL WESLEY                          1132        1758        1490344   \n",
      "DELAINEY DAVID W                        2097        3093        4747979   \n",
      "FASTOW ANDREW S                          NaN         NaN        2424083   \n",
      "GLISAN JR BEN F                          874         873        1272284   \n",
      "HANNON KEVIN P                          1035        1045         288682   \n",
      "HIRKO JOSEPH                             NaN         NaN          91093   \n",
      "KOENIG MARK E                           2271        2374        1587421   \n",
      "KOPPER MICHAEL J                         NaN         NaN        2652612   \n",
      "LAY KENNETH L                           2411        4273      103559793   \n",
      "RICE KENNETH D                           864         905         505050   \n",
      "RIEKER PAULA H                          1258        1328        1099100   \n",
      "SHELBY REX                                91         225        2003885   \n",
      "SKILLING JEFFREY K                      2042        3627        8682716   \n",
      "YEAGER F SCOTT                           NaN         NaN         360300   \n",
      "\n",
      "                     total_stock_value  \n",
      "BELDEN TIMOTHY N               1110705  \n",
      "BOWEN JR RAYMOND M              252055  \n",
      "CALGER CHRISTOPHER F            126027  \n",
      "CAUSEY RICHARD A               2502063  \n",
      "COLWELL WESLEY                  698242  \n",
      "DELAINEY DAVID W               3614261  \n",
      "FASTOW ANDREW S                1794412  \n",
      "GLISAN JR BEN F                 778546  \n",
      "HANNON KEVIN P                 6391065  \n",
      "HIRKO JOSEPH                  30766064  \n",
      "KOENIG MARK E                  1920055  \n",
      "KOPPER MICHAEL J                985032  \n",
      "LAY KENNETH L                 49110078  \n",
      "RICE KENNETH D                22542539  \n",
      "RIEKER PAULA H                 1918887  \n",
      "SHELBY REX                     2493616  \n",
      "SKILLING JEFFREY K            26093672  \n",
      "YEAGER F SCOTT                11884758  \n",
      "\n",
      "[18 rows x 21 columns]\n"
     ]
    }
   ],
   "source": [
    "#Lets manually look at POIs to see if we can get any insights.\n",
    "print enron_data[enron_data['poi']==True]"
   ]
  },
  {
   "cell_type": "markdown",
   "metadata": {},
   "source": [
    "<h4>Basic Observations: </h4>\n",
    "<br>\n",
    "None of the POIs have a director fee. Most of them have a bonus. None of them had restricted_stock_deferred, but going back to our previous cell we see that there were 128 NaN values for that column so this doesnt really tell us much. They seem to have a high shared receipt with POI. They also seem to have fairly high total_payments and total_stock_value"
   ]
  },
  {
   "cell_type": "code",
   "execution_count": 39,
   "metadata": {
    "collapsed": true
   },
   "outputs": [],
   "source": [
    "dataset = data_dict"
   ]
  },
  {
   "cell_type": "code",
   "execution_count": 40,
   "metadata": {
    "collapsed": false
   },
   "outputs": [],
   "source": [
    "#Create new feature\n",
    "for k, v in dataset.iteritems():\n",
    "    if v['bonus'] > 8000000:\n",
    "        dataset.update({ k: {\"Unusually_High_Bonus\":\"True\"}})\n",
    "#     else:\n",
    "#         dataset.update({ k : {\"Unusually_High_Bonus\":\"False\"}})\n",
    "\n",
    "\n",
    "\n",
    "\n"
   ]
  },
  {
   "cell_type": "code",
   "execution_count": null,
   "metadata": {
    "collapsed": true
   },
   "outputs": [],
   "source": []
  },
  {
   "cell_type": "code",
   "execution_count": 41,
   "metadata": {
    "collapsed": false
   },
   "outputs": [
    {
     "name": "stdout",
     "output_type": "stream",
     "text": [
      "{'METTS MARK': {'salary': 365788, 'to_messages': 807, 'deferral_payments': 'NaN', 'total_payments': 1061827, 'exercised_stock_options': 'NaN', 'bonus': 600000, 'restricted_stock': 585062, 'shared_receipt_with_poi': 702, 'restricted_stock_deferred': 'NaN', 'total_stock_value': 585062, 'expenses': 94299, 'loan_advances': 'NaN', 'from_messages': 29, 'other': 1740, 'from_this_person_to_poi': 1, 'poi': False, 'director_fees': 'NaN', 'deferred_income': 'NaN', 'long_term_incentive': 'NaN', 'email_address': 'mark.metts@enron.com', 'from_poi_to_this_person': 38}, 'BAXTER JOHN C': {'salary': 267102, 'to_messages': 'NaN', 'deferral_payments': 1295738, 'total_payments': 5634343, 'exercised_stock_options': 6680544, 'bonus': 1200000, 'restricted_stock': 3942714, 'shared_receipt_with_poi': 'NaN', 'restricted_stock_deferred': 'NaN', 'total_stock_value': 10623258, 'expenses': 11200, 'loan_advances': 'NaN', 'from_messages': 'NaN', 'other': 2660303, 'from_this_person_to_poi': 'NaN', 'poi': False, 'director_fees': 'NaN', 'deferred_income': -1386055, 'long_term_incentive': 1586055, 'email_address': 'NaN', 'from_poi_to_this_person': 'NaN'}, 'ELLIOTT STEVEN': {'salary': 170941, 'to_messages': 'NaN', 'deferral_payments': 'NaN', 'total_payments': 211725, 'exercised_stock_options': 4890344, 'bonus': 350000, 'restricted_stock': 1788391, 'shared_receipt_with_poi': 'NaN', 'restricted_stock_deferred': 'NaN', 'total_stock_value': 6678735, 'expenses': 78552, 'loan_advances': 'NaN', 'from_messages': 'NaN', 'other': 12961, 'from_this_person_to_poi': 'NaN', 'poi': False, 'director_fees': 'NaN', 'deferred_income': -400729, 'long_term_incentive': 'NaN', 'email_address': 'steven.elliott@enron.com', 'from_poi_to_this_person': 'NaN'}, 'CORDES WILLIAM R': {'Unusually_High_Bonus': 'True'}, 'HANNON KEVIN P': {'salary': 243293, 'to_messages': 1045, 'deferral_payments': 'NaN', 'total_payments': 288682, 'exercised_stock_options': 5538001, 'bonus': 1500000, 'restricted_stock': 853064, 'shared_receipt_with_poi': 1035, 'restricted_stock_deferred': 'NaN', 'total_stock_value': 6391065, 'expenses': 34039, 'loan_advances': 'NaN', 'from_messages': 32, 'other': 11350, 'from_this_person_to_poi': 21, 'poi': True, 'director_fees': 'NaN', 'deferred_income': -3117011, 'long_term_incentive': 1617011, 'email_address': 'kevin.hannon@enron.com', 'from_poi_to_this_person': 32}, 'MORDAUNT KRISTINA M': {'salary': 267093, 'to_messages': 'NaN', 'deferral_payments': 'NaN', 'total_payments': 628522, 'exercised_stock_options': 'NaN', 'bonus': 325000, 'restricted_stock': 208510, 'shared_receipt_with_poi': 'NaN', 'restricted_stock_deferred': 'NaN', 'total_stock_value': 208510, 'expenses': 35018, 'loan_advances': 'NaN', 'from_messages': 'NaN', 'other': 1411, 'from_this_person_to_poi': 'NaN', 'poi': False, 'director_fees': 'NaN', 'deferred_income': 'NaN', 'long_term_incentive': 'NaN', 'email_address': 'kristina.mordaunt@enron.com', 'from_poi_to_this_person': 'NaN'}, 'MEYER ROCKFORD G': {'Unusually_High_Bonus': 'True'}, 'MCMAHON JEFFREY': {'salary': 370448, 'to_messages': 2355, 'deferral_payments': 'NaN', 'total_payments': 4099771, 'exercised_stock_options': 1104054, 'bonus': 2600000, 'restricted_stock': 558801, 'shared_receipt_with_poi': 2228, 'restricted_stock_deferred': 'NaN', 'total_stock_value': 1662855, 'expenses': 137108, 'loan_advances': 'NaN', 'from_messages': 48, 'other': 297353, 'from_this_person_to_poi': 26, 'poi': False, 'director_fees': 'NaN', 'deferred_income': 'NaN', 'long_term_incentive': 694862, 'email_address': 'jeffrey.mcmahon@enron.com', 'from_poi_to_this_person': 58}, 'HORTON STANLEY C': {'Unusually_High_Bonus': 'True'}, 'PIPER GREGORY F': {'salary': 197091, 'to_messages': 1238, 'deferral_payments': 1130036, 'total_payments': 1737629, 'exercised_stock_options': 880290, 'bonus': 400000, 'restricted_stock': 409554, 'shared_receipt_with_poi': 742, 'restricted_stock_deferred': -409554, 'total_stock_value': 880290, 'expenses': 43057, 'loan_advances': 'NaN', 'from_messages': 222, 'other': 778, 'from_this_person_to_poi': 48, 'poi': False, 'director_fees': 'NaN', 'deferred_income': -33333, 'long_term_incentive': 'NaN', 'email_address': 'greg.piper@enron.com', 'from_poi_to_this_person': 61}, 'HUMPHREY GENE E': {'Unusually_High_Bonus': 'True'}, 'UMANOFF ADAM S': {'salary': 288589, 'to_messages': 111, 'deferral_payments': 'NaN', 'total_payments': 1130461, 'exercised_stock_options': 'NaN', 'bonus': 788750, 'restricted_stock': 'NaN', 'shared_receipt_with_poi': 41, 'restricted_stock_deferred': 'NaN', 'total_stock_value': 'NaN', 'expenses': 53122, 'loan_advances': 'NaN', 'from_messages': 18, 'other': 'NaN', 'from_this_person_to_poi': 0, 'poi': False, 'director_fees': 'NaN', 'deferred_income': 'NaN', 'long_term_incentive': 'NaN', 'email_address': 'adam.umanoff@enron.com', 'from_poi_to_this_person': 12}, 'BLACHMAN JEREMY M': {'salary': 248546, 'to_messages': 2475, 'deferral_payments': 'NaN', 'total_payments': 2014835, 'exercised_stock_options': 765313, 'bonus': 850000, 'restricted_stock': 189041, 'shared_receipt_with_poi': 2326, 'restricted_stock_deferred': 'NaN', 'total_stock_value': 954354, 'expenses': 84208, 'loan_advances': 'NaN', 'from_messages': 14, 'other': 272, 'from_this_person_to_poi': 2, 'poi': False, 'director_fees': 'NaN', 'deferred_income': 'NaN', 'long_term_incentive': 831809, 'email_address': 'jeremy.blachman@enron.com', 'from_poi_to_this_person': 25}, 'SUNDE MARTIN': {'salary': 257486, 'to_messages': 2647, 'deferral_payments': 'NaN', 'total_payments': 1545059, 'exercised_stock_options': 'NaN', 'bonus': 700000, 'restricted_stock': 698920, 'shared_receipt_with_poi': 2565, 'restricted_stock_deferred': 'NaN', 'total_stock_value': 698920, 'expenses': 'NaN', 'loan_advances': 'NaN', 'from_messages': 38, 'other': 111122, 'from_this_person_to_poi': 13, 'poi': False, 'director_fees': 'NaN', 'deferred_income': 'NaN', 'long_term_incentive': 476451, 'email_address': 'marty.sunde@enron.com', 'from_poi_to_this_person': 37}, 'GIBBS DANA R': {'Unusually_High_Bonus': 'True'}, 'LOWRY CHARLES P': {'Unusually_High_Bonus': 'True'}, 'COLWELL WESLEY': {'salary': 288542, 'to_messages': 1758, 'deferral_payments': 27610, 'total_payments': 1490344, 'exercised_stock_options': 'NaN', 'bonus': 1200000, 'restricted_stock': 698242, 'shared_receipt_with_poi': 1132, 'restricted_stock_deferred': 'NaN', 'total_stock_value': 698242, 'expenses': 16514, 'loan_advances': 'NaN', 'from_messages': 40, 'other': 101740, 'from_this_person_to_poi': 11, 'poi': True, 'director_fees': 'NaN', 'deferred_income': -144062, 'long_term_incentive': 'NaN', 'email_address': 'wes.colwell@enron.com', 'from_poi_to_this_person': 240}, 'MULLER MARK S': {'salary': 251654, 'to_messages': 136, 'deferral_payments': 842924, 'total_payments': 3202070, 'exercised_stock_options': 1056320, 'bonus': 1100000, 'restricted_stock': 360528, 'shared_receipt_with_poi': 114, 'restricted_stock_deferred': 'NaN', 'total_stock_value': 1416848, 'expenses': 'NaN', 'loan_advances': 'NaN', 'from_messages': 16, 'other': 947, 'from_this_person_to_poi': 0, 'poi': False, 'director_fees': 'NaN', 'deferred_income': -719000, 'long_term_incentive': 1725545, 'email_address': 's..muller@enron.com', 'from_poi_to_this_person': 12}, 'JACKSON CHARLENE R': {'salary': 288558, 'to_messages': 258, 'deferral_payments': 'NaN', 'total_payments': 551174, 'exercised_stock_options': 185063, 'bonus': 250000, 'restricted_stock': 540672, 'shared_receipt_with_poi': 117, 'restricted_stock_deferred': 'NaN', 'total_stock_value': 725735, 'expenses': 10181, 'loan_advances': 'NaN', 'from_messages': 56, 'other': 2435, 'from_this_person_to_poi': 19, 'poi': False, 'director_fees': 'NaN', 'deferred_income': 'NaN', 'long_term_incentive': 'NaN', 'email_address': 'charlene.jackson@enron.com', 'from_poi_to_this_person': 25}, 'WESTFAHL RICHARD K': {'Unusually_High_Bonus': 'True'}, 'WALTERS GARETH W': {'Unusually_High_Bonus': 'True'}, 'WALLS JR ROBERT H': {'salary': 357091, 'to_messages': 671, 'deferral_payments': 'NaN', 'total_payments': 1798780, 'exercised_stock_options': 4346544, 'bonus': 850000, 'restricted_stock': 1552453, 'shared_receipt_with_poi': 215, 'restricted_stock_deferred': 'NaN', 'total_stock_value': 5898997, 'expenses': 50936, 'loan_advances': 'NaN', 'from_messages': 146, 'other': 2, 'from_this_person_to_poi': 0, 'poi': False, 'director_fees': 'NaN', 'deferred_income': 'NaN', 'long_term_incentive': 540751, 'email_address': 'rob.walls@enron.com', 'from_poi_to_this_person': 17}, 'KITCHEN LOUISE': {'salary': 271442, 'to_messages': 8305, 'deferral_payments': 'NaN', 'total_payments': 3471141, 'exercised_stock_options': 81042, 'bonus': 3100000, 'restricted_stock': 466101, 'shared_receipt_with_poi': 3669, 'restricted_stock_deferred': 'NaN', 'total_stock_value': 547143, 'expenses': 5774, 'loan_advances': 'NaN', 'from_messages': 1728, 'other': 93925, 'from_this_person_to_poi': 194, 'poi': False, 'director_fees': 'NaN', 'deferred_income': 'NaN', 'long_term_incentive': 'NaN', 'email_address': 'louise.kitchen@enron.com', 'from_poi_to_this_person': 251}, 'CHAN RONNIE': {'Unusually_High_Bonus': 'True'}, 'BELFER ROBERT': {'Unusually_High_Bonus': 'True'}, 'SHANKMAN JEFFREY A': {'salary': 304110, 'to_messages': 3221, 'deferral_payments': 'NaN', 'total_payments': 3038702, 'exercised_stock_options': 1441898, 'bonus': 2000000, 'restricted_stock': 630137, 'shared_receipt_with_poi': 1730, 'restricted_stock_deferred': 'NaN', 'total_stock_value': 2072035, 'expenses': 178979, 'loan_advances': 'NaN', 'from_messages': 2681, 'other': 1191, 'from_this_person_to_poi': 83, 'poi': False, 'director_fees': 'NaN', 'deferred_income': 'NaN', 'long_term_incentive': 554422, 'email_address': 'jeffrey.shankman@enron.com', 'from_poi_to_this_person': 94}, 'WODRASKA JOHN': {'Unusually_High_Bonus': 'True'}, 'BERGSIEKER RICHARD P': {'salary': 187922, 'to_messages': 383, 'deferral_payments': 'NaN', 'total_payments': 618850, 'exercised_stock_options': 'NaN', 'bonus': 250000, 'restricted_stock': 659249, 'shared_receipt_with_poi': 233, 'restricted_stock_deferred': 'NaN', 'total_stock_value': 659249, 'expenses': 59175, 'loan_advances': 'NaN', 'from_messages': 59, 'other': 427316, 'from_this_person_to_poi': 0, 'poi': False, 'director_fees': 'NaN', 'deferred_income': -485813, 'long_term_incentive': 180250, 'email_address': 'rick.bergsieker@enron.com', 'from_poi_to_this_person': 4}, 'URQUHART JOHN A': {'Unusually_High_Bonus': 'True'}, 'BIBI PHILIPPE A': {'salary': 213625, 'to_messages': 1607, 'deferral_payments': 'NaN', 'total_payments': 2047593, 'exercised_stock_options': 1465734, 'bonus': 1000000, 'restricted_stock': 378082, 'shared_receipt_with_poi': 1336, 'restricted_stock_deferred': 'NaN', 'total_stock_value': 1843816, 'expenses': 38559, 'loan_advances': 'NaN', 'from_messages': 40, 'other': 425688, 'from_this_person_to_poi': 8, 'poi': False, 'director_fees': 'NaN', 'deferred_income': 'NaN', 'long_term_incentive': 369721, 'email_address': 'philippe.bibi@enron.com', 'from_poi_to_this_person': 23}, 'RIEKER PAULA H': {'salary': 249201, 'to_messages': 1328, 'deferral_payments': 214678, 'total_payments': 1099100, 'exercised_stock_options': 1635238, 'bonus': 700000, 'restricted_stock': 283649, 'shared_receipt_with_poi': 1258, 'restricted_stock_deferred': 'NaN', 'total_stock_value': 1918887, 'expenses': 33271, 'loan_advances': 'NaN', 'from_messages': 82, 'other': 1950, 'from_this_person_to_poi': 48, 'poi': True, 'director_fees': 'NaN', 'deferred_income': -100000, 'long_term_incentive': 'NaN', 'email_address': 'paula.rieker@enron.com', 'from_poi_to_this_person': 35}, 'WHALEY DAVID A': {'Unusually_High_Bonus': 'True'}, 'BECK SALLY W': {'salary': 231330, 'to_messages': 7315, 'deferral_payments': 'NaN', 'total_payments': 969068, 'exercised_stock_options': 'NaN', 'bonus': 700000, 'restricted_stock': 126027, 'shared_receipt_with_poi': 2639, 'restricted_stock_deferred': 'NaN', 'total_stock_value': 126027, 'expenses': 37172, 'loan_advances': 'NaN', 'from_messages': 4343, 'other': 566, 'from_this_person_to_poi': 386, 'poi': False, 'director_fees': 'NaN', 'deferred_income': 'NaN', 'long_term_incentive': 'NaN', 'email_address': 'sally.beck@enron.com', 'from_poi_to_this_person': 144}, 'HAUG DAVID L': {'Unusually_High_Bonus': 'True'}, 'ECHOLS JOHN B': {'salary': 182245, 'to_messages': 'NaN', 'deferral_payments': 'NaN', 'total_payments': 2692324, 'exercised_stock_options': 601438, 'bonus': 200000, 'restricted_stock': 407503, 'shared_receipt_with_poi': 'NaN', 'restricted_stock_deferred': 'NaN', 'total_stock_value': 1008941, 'expenses': 21530, 'loan_advances': 'NaN', 'from_messages': 'NaN', 'other': 53775, 'from_this_person_to_poi': 'NaN', 'poi': False, 'director_fees': 'NaN', 'deferred_income': 'NaN', 'long_term_incentive': 2234774, 'email_address': 'john.echols@enron.com', 'from_poi_to_this_person': 'NaN'}, 'MENDELSOHN JOHN': {'Unusually_High_Bonus': 'True'}, 'HICKERSON GARY J': {'salary': 211788, 'to_messages': 1320, 'deferral_payments': 'NaN', 'total_payments': 2081796, 'exercised_stock_options': 'NaN', 'bonus': 1700000, 'restricted_stock': 441096, 'shared_receipt_with_poi': 900, 'restricted_stock_deferred': 'NaN', 'total_stock_value': 441096, 'expenses': 98849, 'loan_advances': 'NaN', 'from_messages': 27, 'other': 1936, 'from_this_person_to_poi': 1, 'poi': False, 'director_fees': 'NaN', 'deferred_income': 'NaN', 'long_term_incentive': 69223, 'email_address': 'gary.hickerson@enron.com', 'from_poi_to_this_person': 40}, 'CLINE KENNETH W': {'Unusually_High_Bonus': 'True'}, 'LEWIS RICHARD': {'Unusually_High_Bonus': 'True'}, 'HAYES ROBERT E': {'Unusually_High_Bonus': 'True'}, 'MCCARTY DANNY J': {'Unusually_High_Bonus': 'True'}, 'KOPPER MICHAEL J': {'salary': 224305, 'to_messages': 'NaN', 'deferral_payments': 'NaN', 'total_payments': 2652612, 'exercised_stock_options': 'NaN', 'bonus': 800000, 'restricted_stock': 985032, 'shared_receipt_with_poi': 'NaN', 'restricted_stock_deferred': 'NaN', 'total_stock_value': 985032, 'expenses': 118134, 'loan_advances': 'NaN', 'from_messages': 'NaN', 'other': 907502, 'from_this_person_to_poi': 'NaN', 'poi': True, 'director_fees': 'NaN', 'deferred_income': 'NaN', 'long_term_incentive': 602671, 'email_address': 'michael.kopper@enron.com', 'from_poi_to_this_person': 'NaN'}, 'LEFF DANIEL P': {'salary': 273746, 'to_messages': 2822, 'deferral_payments': 'NaN', 'total_payments': 2664228, 'exercised_stock_options': 'NaN', 'bonus': 1000000, 'restricted_stock': 360528, 'shared_receipt_with_poi': 2672, 'restricted_stock_deferred': 'NaN', 'total_stock_value': 360528, 'expenses': 'NaN', 'loan_advances': 'NaN', 'from_messages': 63, 'other': 3083, 'from_this_person_to_poi': 14, 'poi': False, 'director_fees': 'NaN', 'deferred_income': 'NaN', 'long_term_incentive': 1387399, 'email_address': 'dan.leff@enron.com', 'from_poi_to_this_person': 67}, 'LAVORATO JOHN J': {'salary': 339288, 'to_messages': 7259, 'deferral_payments': 'NaN', 'total_payments': 10425757, 'exercised_stock_options': 4158995, 'bonus': 8000000, 'restricted_stock': 1008149, 'shared_receipt_with_poi': 3962, 'restricted_stock_deferred': 'NaN', 'total_stock_value': 5167144, 'expenses': 49537, 'loan_advances': 'NaN', 'from_messages': 2585, 'other': 1552, 'from_this_person_to_poi': 411, 'poi': False, 'director_fees': 'NaN', 'deferred_income': 'NaN', 'long_term_incentive': 2035380, 'email_address': 'john.lavorato@enron.com', 'from_poi_to_this_person': 528}, 'BERBERIAN DAVID': {'Unusually_High_Bonus': 'True'}, 'DETMERING TIMOTHY J': {'salary': 210500, 'to_messages': 'NaN', 'deferral_payments': 875307, 'total_payments': 1204583, 'exercised_stock_options': 2027865, 'bonus': 425000, 'restricted_stock': 315068, 'shared_receipt_with_poi': 'NaN', 'restricted_stock_deferred': -315068, 'total_stock_value': 2027865, 'expenses': 52255, 'loan_advances': 'NaN', 'from_messages': 'NaN', 'other': 1105, 'from_this_person_to_poi': 'NaN', 'poi': False, 'director_fees': 'NaN', 'deferred_income': -775241, 'long_term_incentive': 415657, 'email_address': 'timothy.detmering@enron.com', 'from_poi_to_this_person': 'NaN'}, 'WAKEHAM JOHN': {'Unusually_High_Bonus': 'True'}, 'POWERS WILLIAM': {'Unusually_High_Bonus': 'True'}, 'GOLD JOSEPH': {'salary': 272880, 'to_messages': 'NaN', 'deferral_payments': 'NaN', 'total_payments': 2146973, 'exercised_stock_options': 436515, 'bonus': 750000, 'restricted_stock': 441096, 'shared_receipt_with_poi': 'NaN', 'restricted_stock_deferred': 'NaN', 'total_stock_value': 877611, 'expenses': 'NaN', 'loan_advances': 'NaN', 'from_messages': 'NaN', 'other': 819288, 'from_this_person_to_poi': 'NaN', 'poi': False, 'director_fees': 'NaN', 'deferred_income': 'NaN', 'long_term_incentive': 304805, 'email_address': 'joe.gold@enron.com', 'from_poi_to_this_person': 'NaN'}, 'BANNANTINE JAMES M': {'Unusually_High_Bonus': 'True'}, 'DUNCAN JOHN H': {'Unusually_High_Bonus': 'True'}, 'SHAPIRO RICHARD S': {'salary': 269076, 'to_messages': 15149, 'deferral_payments': 'NaN', 'total_payments': 1057548, 'exercised_stock_options': 607837, 'bonus': 650000, 'restricted_stock': 379164, 'shared_receipt_with_poi': 4527, 'restricted_stock_deferred': 'NaN', 'total_stock_value': 987001, 'expenses': 137767, 'loan_advances': 'NaN', 'from_messages': 1215, 'other': 705, 'from_this_person_to_poi': 65, 'poi': False, 'director_fees': 'NaN', 'deferred_income': 'NaN', 'long_term_incentive': 'NaN', 'email_address': 'richard.shapiro@enron.com', 'from_poi_to_this_person': 74}, 'SHERRIFF JOHN R': {'salary': 428780, 'to_messages': 3187, 'deferral_payments': 'NaN', 'total_payments': 4335388, 'exercised_stock_options': 1835558, 'bonus': 1500000, 'restricted_stock': 1293424, 'shared_receipt_with_poi': 2103, 'restricted_stock_deferred': 'NaN', 'total_stock_value': 3128982, 'expenses': 'NaN', 'loan_advances': 'NaN', 'from_messages': 92, 'other': 1852186, 'from_this_person_to_poi': 23, 'poi': False, 'director_fees': 'NaN', 'deferred_income': 'NaN', 'long_term_incentive': 554422, 'email_address': 'john.sherriff@enron.com', 'from_poi_to_this_person': 28}, 'SHELBY REX': {'salary': 211844, 'to_messages': 225, 'deferral_payments': 'NaN', 'total_payments': 2003885, 'exercised_stock_options': 1624396, 'bonus': 200000, 'restricted_stock': 869220, 'shared_receipt_with_poi': 91, 'restricted_stock_deferred': 'NaN', 'total_stock_value': 2493616, 'expenses': 22884, 'loan_advances': 'NaN', 'from_messages': 39, 'other': 1573324, 'from_this_person_to_poi': 14, 'poi': True, 'director_fees': 'NaN', 'deferred_income': -4167, 'long_term_incentive': 'NaN', 'email_address': 'rex.shelby@enron.com', 'from_poi_to_this_person': 13}, 'LEMAISTRE CHARLES': {'Unusually_High_Bonus': 'True'}, 'DEFFNER JOSEPH M': {'salary': 206121, 'to_messages': 714, 'deferral_payments': 'NaN', 'total_payments': 1208649, 'exercised_stock_options': 17378, 'bonus': 600000, 'restricted_stock': 141833, 'shared_receipt_with_poi': 552, 'restricted_stock_deferred': 'NaN', 'total_stock_value': 159211, 'expenses': 41626, 'loan_advances': 'NaN', 'from_messages': 74, 'other': 25553, 'from_this_person_to_poi': 4, 'poi': False, 'director_fees': 'NaN', 'deferred_income': 'NaN', 'long_term_incentive': 335349, 'email_address': 'joseph.deffner@enron.com', 'from_poi_to_this_person': 115}, 'KISHKILL JOSEPH G': {'Unusually_High_Bonus': 'True'}, 'WHALLEY LAWRENCE G': {'salary': 510364, 'to_messages': 6019, 'deferral_payments': 'NaN', 'total_payments': 4677574, 'exercised_stock_options': 3282960, 'bonus': 3000000, 'restricted_stock': 2796177, 'shared_receipt_with_poi': 3920, 'restricted_stock_deferred': 'NaN', 'total_stock_value': 6079137, 'expenses': 57838, 'loan_advances': 'NaN', 'from_messages': 556, 'other': 301026, 'from_this_person_to_poi': 24, 'poi': False, 'director_fees': 'NaN', 'deferred_income': 'NaN', 'long_term_incentive': 808346, 'email_address': 'greg.whalley@enron.com', 'from_poi_to_this_person': 186}, 'MCCONNELL MICHAEL S': {'salary': 365038, 'to_messages': 3329, 'deferral_payments': 'NaN', 'total_payments': 2101364, 'exercised_stock_options': 1623010, 'bonus': 1100000, 'restricted_stock': 1478269, 'shared_receipt_with_poi': 2189, 'restricted_stock_deferred': 'NaN', 'total_stock_value': 3101279, 'expenses': 81364, 'loan_advances': 'NaN', 'from_messages': 2742, 'other': 540, 'from_this_person_to_poi': 194, 'poi': False, 'director_fees': 'NaN', 'deferred_income': 'NaN', 'long_term_incentive': 554422, 'email_address': 'mike.mcconnell@enron.com', 'from_poi_to_this_person': 92}, 'PIRO JIM': {'Unusually_High_Bonus': 'True'}, 'DELAINEY DAVID W': {'salary': 365163, 'to_messages': 3093, 'deferral_payments': 'NaN', 'total_payments': 4747979, 'exercised_stock_options': 2291113, 'bonus': 3000000, 'restricted_stock': 1323148, 'shared_receipt_with_poi': 2097, 'restricted_stock_deferred': 'NaN', 'total_stock_value': 3614261, 'expenses': 86174, 'loan_advances': 'NaN', 'from_messages': 3069, 'other': 1661, 'from_this_person_to_poi': 609, 'poi': True, 'director_fees': 'NaN', 'deferred_income': 'NaN', 'long_term_incentive': 1294981, 'email_address': 'david.delainey@enron.com', 'from_poi_to_this_person': 66}, 'SULLIVAN-SHAKLOVITZ COLLEEN': {'salary': 162779, 'to_messages': 'NaN', 'deferral_payments': 181993, 'total_payments': 999356, 'exercised_stock_options': 1362375, 'bonus': 100000, 'restricted_stock': 'NaN', 'shared_receipt_with_poi': 'NaN', 'restricted_stock_deferred': 'NaN', 'total_stock_value': 1362375, 'expenses': 'NaN', 'loan_advances': 'NaN', 'from_messages': 'NaN', 'other': 162, 'from_this_person_to_poi': 'NaN', 'poi': False, 'director_fees': 'NaN', 'deferred_income': 'NaN', 'long_term_incentive': 554422, 'email_address': 'NaN', 'from_poi_to_this_person': 'NaN'}, 'WROBEL BRUCE': {'Unusually_High_Bonus': 'True'}, 'LINDHOLM TOD A': {'salary': 236457, 'to_messages': 'NaN', 'deferral_payments': 204075, 'total_payments': 875889, 'exercised_stock_options': 2549361, 'bonus': 200000, 'restricted_stock': 514847, 'shared_receipt_with_poi': 'NaN', 'restricted_stock_deferred': 'NaN', 'total_stock_value': 3064208, 'expenses': 57727, 'loan_advances': 'NaN', 'from_messages': 'NaN', 'other': 2630, 'from_this_person_to_poi': 'NaN', 'poi': False, 'director_fees': 'NaN', 'deferred_income': 'NaN', 'long_term_incentive': 175000, 'email_address': 'tod.lindholm@enron.com', 'from_poi_to_this_person': 'NaN'}, 'MEYER JEROME J': {'Unusually_High_Bonus': 'True'}, 'LAY KENNETH L': {'salary': 1072321, 'to_messages': 4273, 'deferral_payments': 202911, 'total_payments': 103559793, 'exercised_stock_options': 34348384, 'bonus': 7000000, 'restricted_stock': 14761694, 'shared_receipt_with_poi': 2411, 'restricted_stock_deferred': 'NaN', 'total_stock_value': 49110078, 'expenses': 99832, 'loan_advances': 81525000, 'from_messages': 36, 'other': 10359729, 'from_this_person_to_poi': 16, 'poi': True, 'director_fees': 'NaN', 'deferred_income': -300000, 'long_term_incentive': 3600000, 'email_address': 'kenneth.lay@enron.com', 'from_poi_to_this_person': 123}, 'BUTTS ROBERT H': {'salary': 261516, 'to_messages': 'NaN', 'deferral_payments': 'NaN', 'total_payments': 1271582, 'exercised_stock_options': 'NaN', 'bonus': 750000, 'restricted_stock': 417619, 'shared_receipt_with_poi': 'NaN', 'restricted_stock_deferred': 'NaN', 'total_stock_value': 417619, 'expenses': 9410, 'loan_advances': 'NaN', 'from_messages': 'NaN', 'other': 150656, 'from_this_person_to_poi': 'NaN', 'poi': False, 'director_fees': 'NaN', 'deferred_income': -75000, 'long_term_incentive': 175000, 'email_address': 'bob.butts@enron.com', 'from_poi_to_this_person': 'NaN'}, 'OLSON CINDY K': {'salary': 329078, 'to_messages': 1184, 'deferral_payments': 77716, 'total_payments': 1321557, 'exercised_stock_options': 1637034, 'bonus': 750000, 'restricted_stock': 969729, 'shared_receipt_with_poi': 856, 'restricted_stock_deferred': 'NaN', 'total_stock_value': 2606763, 'expenses': 63791, 'loan_advances': 'NaN', 'from_messages': 52, 'other': 972, 'from_this_person_to_poi': 15, 'poi': False, 'director_fees': 'NaN', 'deferred_income': 'NaN', 'long_term_incentive': 100000, 'email_address': 'cindy.olson@enron.com', 'from_poi_to_this_person': 20}, 'MCDONALD REBECCA': {'Unusually_High_Bonus': 'True'}, 'CUMBERLAND MICHAEL S': {'salary': 184899, 'to_messages': 'NaN', 'deferral_payments': 'NaN', 'total_payments': 807956, 'exercised_stock_options': 'NaN', 'bonus': 325000, 'restricted_stock': 207940, 'shared_receipt_with_poi': 'NaN', 'restricted_stock_deferred': 'NaN', 'total_stock_value': 207940, 'expenses': 22344, 'loan_advances': 'NaN', 'from_messages': 'NaN', 'other': 713, 'from_this_person_to_poi': 'NaN', 'poi': False, 'director_fees': 'NaN', 'deferred_income': 'NaN', 'long_term_incentive': 275000, 'email_address': 'NaN', 'from_poi_to_this_person': 'NaN'}, 'GAHN ROBERT S': {'salary': 192008, 'to_messages': 'NaN', 'deferral_payments': 73122, 'total_payments': 900585, 'exercised_stock_options': 83237, 'bonus': 509870, 'restricted_stock': 235370, 'shared_receipt_with_poi': 'NaN', 'restricted_stock_deferred': 'NaN', 'total_stock_value': 318607, 'expenses': 50080, 'loan_advances': 'NaN', 'from_messages': 'NaN', 'other': 76547, 'from_this_person_to_poi': 'NaN', 'poi': False, 'director_fees': 'NaN', 'deferred_income': -1042, 'long_term_incentive': 'NaN', 'email_address': 'NaN', 'from_poi_to_this_person': 'NaN'}, 'MCCLELLAN GEORGE': {'salary': 263413, 'to_messages': 1744, 'deferral_payments': 'NaN', 'total_payments': 1318763, 'exercised_stock_options': 506765, 'bonus': 900000, 'restricted_stock': 441096, 'shared_receipt_with_poi': 1469, 'restricted_stock_deferred': 'NaN', 'total_stock_value': 947861, 'expenses': 228763, 'loan_advances': 'NaN', 'from_messages': 49, 'other': 51587, 'from_this_person_to_poi': 0, 'poi': False, 'director_fees': 'NaN', 'deferred_income': -125000, 'long_term_incentive': 'NaN', 'email_address': 'george.mcclellan@enron.com', 'from_poi_to_this_person': 52}, 'HERMANN ROBERT J': {'salary': 262663, 'to_messages': 'NaN', 'deferral_payments': 'NaN', 'total_payments': 1297461, 'exercised_stock_options': 187500, 'bonus': 700000, 'restricted_stock': 480632, 'shared_receipt_with_poi': 'NaN', 'restricted_stock_deferred': 'NaN', 'total_stock_value': 668132, 'expenses': 48357, 'loan_advances': 'NaN', 'from_messages': 'NaN', 'other': 416441, 'from_this_person_to_poi': 'NaN', 'poi': False, 'director_fees': 'NaN', 'deferred_income': -280000, 'long_term_incentive': 150000, 'email_address': 'robert.hermann@enron.com', 'from_poi_to_this_person': 'NaN'}, 'SCRIMSHAW MATTHEW': {'Unusually_High_Bonus': 'True'}, 'GATHMANN WILLIAM D': {'Unusually_High_Bonus': 'True'}, 'HAEDICKE MARK E': {'salary': 374125, 'to_messages': 4009, 'deferral_payments': 2157527, 'total_payments': 3859065, 'exercised_stock_options': 608750, 'bonus': 1150000, 'restricted_stock': 524169, 'shared_receipt_with_poi': 1847, 'restricted_stock_deferred': -329825, 'total_stock_value': 803094, 'expenses': 76169, 'loan_advances': 'NaN', 'from_messages': 1941, 'other': 52382, 'from_this_person_to_poi': 61, 'poi': False, 'director_fees': 'NaN', 'deferred_income': -934484, 'long_term_incentive': 983346, 'email_address': 'mark.haedicke@enron.com', 'from_poi_to_this_person': 180}, 'BOWEN JR RAYMOND M': {'salary': 278601, 'to_messages': 1858, 'deferral_payments': 'NaN', 'total_payments': 2669589, 'exercised_stock_options': 'NaN', 'bonus': 1350000, 'restricted_stock': 252055, 'shared_receipt_with_poi': 1593, 'restricted_stock_deferred': 'NaN', 'total_stock_value': 252055, 'expenses': 65907, 'loan_advances': 'NaN', 'from_messages': 27, 'other': 1621, 'from_this_person_to_poi': 15, 'poi': True, 'director_fees': 'NaN', 'deferred_income': -833, 'long_term_incentive': 974293, 'email_address': 'raymond.bowen@enron.com', 'from_poi_to_this_person': 140}, 'GILLIS JOHN': {'Unusually_High_Bonus': 'True'}, 'FITZGERALD JAY L': {'salary': 199157, 'to_messages': 936, 'deferral_payments': 'NaN', 'total_payments': 1414857, 'exercised_stock_options': 664461, 'bonus': 350000, 'restricted_stock': 956775, 'shared_receipt_with_poi': 723, 'restricted_stock_deferred': 'NaN', 'total_stock_value': 1621236, 'expenses': 23870, 'loan_advances': 'NaN', 'from_messages': 16, 'other': 285414, 'from_this_person_to_poi': 8, 'poi': False, 'director_fees': 'NaN', 'deferred_income': 'NaN', 'long_term_incentive': 556416, 'email_address': 'jay.fitzgerald@enron.com', 'from_poi_to_this_person': 1}, 'MORAN MICHAEL P': {'Unusually_High_Bonus': 'True'}, 'REDMOND BRIAN L': {'Unusually_High_Bonus': 'True'}, 'BAZELIDES PHILIP J': {'Unusually_High_Bonus': 'True'}, 'BELDEN TIMOTHY N': {'salary': 213999, 'to_messages': 7991, 'deferral_payments': 2144013, 'total_payments': 5501630, 'exercised_stock_options': 953136, 'bonus': 5249999, 'restricted_stock': 157569, 'shared_receipt_with_poi': 5521, 'restricted_stock_deferred': 'NaN', 'total_stock_value': 1110705, 'expenses': 17355, 'loan_advances': 'NaN', 'from_messages': 484, 'other': 210698, 'from_this_person_to_poi': 108, 'poi': True, 'director_fees': 'NaN', 'deferred_income': -2334434, 'long_term_incentive': 'NaN', 'email_address': 'tim.belden@enron.com', 'from_poi_to_this_person': 228}, 'DURAN WILLIAM D': {'salary': 210692, 'to_messages': 904, 'deferral_payments': 'NaN', 'total_payments': 2093263, 'exercised_stock_options': 1451869, 'bonus': 750000, 'restricted_stock': 189041, 'shared_receipt_with_poi': 599, 'restricted_stock_deferred': 'NaN', 'total_stock_value': 1640910, 'expenses': 25785, 'loan_advances': 'NaN', 'from_messages': 12, 'other': 1568, 'from_this_person_to_poi': 3, 'poi': False, 'director_fees': 'NaN', 'deferred_income': 'NaN', 'long_term_incentive': 1105218, 'email_address': 'w.duran@enron.com', 'from_poi_to_this_person': 106}, 'THORN TERENCE H': {'Unusually_High_Bonus': 'True'}, 'FASTOW ANDREW S': {'salary': 440698, 'to_messages': 'NaN', 'deferral_payments': 'NaN', 'total_payments': 2424083, 'exercised_stock_options': 'NaN', 'bonus': 1300000, 'restricted_stock': 1794412, 'shared_receipt_with_poi': 'NaN', 'restricted_stock_deferred': 'NaN', 'total_stock_value': 1794412, 'expenses': 55921, 'loan_advances': 'NaN', 'from_messages': 'NaN', 'other': 277464, 'from_this_person_to_poi': 'NaN', 'poi': True, 'director_fees': 'NaN', 'deferred_income': -1386055, 'long_term_incentive': 1736055, 'email_address': 'andrew.fastow@enron.com', 'from_poi_to_this_person': 'NaN'}, 'FOY JOE': {'Unusually_High_Bonus': 'True'}, 'CALGER CHRISTOPHER F': {'salary': 240189, 'to_messages': 2598, 'deferral_payments': 'NaN', 'total_payments': 1639297, 'exercised_stock_options': 'NaN', 'bonus': 1250000, 'restricted_stock': 126027, 'shared_receipt_with_poi': 2188, 'restricted_stock_deferred': 'NaN', 'total_stock_value': 126027, 'expenses': 35818, 'loan_advances': 'NaN', 'from_messages': 144, 'other': 486, 'from_this_person_to_poi': 25, 'poi': True, 'director_fees': 'NaN', 'deferred_income': -262500, 'long_term_incentive': 375304, 'email_address': 'christopher.calger@enron.com', 'from_poi_to_this_person': 199}, 'RICE KENNETH D': {'salary': 420636, 'to_messages': 905, 'deferral_payments': 'NaN', 'total_payments': 505050, 'exercised_stock_options': 19794175, 'bonus': 1750000, 'restricted_stock': 2748364, 'shared_receipt_with_poi': 864, 'restricted_stock_deferred': 'NaN', 'total_stock_value': 22542539, 'expenses': 46950, 'loan_advances': 'NaN', 'from_messages': 18, 'other': 174839, 'from_this_person_to_poi': 4, 'poi': True, 'director_fees': 'NaN', 'deferred_income': -3504386, 'long_term_incentive': 1617011, 'email_address': 'ken.rice@enron.com', 'from_poi_to_this_person': 42}, 'KAMINSKI WINCENTY J': {'salary': 275101, 'to_messages': 4607, 'deferral_payments': 'NaN', 'total_payments': 1086821, 'exercised_stock_options': 850010, 'bonus': 400000, 'restricted_stock': 126027, 'shared_receipt_with_poi': 583, 'restricted_stock_deferred': 'NaN', 'total_stock_value': 976037, 'expenses': 83585, 'loan_advances': 'NaN', 'from_messages': 14368, 'other': 4669, 'from_this_person_to_poi': 171, 'poi': False, 'director_fees': 'NaN', 'deferred_income': 'NaN', 'long_term_incentive': 323466, 'email_address': 'vince.kaminski@enron.com', 'from_poi_to_this_person': 41}, 'LOCKHART EUGENE E': {'Unusually_High_Bonus': 'True'}, 'COX DAVID': {'salary': 314288, 'to_messages': 102, 'deferral_payments': 'NaN', 'total_payments': 1101393, 'exercised_stock_options': 117551, 'bonus': 800000, 'restricted_stock': 378082, 'shared_receipt_with_poi': 71, 'restricted_stock_deferred': 'NaN', 'total_stock_value': 495633, 'expenses': 27861, 'loan_advances': 'NaN', 'from_messages': 33, 'other': 494, 'from_this_person_to_poi': 4, 'poi': False, 'director_fees': 'NaN', 'deferred_income': -41250, 'long_term_incentive': 'NaN', 'email_address': 'chip.cox@enron.com', 'from_poi_to_this_person': 0}, 'OVERDYKE JR JERE C': {'Unusually_High_Bonus': 'True'}, 'PEREIRA PAULO V. FERRAZ': {'Unusually_High_Bonus': 'True'}, 'STABLER FRANK': {'salary': 239502, 'to_messages': 'NaN', 'deferral_payments': 'NaN', 'total_payments': 1112087, 'exercised_stock_options': 'NaN', 'bonus': 500000, 'restricted_stock': 511734, 'shared_receipt_with_poi': 'NaN', 'restricted_stock_deferred': 'NaN', 'total_stock_value': 511734, 'expenses': 16514, 'loan_advances': 'NaN', 'from_messages': 'NaN', 'other': 356071, 'from_this_person_to_poi': 'NaN', 'poi': False, 'director_fees': 'NaN', 'deferred_income': 'NaN', 'long_term_incentive': 'NaN', 'email_address': 'frank.stabler@enron.com', 'from_poi_to_this_person': 'NaN'}, 'SKILLING JEFFREY K': {'salary': 1111258, 'to_messages': 3627, 'deferral_payments': 'NaN', 'total_payments': 8682716, 'exercised_stock_options': 19250000, 'bonus': 5600000, 'restricted_stock': 6843672, 'shared_receipt_with_poi': 2042, 'restricted_stock_deferred': 'NaN', 'total_stock_value': 26093672, 'expenses': 29336, 'loan_advances': 'NaN', 'from_messages': 108, 'other': 22122, 'from_this_person_to_poi': 30, 'poi': True, 'director_fees': 'NaN', 'deferred_income': 'NaN', 'long_term_incentive': 1920000, 'email_address': 'jeff.skilling@enron.com', 'from_poi_to_this_person': 88}, 'BLAKE JR. NORMAN P': {'Unusually_High_Bonus': 'True'}, 'SHERRICK JEFFREY B': {'Unusually_High_Bonus': 'True'}, 'PRENTICE JAMES': {'Unusually_High_Bonus': 'True'}, 'GRAY RODNEY': {'Unusually_High_Bonus': 'True'}, 'PICKERING MARK R': {'salary': 655037, 'to_messages': 898, 'deferral_payments': 'NaN', 'total_payments': 1386690, 'exercised_stock_options': 28798, 'bonus': 300000, 'restricted_stock': 'NaN', 'shared_receipt_with_poi': 728, 'restricted_stock_deferred': 'NaN', 'total_stock_value': 28798, 'expenses': 31653, 'loan_advances': 400000, 'from_messages': 67, 'other': 'NaN', 'from_this_person_to_poi': 0, 'poi': False, 'director_fees': 'NaN', 'deferred_income': 'NaN', 'long_term_incentive': 'NaN', 'email_address': 'mark.pickering@enron.com', 'from_poi_to_this_person': 7}, 'NOLES JAMES L': {'Unusually_High_Bonus': 'True'}, 'KEAN STEVEN J': {'salary': 404338, 'to_messages': 12754, 'deferral_payments': 'NaN', 'total_payments': 1747522, 'exercised_stock_options': 2022048, 'bonus': 1000000, 'restricted_stock': 4131594, 'shared_receipt_with_poi': 3639, 'restricted_stock_deferred': 'NaN', 'total_stock_value': 6153642, 'expenses': 41953, 'loan_advances': 'NaN', 'from_messages': 6759, 'other': 1231, 'from_this_person_to_poi': 387, 'poi': False, 'director_fees': 'NaN', 'deferred_income': 'NaN', 'long_term_incentive': 300000, 'email_address': 'steven.kean@enron.com', 'from_poi_to_this_person': 140}, 'FOWLER PEGGY': {'Unusually_High_Bonus': 'True'}, 'WASAFF GEORGE': {'salary': 259996, 'to_messages': 400, 'deferral_payments': 831299, 'total_payments': 1034395, 'exercised_stock_options': 1668260, 'bonus': 325000, 'restricted_stock': 388167, 'shared_receipt_with_poi': 337, 'restricted_stock_deferred': 'NaN', 'total_stock_value': 2056427, 'expenses': 'NaN', 'loan_advances': 'NaN', 'from_messages': 30, 'other': 1425, 'from_this_person_to_poi': 7, 'poi': False, 'director_fees': 'NaN', 'deferred_income': -583325, 'long_term_incentive': 200000, 'email_address': 'george.wasaff@enron.com', 'from_poi_to_this_person': 22}, 'WHITE JR THOMAS E': {'salary': 317543, 'to_messages': 'NaN', 'deferral_payments': 'NaN', 'total_payments': 1934359, 'exercised_stock_options': 1297049, 'bonus': 450000, 'restricted_stock': 13847074, 'shared_receipt_with_poi': 'NaN', 'restricted_stock_deferred': 'NaN', 'total_stock_value': 15144123, 'expenses': 81353, 'loan_advances': 'NaN', 'from_messages': 'NaN', 'other': 1085463, 'from_this_person_to_poi': 'NaN', 'poi': False, 'director_fees': 'NaN', 'deferred_income': 'NaN', 'long_term_incentive': 'NaN', 'email_address': 'thomas.white@enron.com', 'from_poi_to_this_person': 'NaN'}, 'CHRISTODOULOU DIOMEDES': {'Unusually_High_Bonus': 'True'}, 'ALLEN PHILLIP K': {'salary': 201955, 'to_messages': 2902, 'deferral_payments': 2869717, 'total_payments': 4484442, 'exercised_stock_options': 1729541, 'bonus': 4175000, 'restricted_stock': 126027, 'shared_receipt_with_poi': 1407, 'restricted_stock_deferred': -126027, 'total_stock_value': 1729541, 'expenses': 13868, 'loan_advances': 'NaN', 'from_messages': 2195, 'other': 152, 'from_this_person_to_poi': 65, 'poi': False, 'director_fees': 'NaN', 'deferred_income': -3081055, 'long_term_incentive': 304805, 'email_address': 'phillip.allen@enron.com', 'from_poi_to_this_person': 47}, 'SHARP VICTORIA T': {'salary': 248146, 'to_messages': 3136, 'deferral_payments': 187469, 'total_payments': 1576511, 'exercised_stock_options': 281073, 'bonus': 600000, 'restricted_stock': 213063, 'shared_receipt_with_poi': 2477, 'restricted_stock_deferred': 'NaN', 'total_stock_value': 494136, 'expenses': 116337, 'loan_advances': 'NaN', 'from_messages': 136, 'other': 2401, 'from_this_person_to_poi': 6, 'poi': False, 'director_fees': 'NaN', 'deferred_income': 'NaN', 'long_term_incentive': 422158, 'email_address': 'vicki.sharp@enron.com', 'from_poi_to_this_person': 24}, 'JAEDICKE ROBERT': {'Unusually_High_Bonus': 'True'}, 'WINOKUR JR. HERBERT S': {'Unusually_High_Bonus': 'True'}, 'BROWN MICHAEL': {'Unusually_High_Bonus': 'True'}, 'BADUM JAMES P': {'Unusually_High_Bonus': 'True'}, 'HUGHES JAMES A': {'Unusually_High_Bonus': 'True'}, 'REYNOLDS LAWRENCE': {'salary': 76399, 'to_messages': 'NaN', 'deferral_payments': 51365, 'total_payments': 394475, 'exercised_stock_options': 4160672, 'bonus': 100000, 'restricted_stock': 201483, 'shared_receipt_with_poi': 'NaN', 'restricted_stock_deferred': -140264, 'total_stock_value': 4221891, 'expenses': 8409, 'loan_advances': 'NaN', 'from_messages': 'NaN', 'other': 202052, 'from_this_person_to_poi': 'NaN', 'poi': False, 'director_fees': 'NaN', 'deferred_income': -200000, 'long_term_incentive': 156250, 'email_address': 'NaN', 'from_poi_to_this_person': 'NaN'}, 'DIMICHELE RICHARD G': {'salary': 262788, 'to_messages': 'NaN', 'deferral_payments': 'NaN', 'total_payments': 2368151, 'exercised_stock_options': 8191755, 'bonus': 1000000, 'restricted_stock': 126027, 'shared_receipt_with_poi': 'NaN', 'restricted_stock_deferred': 'NaN', 'total_stock_value': 8317782, 'expenses': 35812, 'loan_advances': 'NaN', 'from_messages': 'NaN', 'other': 374689, 'from_this_person_to_poi': 'NaN', 'poi': False, 'director_fees': 'NaN', 'deferred_income': 'NaN', 'long_term_incentive': 694862, 'email_address': 'richard.dimichele@enron.com', 'from_poi_to_this_person': 'NaN'}, 'BHATNAGAR SANJAY': {'Unusually_High_Bonus': 'True'}, 'CARTER REBECCA C': {'salary': 261809, 'to_messages': 312, 'deferral_payments': 'NaN', 'total_payments': 477557, 'exercised_stock_options': 'NaN', 'bonus': 300000, 'restricted_stock': 307301, 'shared_receipt_with_poi': 196, 'restricted_stock_deferred': -307301, 'total_stock_value': 'NaN', 'expenses': 'NaN', 'loan_advances': 'NaN', 'from_messages': 15, 'other': 540, 'from_this_person_to_poi': 7, 'poi': False, 'director_fees': 'NaN', 'deferred_income': -159792, 'long_term_incentive': 75000, 'email_address': 'rebecca.carter@enron.com', 'from_poi_to_this_person': 29}, 'BUCHANAN HAROLD G': {'salary': 248017, 'to_messages': 1088, 'deferral_payments': 'NaN', 'total_payments': 1054637, 'exercised_stock_options': 825464, 'bonus': 500000, 'restricted_stock': 189041, 'shared_receipt_with_poi': 23, 'restricted_stock_deferred': 'NaN', 'total_stock_value': 1014505, 'expenses': 600, 'loan_advances': 'NaN', 'from_messages': 125, 'other': 1215, 'from_this_person_to_poi': 0, 'poi': False, 'director_fees': 'NaN', 'deferred_income': 'NaN', 'long_term_incentive': 304805, 'email_address': 'john.buchanan@enron.com', 'from_poi_to_this_person': 0}, 'YEAP SOON': {'Unusually_High_Bonus': 'True'}, 'MURRAY JULIA H': {'salary': 229284, 'to_messages': 2192, 'deferral_payments': 'NaN', 'total_payments': 812194, 'exercised_stock_options': 400478, 'bonus': 400000, 'restricted_stock': 196983, 'shared_receipt_with_poi': 395, 'restricted_stock_deferred': 'NaN', 'total_stock_value': 597461, 'expenses': 57580, 'loan_advances': 'NaN', 'from_messages': 45, 'other': 330, 'from_this_person_to_poi': 2, 'poi': False, 'director_fees': 'NaN', 'deferred_income': 'NaN', 'long_term_incentive': 125000, 'email_address': 'julia.murray@enron.com', 'from_poi_to_this_person': 11}, 'GARLAND C KEVIN': {'salary': 231946, 'to_messages': 209, 'deferral_payments': 'NaN', 'total_payments': 1566469, 'exercised_stock_options': 636246, 'bonus': 850000, 'restricted_stock': 259907, 'shared_receipt_with_poi': 178, 'restricted_stock_deferred': 'NaN', 'total_stock_value': 896153, 'expenses': 48405, 'loan_advances': 'NaN', 'from_messages': 44, 'other': 60814, 'from_this_person_to_poi': 27, 'poi': False, 'director_fees': 'NaN', 'deferred_income': 'NaN', 'long_term_incentive': 375304, 'email_address': 'kevin.garland@enron.com', 'from_poi_to_this_person': 10}, 'DODSON KEITH': {'salary': 221003, 'to_messages': 176, 'deferral_payments': 'NaN', 'total_payments': 319941, 'exercised_stock_options': 'NaN', 'bonus': 70000, 'restricted_stock': 'NaN', 'shared_receipt_with_poi': 114, 'restricted_stock_deferred': 'NaN', 'total_stock_value': 'NaN', 'expenses': 28164, 'loan_advances': 'NaN', 'from_messages': 14, 'other': 774, 'from_this_person_to_poi': 3, 'poi': False, 'director_fees': 'NaN', 'deferred_income': 'NaN', 'long_term_incentive': 'NaN', 'email_address': 'keith.dodson@enron.com', 'from_poi_to_this_person': 10}, 'YEAGER F SCOTT': {'Unusually_High_Bonus': 'True'}, 'HIRKO JOSEPH': {'Unusually_High_Bonus': 'True'}, 'DIETRICH JANET R': {'salary': 250100, 'to_messages': 2572, 'deferral_payments': 'NaN', 'total_payments': 1410464, 'exercised_stock_options': 1550019, 'bonus': 600000, 'restricted_stock': 315068, 'shared_receipt_with_poi': 1902, 'restricted_stock_deferred': 'NaN', 'total_stock_value': 1865087, 'expenses': 3475, 'loan_advances': 'NaN', 'from_messages': 63, 'other': 473, 'from_this_person_to_poi': 14, 'poi': False, 'director_fees': 'NaN', 'deferred_income': 'NaN', 'long_term_incentive': 556416, 'email_address': 'janet.dietrich@enron.com', 'from_poi_to_this_person': 305}, 'DERRICK JR. JAMES V': {'salary': 492375, 'to_messages': 2181, 'deferral_payments': 'NaN', 'total_payments': 550981, 'exercised_stock_options': 8831913, 'bonus': 800000, 'restricted_stock': 1787380, 'shared_receipt_with_poi': 1401, 'restricted_stock_deferred': -1787380, 'total_stock_value': 8831913, 'expenses': 51124, 'loan_advances': 'NaN', 'from_messages': 909, 'other': 7482, 'from_this_person_to_poi': 20, 'poi': False, 'director_fees': 'NaN', 'deferred_income': -1284000, 'long_term_incentive': 484000, 'email_address': 'james.derrick@enron.com', 'from_poi_to_this_person': 64}, 'FREVERT MARK A': {'salary': 1060932, 'to_messages': 3275, 'deferral_payments': 6426990, 'total_payments': 17252530, 'exercised_stock_options': 10433518, 'bonus': 2000000, 'restricted_stock': 4188667, 'shared_receipt_with_poi': 2979, 'restricted_stock_deferred': 'NaN', 'total_stock_value': 14622185, 'expenses': 86987, 'loan_advances': 2000000, 'from_messages': 21, 'other': 7427621, 'from_this_person_to_poi': 6, 'poi': False, 'director_fees': 'NaN', 'deferred_income': -3367011, 'long_term_incentive': 1617011, 'email_address': 'mark.frevert@enron.com', 'from_poi_to_this_person': 242}, 'PAI LOU L': {'salary': 261879, 'to_messages': 'NaN', 'deferral_payments': 'NaN', 'total_payments': 3123383, 'exercised_stock_options': 15364167, 'bonus': 1000000, 'restricted_stock': 8453763, 'shared_receipt_with_poi': 'NaN', 'restricted_stock_deferred': 'NaN', 'total_stock_value': 23817930, 'expenses': 32047, 'loan_advances': 'NaN', 'from_messages': 'NaN', 'other': 1829457, 'from_this_person_to_poi': 'NaN', 'poi': False, 'director_fees': 'NaN', 'deferred_income': 'NaN', 'long_term_incentive': 'NaN', 'email_address': 'lou.pai@enron.com', 'from_poi_to_this_person': 'NaN'}, 'BAY FRANKLIN R': {'salary': 239671, 'to_messages': 'NaN', 'deferral_payments': 260455, 'total_payments': 827696, 'exercised_stock_options': 'NaN', 'bonus': 400000, 'restricted_stock': 145796, 'shared_receipt_with_poi': 'NaN', 'restricted_stock_deferred': -82782, 'total_stock_value': 63014, 'expenses': 129142, 'loan_advances': 'NaN', 'from_messages': 'NaN', 'other': 69, 'from_this_person_to_poi': 'NaN', 'poi': False, 'director_fees': 'NaN', 'deferred_income': -201641, 'long_term_incentive': 'NaN', 'email_address': 'frank.bay@enron.com', 'from_poi_to_this_person': 'NaN'}, 'HAYSLETT RODERICK J': {'Unusually_High_Bonus': 'True'}, 'FUGH JOHN L': {'Unusually_High_Bonus': 'True'}, 'FALLON JAMES B': {'salary': 304588, 'to_messages': 1755, 'deferral_payments': 'NaN', 'total_payments': 3676340, 'exercised_stock_options': 940257, 'bonus': 2500000, 'restricted_stock': 1392142, 'shared_receipt_with_poi': 1604, 'restricted_stock_deferred': 'NaN', 'total_stock_value': 2332399, 'expenses': 95924, 'loan_advances': 'NaN', 'from_messages': 75, 'other': 401481, 'from_this_person_to_poi': 37, 'poi': False, 'director_fees': 'NaN', 'deferred_income': 'NaN', 'long_term_incentive': 374347, 'email_address': 'jim.fallon@enron.com', 'from_poi_to_this_person': 42}, 'KOENIG MARK E': {'salary': 309946, 'to_messages': 2374, 'deferral_payments': 'NaN', 'total_payments': 1587421, 'exercised_stock_options': 671737, 'bonus': 700000, 'restricted_stock': 1248318, 'shared_receipt_with_poi': 2271, 'restricted_stock_deferred': 'NaN', 'total_stock_value': 1920055, 'expenses': 127017, 'loan_advances': 'NaN', 'from_messages': 61, 'other': 150458, 'from_this_person_to_poi': 15, 'poi': True, 'director_fees': 'NaN', 'deferred_income': 'NaN', 'long_term_incentive': 300000, 'email_address': 'mark.koenig@enron.com', 'from_poi_to_this_person': 53}, 'SAVAGE FRANK': {'Unusually_High_Bonus': 'True'}, 'IZZO LAWRENCE L': {'Unusually_High_Bonus': 'True'}, 'TILNEY ELIZABETH A': {'salary': 247338, 'to_messages': 460, 'deferral_payments': 'NaN', 'total_payments': 399393, 'exercised_stock_options': 591250, 'bonus': 300000, 'restricted_stock': 576792, 'shared_receipt_with_poi': 379, 'restricted_stock_deferred': 'NaN', 'total_stock_value': 1168042, 'expenses': 'NaN', 'loan_advances': 'NaN', 'from_messages': 19, 'other': 152055, 'from_this_person_to_poi': 11, 'poi': False, 'director_fees': 'NaN', 'deferred_income': -575000, 'long_term_incentive': 275000, 'email_address': 'elizabeth.tilney@enron.com', 'from_poi_to_this_person': 10}, 'MARTIN AMANDA K': {'Unusually_High_Bonus': 'True'}, 'BUY RICHARD B': {'salary': 330546, 'to_messages': 3523, 'deferral_payments': 649584, 'total_payments': 2355702, 'exercised_stock_options': 2542813, 'bonus': 900000, 'restricted_stock': 901657, 'shared_receipt_with_poi': 2333, 'restricted_stock_deferred': 'NaN', 'total_stock_value': 3444470, 'expenses': 'NaN', 'loan_advances': 'NaN', 'from_messages': 1053, 'other': 400572, 'from_this_person_to_poi': 71, 'poi': False, 'director_fees': 'NaN', 'deferred_income': -694862, 'long_term_incentive': 769862, 'email_address': 'rick.buy@enron.com', 'from_poi_to_this_person': 156}, 'GRAMM WENDY L': {'Unusually_High_Bonus': 'True'}, 'CAUSEY RICHARD A': {'salary': 415189, 'to_messages': 1892, 'deferral_payments': 'NaN', 'total_payments': 1868758, 'exercised_stock_options': 'NaN', 'bonus': 1000000, 'restricted_stock': 2502063, 'shared_receipt_with_poi': 1585, 'restricted_stock_deferred': 'NaN', 'total_stock_value': 2502063, 'expenses': 30674, 'loan_advances': 'NaN', 'from_messages': 49, 'other': 307895, 'from_this_person_to_poi': 12, 'poi': True, 'director_fees': 'NaN', 'deferred_income': -235000, 'long_term_incentive': 350000, 'email_address': 'richard.causey@enron.com', 'from_poi_to_this_person': 58}, 'TAYLOR MITCHELL S': {'salary': 265214, 'to_messages': 533, 'deferral_payments': 227449, 'total_payments': 1092663, 'exercised_stock_options': 3181250, 'bonus': 600000, 'restricted_stock': 563798, 'shared_receipt_with_poi': 300, 'restricted_stock_deferred': 'NaN', 'total_stock_value': 3745048, 'expenses': 'NaN', 'loan_advances': 'NaN', 'from_messages': 29, 'other': 'NaN', 'from_this_person_to_poi': 0, 'poi': False, 'director_fees': 'NaN', 'deferred_income': 'NaN', 'long_term_incentive': 'NaN', 'email_address': 'mitchell.taylor@enron.com', 'from_poi_to_this_person': 0}, 'DONAHUE JR JEFFREY M': {'salary': 278601, 'to_messages': 865, 'deferral_payments': 'NaN', 'total_payments': 875760, 'exercised_stock_options': 765920, 'bonus': 800000, 'restricted_stock': 315068, 'shared_receipt_with_poi': 772, 'restricted_stock_deferred': 'NaN', 'total_stock_value': 1080988, 'expenses': 96268, 'loan_advances': 'NaN', 'from_messages': 22, 'other': 891, 'from_this_person_to_poi': 11, 'poi': False, 'director_fees': 'NaN', 'deferred_income': -300000, 'long_term_incentive': 'NaN', 'email_address': 'jeff.donahue@enron.com', 'from_poi_to_this_person': 188}, 'GLISAN JR BEN F': {'salary': 274975, 'to_messages': 873, 'deferral_payments': 'NaN', 'total_payments': 1272284, 'exercised_stock_options': 384728, 'bonus': 600000, 'restricted_stock': 393818, 'shared_receipt_with_poi': 874, 'restricted_stock_deferred': 'NaN', 'total_stock_value': 778546, 'expenses': 125978, 'loan_advances': 'NaN', 'from_messages': 16, 'other': 200308, 'from_this_person_to_poi': 6, 'poi': True, 'director_fees': 'NaN', 'deferred_income': 'NaN', 'long_term_incentive': 71023, 'email_address': 'ben.glisan@enron.com', 'from_poi_to_this_person': 52}}\n"
     ]
    }
   ],
   "source": [
    "print dataset"
   ]
  },
  {
   "cell_type": "markdown",
   "metadata": {
    "collapsed": true
   },
   "source": [
    "<h2> Testing Classifiers</h2>"
   ]
  },
  {
   "cell_type": "code",
   "execution_count": 15,
   "metadata": {
    "collapsed": false
   },
   "outputs": [
    {
     "name": "stdout",
     "output_type": "stream",
     "text": [
      "error: key  poi  not present\n"
     ]
    },
    {
     "ename": "TypeError",
     "evalue": "'NoneType' object is not iterable",
     "output_type": "error",
     "traceback": [
      "\u001b[0;31m\u001b[0m",
      "\u001b[0;31mTypeError\u001b[0mTraceback (most recent call last)",
      "\u001b[0;32m<ipython-input-15-6cf7802c72d7>\u001b[0m in \u001b[0;36m<module>\u001b[0;34m()\u001b[0m\n\u001b[1;32m      1\u001b[0m \u001b[1;31m### Extract features and labels from dataset for local testing\u001b[0m\u001b[1;33m\u001b[0m\u001b[1;33m\u001b[0m\u001b[0m\n\u001b[1;32m      2\u001b[0m \u001b[0mdata\u001b[0m \u001b[1;33m=\u001b[0m \u001b[0mfeatureFormat\u001b[0m\u001b[1;33m(\u001b[0m\u001b[0mdataset\u001b[0m\u001b[1;33m,\u001b[0m \u001b[0mfeatures_list\u001b[0m\u001b[1;33m,\u001b[0m \u001b[0msort_keys\u001b[0m \u001b[1;33m=\u001b[0m \u001b[0mTrue\u001b[0m\u001b[1;33m)\u001b[0m\u001b[1;33m\u001b[0m\u001b[0m\n\u001b[0;32m----> 3\u001b[0;31m \u001b[0mlabels\u001b[0m\u001b[1;33m,\u001b[0m \u001b[0mfeatures\u001b[0m \u001b[1;33m=\u001b[0m \u001b[0mtargetFeatureSplit\u001b[0m\u001b[1;33m(\u001b[0m\u001b[0mdata\u001b[0m\u001b[1;33m)\u001b[0m\u001b[1;33m\u001b[0m\u001b[0m\n\u001b[0m",
      "\u001b[0;32mC:\\Users\\Mohammad\\Desktop\\Disk 0\\Code\\Data Analyst Udacity\\Project 6\\tools\\feature_format.pyc\u001b[0m in \u001b[0;36mtargetFeatureSplit\u001b[0;34m(data)\u001b[0m\n\u001b[1;32m    118\u001b[0m     \u001b[0mtarget\u001b[0m \u001b[1;33m=\u001b[0m \u001b[1;33m[\u001b[0m\u001b[1;33m]\u001b[0m\u001b[1;33m\u001b[0m\u001b[0m\n\u001b[1;32m    119\u001b[0m     \u001b[0mfeatures\u001b[0m \u001b[1;33m=\u001b[0m \u001b[1;33m[\u001b[0m\u001b[1;33m]\u001b[0m\u001b[1;33m\u001b[0m\u001b[0m\n\u001b[0;32m--> 120\u001b[0;31m     \u001b[1;32mfor\u001b[0m \u001b[0mitem\u001b[0m \u001b[1;32min\u001b[0m \u001b[0mdata\u001b[0m\u001b[1;33m:\u001b[0m\u001b[1;33m\u001b[0m\u001b[0m\n\u001b[0m\u001b[1;32m    121\u001b[0m         \u001b[0mtarget\u001b[0m\u001b[1;33m.\u001b[0m\u001b[0mappend\u001b[0m\u001b[1;33m(\u001b[0m \u001b[0mitem\u001b[0m\u001b[1;33m[\u001b[0m\u001b[1;36m0\u001b[0m\u001b[1;33m]\u001b[0m \u001b[1;33m)\u001b[0m\u001b[1;33m\u001b[0m\u001b[0m\n\u001b[1;32m    122\u001b[0m         \u001b[0mfeatures\u001b[0m\u001b[1;33m.\u001b[0m\u001b[0mappend\u001b[0m\u001b[1;33m(\u001b[0m \u001b[0mitem\u001b[0m\u001b[1;33m[\u001b[0m\u001b[1;36m1\u001b[0m\u001b[1;33m:\u001b[0m\u001b[1;33m]\u001b[0m \u001b[1;33m)\u001b[0m\u001b[1;33m\u001b[0m\u001b[0m\n",
      "\u001b[0;31mTypeError\u001b[0m: 'NoneType' object is not iterable"
     ]
    }
   ],
   "source": [
    "### Extract features and labels from dataset for local testing\n",
    "data = featureFormat(dataset, features_list, sort_keys = True)\n",
    "labels, features = targetFeatureSplit(data)\n"
   ]
  },
  {
   "cell_type": "code",
   "execution_count": null,
   "metadata": {
    "collapsed": true
   },
   "outputs": [],
   "source": [
    "# Example starting point. Try investigating other evaluation techniques!\n",
    "features_train, features_test, labels_train, labels_test = \\\n",
    "    train_test_split(features, labels, test_size=0.3, random_state=42)"
   ]
  },
  {
   "cell_type": "code",
   "execution_count": null,
   "metadata": {
    "collapsed": false
   },
   "outputs": [],
   "source": [
    "#Naive Bayes Classifier\n",
    "clf = GaussianNB()\n",
    "clf.fit(features_train, labels_train)\n",
    "pred = clf.predict(features_test)\n",
    "\n",
    "print accuracy_score(pred, labels_test)"
   ]
  },
  {
   "cell_type": "code",
   "execution_count": null,
   "metadata": {
    "collapsed": false
   },
   "outputs": [],
   "source": [
    "#SVM classifier, literally exact same as Naive Bayes\n",
    "clf = svm.SVC()\n",
    "clf.fit(features_train, labels_train)\n",
    "pred = clf.predict(features_test)\n",
    "\n",
    "print accuracy_score(pred, labels_test)"
   ]
  },
  {
   "cell_type": "code",
   "execution_count": null,
   "metadata": {
    "collapsed": false
   },
   "outputs": [],
   "source": [
    "#Decision Tree Classifier, Surprisingly much lower than SVM and Naive Bayes\n",
    "#DTC has different accuracy after running multiple times. NB and SVM never change. \n",
    "clf = tree.DecisionTreeClassifier()\n",
    "clf.fit(features_train, labels_train)\n",
    "pred = clf.predict(features_test)\n",
    "\n",
    "print accuracy_score(pred, labels_test)"
   ]
  },
  {
   "cell_type": "code",
   "execution_count": 228,
   "metadata": {
    "collapsed": false
   },
   "outputs": [
    {
     "name": "stdout",
     "output_type": "stream",
     "text": [
      "['bonus' 'deferral_payments' 'deferred_income' 'director_fees'\n",
      " 'email_address' 'exercised_stock_options' 'expenses' 'from_messages'\n",
      " 'from_poi_to_this_person' 'from_this_person_to_poi' 'loan_advances'\n",
      " 'long_term_incentive' 'other' 'poi' 'restricted_stock'\n",
      " 'restricted_stock_deferred' 'salary' 'shared_receipt_with_poi'\n",
      " 'to_messages' 'total_payments' 'total_stock_value']\n"
     ]
    }
   ],
   "source": [
    "#List of all the features\n",
    "print enron_data.columns.values"
   ]
  },
  {
   "cell_type": "markdown",
   "metadata": {},
   "source": [
    "<h3> Naive Bayes Classifier</h3>"
   ]
  },
  {
   "cell_type": "code",
   "execution_count": 208,
   "metadata": {
    "collapsed": false
   },
   "outputs": [
    {
     "name": "stdout",
     "output_type": "stream",
     "text": [
      "error: key  poi  not present\n"
     ]
    },
    {
     "ename": "TypeError",
     "evalue": "'NoneType' object is not iterable",
     "output_type": "error",
     "traceback": [
      "\u001b[0;31m\u001b[0m",
      "\u001b[0;31mTypeError\u001b[0mTraceback (most recent call last)",
      "\u001b[0;32m<ipython-input-208-14ce2d27172f>\u001b[0m in \u001b[0;36m<module>\u001b[0;34m()\u001b[0m\n\u001b[1;32m      9\u001b[0m \u001b[1;33m\u001b[0m\u001b[0m\n\u001b[1;32m     10\u001b[0m \u001b[1;31m#We have passed the mark for Recall but not precision\u001b[0m\u001b[1;33m\u001b[0m\u001b[1;33m\u001b[0m\u001b[0m\n\u001b[0;32m---> 11\u001b[0;31m \u001b[0mtest_classifier\u001b[0m\u001b[1;33m(\u001b[0m\u001b[0mclf\u001b[0m\u001b[1;33m,\u001b[0m \u001b[0mdataset\u001b[0m\u001b[1;33m,\u001b[0m \u001b[0mfeatures_list\u001b[0m\u001b[1;33m,\u001b[0m \u001b[0mfolds\u001b[0m \u001b[1;33m=\u001b[0m \u001b[1;36m1000\u001b[0m\u001b[1;33m)\u001b[0m\u001b[1;33m;\u001b[0m\u001b[1;33m\u001b[0m\u001b[0m\n\u001b[0m",
      "\u001b[0;32mC:\\Users\\Mohammad\\Desktop\\Disk 0\\Code\\Data Analyst Udacity\\Project 6\\final_project\\tester.pyc\u001b[0m in \u001b[0;36mtest_classifier\u001b[0;34m(clf, dataset, feature_list, folds)\u001b[0m\n\u001b[1;32m     25\u001b[0m \u001b[1;32mdef\u001b[0m \u001b[0mtest_classifier\u001b[0m\u001b[1;33m(\u001b[0m\u001b[0mclf\u001b[0m\u001b[1;33m,\u001b[0m \u001b[0mdataset\u001b[0m\u001b[1;33m,\u001b[0m \u001b[0mfeature_list\u001b[0m\u001b[1;33m,\u001b[0m \u001b[0mfolds\u001b[0m \u001b[1;33m=\u001b[0m \u001b[1;36m1000\u001b[0m\u001b[1;33m)\u001b[0m\u001b[1;33m:\u001b[0m\u001b[1;33m\u001b[0m\u001b[0m\n\u001b[1;32m     26\u001b[0m     \u001b[0mdata\u001b[0m \u001b[1;33m=\u001b[0m \u001b[0mfeatureFormat\u001b[0m\u001b[1;33m(\u001b[0m\u001b[0mdataset\u001b[0m\u001b[1;33m,\u001b[0m \u001b[0mfeature_list\u001b[0m\u001b[1;33m,\u001b[0m \u001b[0msort_keys\u001b[0m \u001b[1;33m=\u001b[0m \u001b[0mTrue\u001b[0m\u001b[1;33m)\u001b[0m\u001b[1;33m\u001b[0m\u001b[0m\n\u001b[0;32m---> 27\u001b[0;31m     \u001b[0mlabels\u001b[0m\u001b[1;33m,\u001b[0m \u001b[0mfeatures\u001b[0m \u001b[1;33m=\u001b[0m \u001b[0mtargetFeatureSplit\u001b[0m\u001b[1;33m(\u001b[0m\u001b[0mdata\u001b[0m\u001b[1;33m)\u001b[0m\u001b[1;33m\u001b[0m\u001b[0m\n\u001b[0m\u001b[1;32m     28\u001b[0m     \u001b[0mcv\u001b[0m \u001b[1;33m=\u001b[0m \u001b[0mStratifiedShuffleSplit\u001b[0m\u001b[1;33m(\u001b[0m\u001b[0mlabels\u001b[0m\u001b[1;33m,\u001b[0m \u001b[0mfolds\u001b[0m\u001b[1;33m,\u001b[0m \u001b[0mrandom_state\u001b[0m \u001b[1;33m=\u001b[0m \u001b[1;36m42\u001b[0m\u001b[1;33m)\u001b[0m\u001b[1;33m\u001b[0m\u001b[0m\n\u001b[1;32m     29\u001b[0m     \u001b[0mtrue_negatives\u001b[0m \u001b[1;33m=\u001b[0m \u001b[1;36m0\u001b[0m\u001b[1;33m\u001b[0m\u001b[0m\n",
      "\u001b[0;32mC:\\Users\\Mohammad\\Desktop\\Disk 0\\Code\\Data Analyst Udacity\\Project 6\\tools\\feature_format.pyc\u001b[0m in \u001b[0;36mtargetFeatureSplit\u001b[0;34m(data)\u001b[0m\n\u001b[1;32m    118\u001b[0m     \u001b[0mtarget\u001b[0m \u001b[1;33m=\u001b[0m \u001b[1;33m[\u001b[0m\u001b[1;33m]\u001b[0m\u001b[1;33m\u001b[0m\u001b[0m\n\u001b[1;32m    119\u001b[0m     \u001b[0mfeatures\u001b[0m \u001b[1;33m=\u001b[0m \u001b[1;33m[\u001b[0m\u001b[1;33m]\u001b[0m\u001b[1;33m\u001b[0m\u001b[0m\n\u001b[0;32m--> 120\u001b[0;31m     \u001b[1;32mfor\u001b[0m \u001b[0mitem\u001b[0m \u001b[1;32min\u001b[0m \u001b[0mdata\u001b[0m\u001b[1;33m:\u001b[0m\u001b[1;33m\u001b[0m\u001b[0m\n\u001b[0m\u001b[1;32m    121\u001b[0m         \u001b[0mtarget\u001b[0m\u001b[1;33m.\u001b[0m\u001b[0mappend\u001b[0m\u001b[1;33m(\u001b[0m \u001b[0mitem\u001b[0m\u001b[1;33m[\u001b[0m\u001b[1;36m0\u001b[0m\u001b[1;33m]\u001b[0m \u001b[1;33m)\u001b[0m\u001b[1;33m\u001b[0m\u001b[0m\n\u001b[1;32m    122\u001b[0m         \u001b[0mfeatures\u001b[0m\u001b[1;33m.\u001b[0m\u001b[0mappend\u001b[0m\u001b[1;33m(\u001b[0m \u001b[0mitem\u001b[0m\u001b[1;33m[\u001b[0m\u001b[1;36m1\u001b[0m\u001b[1;33m:\u001b[0m\u001b[1;33m]\u001b[0m \u001b[1;33m)\u001b[0m\u001b[1;33m\u001b[0m\u001b[0m\n",
      "\u001b[0;31mTypeError\u001b[0m: 'NoneType' object is not iterable"
     ]
    }
   ],
   "source": [
    "#First we start with all the features to see our precision and recall\n",
    "features_list = ['poi', 'bonus', 'deferred_income', 'director_fees',\n",
    " 'exercised_stock_options', 'expenses', 'from_messages',\n",
    " 'from_poi_to_this_person', 'from_this_person_to_poi', 'loan_advances',\n",
    " 'long_term_incentive', 'other', 'restricted_stock',\n",
    " 'restricted_stock_deferred', 'salary', 'shared_receipt_with_poi', 'to_messages',\n",
    "'total_payments', 'total_stock_value']\n",
    "\n",
    "\n",
    "#We have passed the mark for Recall but not precision\n",
    "test_classifier(clf, dataset, features_list, folds = 1000);"
   ]
  },
  {
   "cell_type": "code",
   "execution_count": 207,
   "metadata": {
    "collapsed": false
   },
   "outputs": [
    {
     "name": "stdout",
     "output_type": "stream",
     "text": [
      "error: key  poi  not present\n"
     ]
    },
    {
     "ename": "TypeError",
     "evalue": "'NoneType' object is not iterable",
     "output_type": "error",
     "traceback": [
      "\u001b[0;31m\u001b[0m",
      "\u001b[0;31mTypeError\u001b[0mTraceback (most recent call last)",
      "\u001b[0;32m<ipython-input-207-9d29a4717a6a>\u001b[0m in \u001b[0;36m<module>\u001b[0;34m()\u001b[0m\n\u001b[1;32m      9\u001b[0m \u001b[1;33m\u001b[0m\u001b[0m\n\u001b[1;32m     10\u001b[0m \u001b[1;31m#Our Precision went up so we are on the right track\u001b[0m\u001b[1;33m\u001b[0m\u001b[1;33m\u001b[0m\u001b[0m\n\u001b[0;32m---> 11\u001b[0;31m \u001b[0mtest_classifier\u001b[0m\u001b[1;33m(\u001b[0m\u001b[0mclf\u001b[0m\u001b[1;33m,\u001b[0m \u001b[0mdataset\u001b[0m\u001b[1;33m,\u001b[0m \u001b[0mfeatures_list\u001b[0m\u001b[1;33m,\u001b[0m \u001b[0mfolds\u001b[0m \u001b[1;33m=\u001b[0m \u001b[1;36m1000\u001b[0m\u001b[1;33m)\u001b[0m\u001b[1;33m;\u001b[0m\u001b[1;33m\u001b[0m\u001b[0m\n\u001b[0m",
      "\u001b[0;32mC:\\Users\\Mohammad\\Desktop\\Disk 0\\Code\\Data Analyst Udacity\\Project 6\\final_project\\tester.pyc\u001b[0m in \u001b[0;36mtest_classifier\u001b[0;34m(clf, dataset, feature_list, folds)\u001b[0m\n\u001b[1;32m     25\u001b[0m \u001b[1;32mdef\u001b[0m \u001b[0mtest_classifier\u001b[0m\u001b[1;33m(\u001b[0m\u001b[0mclf\u001b[0m\u001b[1;33m,\u001b[0m \u001b[0mdataset\u001b[0m\u001b[1;33m,\u001b[0m \u001b[0mfeature_list\u001b[0m\u001b[1;33m,\u001b[0m \u001b[0mfolds\u001b[0m \u001b[1;33m=\u001b[0m \u001b[1;36m1000\u001b[0m\u001b[1;33m)\u001b[0m\u001b[1;33m:\u001b[0m\u001b[1;33m\u001b[0m\u001b[0m\n\u001b[1;32m     26\u001b[0m     \u001b[0mdata\u001b[0m \u001b[1;33m=\u001b[0m \u001b[0mfeatureFormat\u001b[0m\u001b[1;33m(\u001b[0m\u001b[0mdataset\u001b[0m\u001b[1;33m,\u001b[0m \u001b[0mfeature_list\u001b[0m\u001b[1;33m,\u001b[0m \u001b[0msort_keys\u001b[0m \u001b[1;33m=\u001b[0m \u001b[0mTrue\u001b[0m\u001b[1;33m)\u001b[0m\u001b[1;33m\u001b[0m\u001b[0m\n\u001b[0;32m---> 27\u001b[0;31m     \u001b[0mlabels\u001b[0m\u001b[1;33m,\u001b[0m \u001b[0mfeatures\u001b[0m \u001b[1;33m=\u001b[0m \u001b[0mtargetFeatureSplit\u001b[0m\u001b[1;33m(\u001b[0m\u001b[0mdata\u001b[0m\u001b[1;33m)\u001b[0m\u001b[1;33m\u001b[0m\u001b[0m\n\u001b[0m\u001b[1;32m     28\u001b[0m     \u001b[0mcv\u001b[0m \u001b[1;33m=\u001b[0m \u001b[0mStratifiedShuffleSplit\u001b[0m\u001b[1;33m(\u001b[0m\u001b[0mlabels\u001b[0m\u001b[1;33m,\u001b[0m \u001b[0mfolds\u001b[0m\u001b[1;33m,\u001b[0m \u001b[0mrandom_state\u001b[0m \u001b[1;33m=\u001b[0m \u001b[1;36m42\u001b[0m\u001b[1;33m)\u001b[0m\u001b[1;33m\u001b[0m\u001b[0m\n\u001b[1;32m     29\u001b[0m     \u001b[0mtrue_negatives\u001b[0m \u001b[1;33m=\u001b[0m \u001b[1;36m0\u001b[0m\u001b[1;33m\u001b[0m\u001b[0m\n",
      "\u001b[0;32mC:\\Users\\Mohammad\\Desktop\\Disk 0\\Code\\Data Analyst Udacity\\Project 6\\tools\\feature_format.pyc\u001b[0m in \u001b[0;36mtargetFeatureSplit\u001b[0;34m(data)\u001b[0m\n\u001b[1;32m    118\u001b[0m     \u001b[0mtarget\u001b[0m \u001b[1;33m=\u001b[0m \u001b[1;33m[\u001b[0m\u001b[1;33m]\u001b[0m\u001b[1;33m\u001b[0m\u001b[0m\n\u001b[1;32m    119\u001b[0m     \u001b[0mfeatures\u001b[0m \u001b[1;33m=\u001b[0m \u001b[1;33m[\u001b[0m\u001b[1;33m]\u001b[0m\u001b[1;33m\u001b[0m\u001b[0m\n\u001b[0;32m--> 120\u001b[0;31m     \u001b[1;32mfor\u001b[0m \u001b[0mitem\u001b[0m \u001b[1;32min\u001b[0m \u001b[0mdata\u001b[0m\u001b[1;33m:\u001b[0m\u001b[1;33m\u001b[0m\u001b[0m\n\u001b[0m\u001b[1;32m    121\u001b[0m         \u001b[0mtarget\u001b[0m\u001b[1;33m.\u001b[0m\u001b[0mappend\u001b[0m\u001b[1;33m(\u001b[0m \u001b[0mitem\u001b[0m\u001b[1;33m[\u001b[0m\u001b[1;36m0\u001b[0m\u001b[1;33m]\u001b[0m \u001b[1;33m)\u001b[0m\u001b[1;33m\u001b[0m\u001b[0m\n\u001b[1;32m    122\u001b[0m         \u001b[0mfeatures\u001b[0m\u001b[1;33m.\u001b[0m\u001b[0mappend\u001b[0m\u001b[1;33m(\u001b[0m \u001b[0mitem\u001b[0m\u001b[1;33m[\u001b[0m\u001b[1;36m1\u001b[0m\u001b[1;33m:\u001b[0m\u001b[1;33m]\u001b[0m \u001b[1;33m)\u001b[0m\u001b[1;33m\u001b[0m\u001b[0m\n",
      "\u001b[0;31mTypeError\u001b[0m: 'NoneType' object is not iterable"
     ]
    }
   ],
   "source": [
    "#Lets try removing 1 feature to see what happens. Lets pick director_fees\n",
    "features_list = ['poi', 'bonus', 'deferred_income',\n",
    " 'exercised_stock_options', 'expenses', 'from_messages',\n",
    " 'from_poi_to_this_person', 'from_this_person_to_poi', 'loan_advances',\n",
    " 'long_term_incentive', 'other', 'restricted_stock',\n",
    " 'restricted_stock_deferred', 'salary', 'shared_receipt_with_poi', 'to_messages',\n",
    "'total_payments', 'total_stock_value' ]\n",
    "\n",
    "\n",
    "#Our Precision went up so we are on the right track\n",
    "test_classifier(clf, dataset, features_list, folds = 1000);"
   ]
  },
  {
   "cell_type": "code",
   "execution_count": 70,
   "metadata": {
    "collapsed": false
   },
   "outputs": [
    {
     "name": "stdout",
     "output_type": "stream",
     "text": [
      "GaussianNB(priors=None)\n",
      "\tAccuracy: 0.78933\tPrecision: 0.29374\tRecall: 0.41300\tF1: 0.34331\tF2: 0.38198\n",
      "\tTotal predictions: 15000\tTrue positives:  826\tFalse positives: 1986\tFalse negatives: 1174\tTrue negatives: 11014\n",
      "\n"
     ]
    }
   ],
   "source": [
    "#Lets try removing another feature to see what happens. Lets pick \"other\" it should increase our score\n",
    "features_list = ['poi', 'bonus', 'deferred_income',\n",
    " 'exercised_stock_options', 'expenses', 'from_messages',\n",
    " 'from_poi_to_this_person', 'from_this_person_to_poi', 'loan_advances',\n",
    " 'long_term_incentive', 'restricted_stock',\n",
    " 'restricted_stock_deferred', 'salary', 'shared_receipt_with_poi', 'to_messages',\n",
    "'total_payments', 'total_stock_value' ]\n",
    "\n",
    "\n",
    "#Our precision increased 2%, so close we need less than 1% to reach our mark.\n",
    "test_classifier(clf, dataset, features_list, folds = 1000);"
   ]
  },
  {
   "cell_type": "code",
   "execution_count": 71,
   "metadata": {
    "collapsed": false
   },
   "outputs": [
    {
     "name": "stdout",
     "output_type": "stream",
     "text": [
      "GaussianNB(priors=None)\n",
      "\tAccuracy: 0.78587\tPrecision: 0.28201\tRecall: 0.39200\tF1: 0.32803\tF2: 0.36364\n",
      "\tTotal predictions: 15000\tTrue positives:  784\tFalse positives: 1996\tFalse negatives: 1216\tTrue negatives: 11004\n",
      "\n"
     ]
    }
   ],
   "source": [
    "#Maybe salary will help? Lets find out. \n",
    "features_list = ['poi', 'bonus', 'deferred_income',\n",
    " 'exercised_stock_options', 'expenses', 'from_messages',\n",
    " 'from_poi_to_this_person', 'from_this_person_to_poi', 'loan_advances',\n",
    " 'long_term_incentive', 'restricted_stock',\n",
    " 'restricted_stock_deferred',  'shared_receipt_with_poi', 'to_messages',\n",
    "'total_payments', 'total_stock_value' ]\n",
    "\n",
    "\n",
    "#Nope. Our precision went down, so we are now going in the wrong direction. lets add salary back.\n",
    "test_classifier(clf, dataset, features_list, folds = 1000);"
   ]
  },
  {
   "cell_type": "code",
   "execution_count": 72,
   "metadata": {
    "collapsed": false
   },
   "outputs": [
    {
     "name": "stdout",
     "output_type": "stream",
     "text": [
      "GaussianNB(priors=None)\n",
      "\tAccuracy: 0.79600\tPrecision: 0.30741\tRecall: 0.42300\tF1: 0.35606\tF2: 0.39342\n",
      "\tTotal predictions: 15000\tTrue positives:  846\tFalse positives: 1906\tFalse negatives: 1154\tTrue negatives: 11094\n",
      "\n"
     ]
    }
   ],
   "source": [
    "#Maybe to_messages? Lets see\n",
    "features_list = ['poi', 'bonus', 'deferred_income',\n",
    " 'exercised_stock_options', 'expenses', 'from_messages',\n",
    " 'from_poi_to_this_person', 'from_this_person_to_poi', 'loan_advances',\n",
    " 'long_term_incentive', 'restricted_stock',\n",
    " 'restricted_stock_deferred', 'salary', 'shared_receipt_with_poi',\n",
    "'total_payments', 'total_stock_value' ]\n",
    "\n",
    "\n",
    "#Yes! we do achieve a greater than 30% precision\n",
    "test_classifier(clf, dataset, features_list, folds = 1000);"
   ]
  },
  {
   "cell_type": "code",
   "execution_count": 73,
   "metadata": {
    "collapsed": false
   },
   "outputs": [
    {
     "name": "stdout",
     "output_type": "stream",
     "text": [
      "GaussianNB(priors=None)\n",
      "\tAccuracy: 0.79600\tPrecision: 0.30741\tRecall: 0.42300\tF1: 0.35606\tF2: 0.39342\n",
      "\tTotal predictions: 15000\tTrue positives:  846\tFalse positives: 1906\tFalse negatives: 1154\tTrue negatives: 11094\n",
      "\n"
     ]
    }
   ],
   "source": [
    "#Final subset feature list for Naive Bayes\n",
    "# features_list = ['poi', 'bonus', 'deferred_income',\n",
    "#  'exercised_stock_options', 'expenses', 'from_messages',\n",
    "#  'from_poi_to_this_person', 'from_this_person_to_poi', 'loan_advances',\n",
    "#  'long_term_incentive', 'restricted_stock',\n",
    "#  'restricted_stock_deferred', 'salary', 'shared_receipt_with_poi',\n",
    "# 'total_payments', 'total_stock_value' ]\n",
    "\n",
    "# test_classifier(clf, dataset, features_list, folds = 1000);"
   ]
  },
  {
   "cell_type": "markdown",
   "metadata": {},
   "source": [
    "<h3>Decision Tree Classifier</h3>"
   ]
  },
  {
   "cell_type": "code",
   "execution_count": 75,
   "metadata": {
    "collapsed": false
   },
   "outputs": [
    {
     "name": "stdout",
     "output_type": "stream",
     "text": [
      "DecisionTreeClassifier(class_weight=None, criterion='gini', max_depth=None,\n",
      "            max_features=None, max_leaf_nodes=None,\n",
      "            min_impurity_split=1e-07, min_samples_leaf=1,\n",
      "            min_samples_split=2, min_weight_fraction_leaf=0.0,\n",
      "            presort=False, random_state=None, splitter='best')\n",
      "\tAccuracy: 0.81013\tPrecision: 0.28077\tRecall: 0.27150\tF1: 0.27605\tF2: 0.27330\n",
      "\tTotal predictions: 15000\tTrue positives:  543\tFalse positives: 1391\tFalse negatives: 1457\tTrue negatives: 11609\n",
      "\n"
     ]
    }
   ],
   "source": [
    "#Running the same feature list for a Decision Tree Classifier, we get much different results\n",
    "features_list = ['poi', 'bonus', 'deferred_income',\n",
    " 'exercised_stock_options', 'expenses', 'from_messages',\n",
    " 'from_poi_to_this_person', 'from_this_person_to_poi', 'loan_advances',\n",
    " 'long_term_incentive', 'restricted_stock',\n",
    " 'restricted_stock_deferred', 'salary', 'shared_receipt_with_poi',\n",
    "'total_payments', 'total_stock_value' ]\n",
    "\n",
    "#Now, niether our Precision nor recall are above 30%\n",
    "test_classifier(clf, dataset, features_list, folds = 1000);"
   ]
  },
  {
   "cell_type": "code",
   "execution_count": 76,
   "metadata": {
    "collapsed": false
   },
   "outputs": [
    {
     "name": "stdout",
     "output_type": "stream",
     "text": [
      "DecisionTreeClassifier(class_weight=None, criterion='gini', max_depth=None,\n",
      "            max_features=None, max_leaf_nodes=None,\n",
      "            min_impurity_split=1e-07, min_samples_leaf=1,\n",
      "            min_samples_split=2, min_weight_fraction_leaf=0.0,\n",
      "            presort=False, random_state=None, splitter='best')\n",
      "\tAccuracy: 0.80767\tPrecision: 0.29748\tRecall: 0.32500\tF1: 0.31063\tF2: 0.31910\n",
      "\tTotal predictions: 15000\tTrue positives:  650\tFalse positives: 1535\tFalse negatives: 1350\tTrue negatives: 11465\n",
      "\n"
     ]
    }
   ],
   "source": [
    "#Removing bonus we have recall above 30% and Precision less than 1% away.\n",
    "features_list = ['poi', 'deferred_income',\n",
    " 'exercised_stock_options', 'expenses', 'from_messages',\n",
    " 'from_poi_to_this_person', 'from_this_person_to_poi', 'loan_advances',\n",
    " 'long_term_incentive', 'restricted_stock',\n",
    " 'restricted_stock_deferred', 'salary', 'shared_receipt_with_poi',\n",
    "'total_payments', 'total_stock_value' ]\n",
    "\n",
    "test_classifier(clf, dataset, features_list, folds = 1000);"
   ]
  },
  {
   "cell_type": "code",
   "execution_count": 78,
   "metadata": {
    "collapsed": false
   },
   "outputs": [
    {
     "name": "stdout",
     "output_type": "stream",
     "text": [
      "DecisionTreeClassifier(class_weight=None, criterion='gini', max_depth=None,\n",
      "            max_features=None, max_leaf_nodes=None,\n",
      "            min_impurity_split=1e-07, min_samples_leaf=1,\n",
      "            min_samples_split=2, min_weight_fraction_leaf=0.0,\n",
      "            presort=False, random_state=None, splitter='best')\n",
      "\tAccuracy: 0.81660\tPrecision: 0.33078\tRecall: 0.36700\tF1: 0.34795\tF2: 0.35913\n",
      "\tTotal predictions: 15000\tTrue positives:  734\tFalse positives: 1485\tFalse negatives: 1266\tTrue negatives: 11515\n",
      "\n"
     ]
    }
   ],
   "source": [
    "#Now Removing restricted stock we are over 30% for both Recall and Precision\n",
    "features_list = ['poi', 'deferred_income',\n",
    " 'exercised_stock_options', 'expenses', 'from_messages',\n",
    " 'from_poi_to_this_person', 'from_this_person_to_poi', 'loan_advances',\n",
    " 'long_term_incentive',\n",
    " 'restricted_stock_deferred', 'salary', 'shared_receipt_with_poi',\n",
    "'total_payments', 'total_stock_value' ]\n",
    "\n",
    "test_classifier(clf, dataset, features_list, folds = 1000);"
   ]
  },
  {
   "cell_type": "code",
   "execution_count": 80,
   "metadata": {
    "collapsed": false
   },
   "outputs": [
    {
     "name": "stdout",
     "output_type": "stream",
     "text": [
      "DecisionTreeClassifier(class_weight=None, criterion='gini', max_depth=None,\n",
      "            max_features=None, max_leaf_nodes=None,\n",
      "            min_impurity_split=1e-07, min_samples_leaf=1,\n",
      "            min_samples_split=2, min_weight_fraction_leaf=0.0,\n",
      "            presort=False, random_state=None, splitter='best')\n",
      "\tAccuracy: 0.81260\tPrecision: 0.32002\tRecall: 0.36050\tF1: 0.33905\tF2: 0.35160\n",
      "\tTotal predictions: 15000\tTrue positives:  721\tFalse positives: 1532\tFalse negatives: 1279\tTrue negatives: 11468\n",
      "\n"
     ]
    }
   ],
   "source": [
    "#Final Feature list for decision tree\n",
    "features_list = ['poi', 'deferred_income',\n",
    " 'exercised_stock_options', 'expenses', 'from_messages',\n",
    " 'from_poi_to_this_person', 'from_this_person_to_poi', 'loan_advances',\n",
    " 'long_term_incentive',\n",
    " 'restricted_stock_deferred', 'salary', 'shared_receipt_with_poi',\n",
    "'total_payments', 'total_stock_value' ]\n",
    "\n",
    "\n",
    "test_classifier(clf, dataset, features_list, folds = 1000);"
   ]
  },
  {
   "cell_type": "code",
   "execution_count": 27,
   "metadata": {
    "collapsed": true
   },
   "outputs": [],
   "source": [
    "### Task 6: Dump your classifier, dataset, and features_list so anyone can\n",
    "### check your results. You do not need to change anything below, but make sure\n",
    "### that the version of poi_id.py that you submit can be run on its own and\n",
    "### generates the necessary .pkl files for validating your results.\n",
    "dump_classifier_and_data(clf, dataset, features_list)"
   ]
  },
  {
   "cell_type": "code",
   "execution_count": null,
   "metadata": {
    "collapsed": false
   },
   "outputs": [],
   "source": []
  },
  {
   "cell_type": "code",
   "execution_count": null,
   "metadata": {
    "collapsed": true
   },
   "outputs": [],
   "source": []
  },
  {
   "cell_type": "code",
   "execution_count": null,
   "metadata": {
    "collapsed": true
   },
   "outputs": [],
   "source": []
  },
  {
   "cell_type": "code",
   "execution_count": null,
   "metadata": {
    "collapsed": true
   },
   "outputs": [],
   "source": []
  },
  {
   "cell_type": "code",
   "execution_count": null,
   "metadata": {
    "collapsed": true
   },
   "outputs": [],
   "source": []
  },
  {
   "cell_type": "code",
   "execution_count": null,
   "metadata": {
    "collapsed": true
   },
   "outputs": [],
   "source": []
  }
 ],
 "metadata": {
  "kernelspec": {
   "display_name": "Python 2",
   "language": "python",
   "name": "python2"
  },
  "language_info": {
   "codemirror_mode": {
    "name": "ipython",
    "version": 2
   },
   "file_extension": ".py",
   "mimetype": "text/x-python",
   "name": "python",
   "nbconvert_exporter": "python",
   "pygments_lexer": "ipython2",
   "version": "2.7.13"
  }
 },
 "nbformat": 4,
 "nbformat_minor": 2
}
